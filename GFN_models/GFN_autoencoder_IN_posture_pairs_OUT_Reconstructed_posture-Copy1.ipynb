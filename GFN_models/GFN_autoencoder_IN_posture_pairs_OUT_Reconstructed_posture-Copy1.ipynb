{
 "cells": [
  {
   "cell_type": "markdown",
   "metadata": {},
   "source": [
    "## Gated Field Network Autoencoder\n",
    "### In  : Image & Posture\n",
    "### Out : latent image/posture representation\n"
   ]
  },
  {
   "cell_type": "code",
   "execution_count": 1,
   "metadata": {},
   "outputs": [
    {
     "name": "stderr",
     "output_type": "stream",
     "text": [
      "Using TensorFlow backend.\n"
     ]
    }
   ],
   "source": [
    "import tensorflow as tf\n",
    "import time\n",
    "import scipy\n",
    "import math \n",
    "import cv2\n",
    "import cPickle as pickle\n",
    "import random\n",
    "import numpy as np\n",
    "import matplotlib.pyplot as plt\n",
    "import keras\n",
    "\n",
    "from keras.models import Model\n",
    "from keras.layers import Activation, Dense, Input, Multiply\n",
    "from keras.layers import Conv2D, Flatten, Reshape, Conv2DTranspose\n",
    "from keras.layers import Dot, Lambda, Concatenate, RepeatVector\n",
    "from keras.utils import plot_model \n",
    "from PIL import Image\n",
    "from keras.constraints import max_norm, non_neg "
   ]
  },
  {
   "cell_type": "code",
   "execution_count": 2,
   "metadata": {},
   "outputs": [],
   "source": [
    "pos_size = 3\n",
    "img_size = 218\n",
    "input_encoder_shape = (2, pos_size,)\n",
    "latent_dim = 32\n",
    "input_decoder_shape = (1, 2*latent_dim,)"
   ]
  },
  {
   "cell_type": "code",
   "execution_count": 11,
   "metadata": {},
   "outputs": [],
   "source": [
    "def build_encoder(input_shape = input_encoder_shape):\n",
    "    \n",
    "    inputs = Input(shape = input_shape, name = 'encoder_input')\n",
    "    \n",
    "    x = Lambda(lambda x: x[:,0,:])(inputs)\n",
    "    x = Reshape((1,pos_size,))(x)\n",
    "\n",
    "    y = Lambda(lambda x: x[:,1,:])(inputs)\n",
    "    y = Reshape((1,pos_size,))(y)\n",
    "\n",
    "    fx = Flatten()(x)\n",
    "    fx = Dense(latent_dim, activation = 'relu', name = 'latent_enc_fx1')(fx)\n",
    "    fx = Dense(latent_dim, activation = 'relu', name = 'latent_enc_fx2')(fx)\n",
    "    fx = Dense(latent_dim, activation = 'relu', name = 'latent_enc_fx3')(fx)\n",
    "    fx = Reshape((latent_dim,1,))(fx)\n",
    "\n",
    "    fy = Flatten()(y)\n",
    "    fy = Dense(latent_dim, activation = 'relu', name = 'latent_enc_fy1')(fy)\n",
    "    fy = Dense(latent_dim, activation = 'relu', name = 'latent_enc_fy2')(fy)\n",
    "    fy = Dense(latent_dim, activation = 'relu', name = 'latent_enc_fy3')(fy)\n",
    "    fy = Reshape((1,latent_dim,))(fy)\n",
    "\n",
    "    matmul = Multiply()([fx, fy])\n",
    "\n",
    "    fh = Flatten()(matmul)\n",
    "    fh = Dense(latent_dim, name = 'latent_fh1')(fh)\n",
    "    fh = Dense(latent_dim, name = 'latent_fh2')(fh)\n",
    "    fh = Dense(latent_dim, name = 'latent_fh3')(fh)\n",
    "    \n",
    "    fx = Reshape((1, latent_dim,))(fx)\n",
    "    fh = Reshape((1,latent_dim,))(fh)\n",
    "    \n",
    "    outputs = Concatenate()([fx, fh])\n",
    "    encoder = Model(inputs = inputs, outputs = outputs, name = 'encoder_model')\n",
    "    \n",
    "    return encoder\n",
    "\n",
    "def build_decoder(input_shape = input_decoder_shape):\n",
    "    \n",
    "    inputs = Input(shape = input_shape, name = 'decoder_input')\n",
    "    \n",
    "    fx = Lambda(lambda x: x[:,:,:latent_dim])(inputs)\n",
    "    fx = Reshape((latent_dim,1,))(fx)\n",
    "    \n",
    "    fh = Lambda(lambda x: x[:,:,latent_dim:])(inputs)\n",
    "        \n",
    "    fh = Flatten()(fh)\n",
    "    fh = Dense(latent_dim, name = 'latent_dec_fh1')(fh)\n",
    "    fh = Dense(latent_dim, name = 'latent_dec_fh2')(fh)\n",
    "    fh = Dense(latent_dim, name = 'latent_dec_fh3')(fh)\n",
    "    fh = Reshape((1,latent_dim,))(fh)\n",
    "                                              \n",
    "    matmul = Multiply()([fx, fh])\n",
    "    \n",
    "    fy = Flatten()(matmul)\n",
    "    fy = Dense(latent_dim, name = 'latent_dec_fy1')(fy)\n",
    "    fy = Dense(latent_dim, name = 'latent_dec_fy2')(fy)\n",
    "    fy = Dense(latent_dim, name = 'latent_dec_fy3')(fy)\n",
    "    \n",
    "    y = Dense(pos_size, activation = 'relu', name = 'y_recon')(fy)\n",
    "    outputs = Reshape((1,pos_size,))(y)\n",
    "\n",
    "    decoder = Model(inputs = inputs, outputs = outputs, name = 'decoder_model')\n",
    "    \n",
    "    return decoder\n",
    "    \n",
    "def build_autoencoder():\n",
    "    encoder = build_encoder(input_shape = input_encoder_shape)\n",
    "    decoder = build_decoder(input_shape = input_decoder_shape)\n",
    "    \n",
    "    autoencoder = Model(inputs = encoder.inputs, outputs = decoder(encoder(encoder.inputs)))\n",
    "    \n",
    "    return autoencoder"
   ]
  },
  {
   "cell_type": "code",
   "execution_count": 12,
   "metadata": {},
   "outputs": [],
   "source": [
    "a = build_autoencoder()"
   ]
  },
  {
   "cell_type": "code",
   "execution_count": 13,
   "metadata": {},
   "outputs": [
    {
     "name": "stdout",
     "output_type": "stream",
     "text": [
      "_________________________________________________________________\n",
      "Layer (type)                 Output Shape              Param #   \n",
      "=================================================================\n",
      "encoder_input (InputLayer)   (None, 2, 3)              0         \n",
      "_________________________________________________________________\n",
      "encoder_model (Model)        (None, 1, 64)             39392     \n",
      "_________________________________________________________________\n",
      "decoder_model (Model)        (None, 1, 3)              38179     \n",
      "=================================================================\n",
      "Total params: 77,571\n",
      "Trainable params: 77,571\n",
      "Non-trainable params: 0\n",
      "_________________________________________________________________\n"
     ]
    }
   ],
   "source": [
    "a.summary()"
   ]
  },
  {
   "cell_type": "code",
   "execution_count": null,
   "metadata": {},
   "outputs": [],
   "source": []
  }
 ],
 "metadata": {
  "kernelspec": {
   "display_name": "Python 2",
   "language": "python",
   "name": "python2"
  },
  "language_info": {
   "codemirror_mode": {
    "name": "ipython",
    "version": 2
   },
   "file_extension": ".py",
   "mimetype": "text/x-python",
   "name": "python",
   "nbconvert_exporter": "python",
   "pygments_lexer": "ipython2",
   "version": "2.7.15rc1"
  }
 },
 "nbformat": 4,
 "nbformat_minor": 2
}
