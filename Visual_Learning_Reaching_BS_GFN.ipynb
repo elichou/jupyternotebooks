{
 "cells": [
  {
   "cell_type": "markdown",
   "metadata": {},
   "source": [
    "# Transformation visuelle pour reconstruction d'image corporelle"
   ]
  },
  {
   "cell_type": "markdown",
   "metadata": {},
   "source": [
    "## Objectifs\n",
    "L'objectif est d'améliorer le code de network2_01.py. \n",
    "Plusieurs pistes d'amélioration sont possibles:\n",
    "1. Utiliser un produit tensoriel plutôt qu'un produit terme à terme.\n",
    "2. Différencier la cible de la main.\n",
    "3. Intégerer tf.\n",
    "4. changer la répartition des points. \n",
    "\n",
    "Je m'inspire de l'article de Memisevic, Gradient-based learning of higher-order image features et de son code gatedAutoencoder.py."
   ]
  },
  {
   "cell_type": "markdown",
   "metadata": {},
   "source": [
    "## Imports et setup\n",
    "\n",
    "\n",
    "\n"
   ]
  },
  {
   "cell_type": "code",
   "execution_count": 1,
   "metadata": {},
   "outputs": [
    {
     "name": "stderr",
     "output_type": "stream",
     "text": [
      "Using TensorFlow backend.\n"
     ]
    }
   ],
   "source": [
    "from numpy import *\n",
    "from matplotlib.pylab import *\n",
    "from mpl_toolkits.mplot3d import Axes3D\n",
    "from drawnow import *\n",
    "from skimage.draw import line, line_aa\n",
    "\n",
    "import time \n",
    "import random\n",
    "import scipy\n",
    "import math\n",
    "import cv2\n",
    "import cPickle as pickle\n",
    "\n",
    "import keras\n"
   ]
  },
  {
   "cell_type": "code",
   "execution_count": 2,
   "metadata": {},
   "outputs": [],
   "source": [
    "matplotlib.rcParams.update({'font.size':16})\n",
    "to_backup = True\n",
    "timeframe = time.strftime('%Y%m%d%H%M%S')\n",
    "L1 = 8\n",
    "L2 = 4\n",
    "L3 = 2\n",
    "\n",
    "nb_posture = 300\n",
    "nb_command = 100\n",
    "nb_joint = 3\n",
    "nb_data = nb_command*nb_posture\n",
    "img_size = 32"
   ]
  },
  {
   "cell_type": "markdown",
   "metadata": {},
   "source": [
    "## Construction de la base de données"
   ]
  },
  {
   "cell_type": "markdown",
   "metadata": {},
   "source": [
    "1. On génère n postures différentes aléatoirement, X.\n",
    "2. On génère m commandes aléatoirement, H. \n",
    "3. On applique chaque commande à chaque posture et on obtient des nouvelles postures Y."
   ]
  },
  {
   "cell_type": "markdown",
   "metadata": {},
   "source": [
    "### Génération des postures initiales"
   ]
  },
  {
   "cell_type": "code",
   "execution_count": null,
   "metadata": {},
   "outputs": [],
   "source": [
    "def randrange(n , vmin, vmax):\n",
    "    return (vmax-vmin)*rand(n) + vmin "
   ]
  },
  {
   "cell_type": "code",
   "execution_count": 4,
   "metadata": {
    "scrolled": true
   },
   "outputs": [],
   "source": [
    "posture = zeros((nb_posture, 3))\n",
    "posture[:,0] = randrange(nb_posture, 0, pi)\n",
    "posture[:,1] = randrange(nb_posture, 0, pi)\n",
    "posture[:,2] =randrange(nb_posture, 0, pi)"
   ]
  },
  {
   "cell_type": "code",
   "execution_count": 5,
   "metadata": {},
   "outputs": [
    {
     "name": "stdout",
     "output_type": "stream",
     "text": [
      "(300, 3)\n",
      "[2.39809887 0.08315459 2.06592509]\n"
     ]
    }
   ],
   "source": [
    "print(shape(posture))\n",
    "print(posture[0])"
   ]
  },
  {
   "cell_type": "markdown",
   "metadata": {},
   "source": [
    "### Génération des commandes "
   ]
  },
  {
   "cell_type": "code",
   "execution_count": 6,
   "metadata": {},
   "outputs": [],
   "source": [
    "command = zeros((nb_command, 3))\n",
    "command[:,0] = randrange(nb_command, 0, 1)*0.9\n",
    "command[:,1] = randrange(nb_command, 0, 1)*0.9\n",
    "command[:,2] =randrange(nb_command, 0, 1)*0.5"
   ]
  },
  {
   "cell_type": "code",
   "execution_count": 7,
   "metadata": {},
   "outputs": [
    {
     "name": "stdout",
     "output_type": "stream",
     "text": [
      "(100, 3)\n",
      "[0.09861677 0.88114352 0.07639193]\n",
      "81\n"
     ]
    }
   ],
   "source": [
    "print(shape(command))\n",
    "print(command[0])\n",
    "print(randint(0,nb_command-1))"
   ]
  },
  {
   "cell_type": "markdown",
   "metadata": {},
   "source": [
    "### Génération des données d'entraînement"
   ]
  },
  {
   "cell_type": "code",
   "execution_count": 8,
   "metadata": {},
   "outputs": [],
   "source": [
    "train_data_x = zeros((nb_data, 1, 3))\n",
    "train_data_y = zeros((nb_data, 1, 3))\n",
    "train_data_h = zeros((nb_data, 1, 3))"
   ]
  },
  {
   "cell_type": "code",
   "execution_count": 9,
   "metadata": {},
   "outputs": [
    {
     "name": "stdout",
     "output_type": "stream",
     "text": [
      "[0. 0. 0.]\n",
      "(30000, 1, 3)\n"
     ]
    }
   ],
   "source": [
    "print(train_data_x[0][0])\n",
    "print(shape(train_data_x))"
   ]
  },
  {
   "cell_type": "code",
   "execution_count": 10,
   "metadata": {},
   "outputs": [],
   "source": [
    "idx = 0 \n",
    "for i in range(nb_posture):\n",
    "    for j in range(nb_command):\n",
    "        train_data_x[idx] = posture[i]\n",
    "        idx = idx + 1\n",
    "\n",
    "idx = 0 \n",
    "for i in range(nb_posture):\n",
    "    for j in range(nb_command):\n",
    "        train_data_y[idx] = posture[i]  + command[j]\n",
    "        idx = idx + 1\n",
    "        \n",
    "idx = 0 \n",
    "for i in range(nb_posture):\n",
    "    for j in range(nb_command):\n",
    "        train_data_h[idx] = command[j]\n",
    "        idx = idx + 1"
   ]
  },
  {
   "cell_type": "code",
   "execution_count": 11,
   "metadata": {},
   "outputs": [
    {
     "name": "stdout",
     "output_type": "stream",
     "text": [
      "('train_data_x 0 0 ', array([2.39809887, 0.08315459, 2.06592509]))\n",
      "('train_data_h 0 0 ', array([0.09861677, 0.88114352, 0.07639193]))\n",
      "('train_data_y 0 0 ', array([2.49671564, 0.96429811, 2.14231702]))\n",
      "y = x + h\n"
     ]
    }
   ],
   "source": [
    "print('train_data_x 0 0 ', train_data_x[0][0])\n",
    "print('train_data_h 0 0 ', train_data_h[0][0])\n",
    "print('train_data_y 0 0 ', train_data_y[0][0])\n",
    "print('y = x + h')"
   ]
  },
  {
   "cell_type": "markdown",
   "metadata": {},
   "source": [
    "### Génération des images associées"
   ]
  },
  {
   "cell_type": "code",
   "execution_count": 12,
   "metadata": {},
   "outputs": [],
   "source": [
    "n = 64\n",
    "train_images_x = zeros((nb_data, 1, img_size, img_size ), dtype = uint8)\n",
    "train_images_y = zeros((nb_data, 1, img_size, img_size ), dtype = uint8)"
   ]
  },
  {
   "cell_type": "code",
   "execution_count": 13,
   "metadata": {},
   "outputs": [],
   "source": [
    "for i in range(nb_data):\n",
    "    img = zeros((img_size,img_size), dtype = uint8)\n",
    "    angle = train_data_x[i][0] \n",
    "    row1, col1 = img_size//2 + int(floor(L1*sin(angle[0]))), img_size//2 + int(floor(L1*cos(angle[0])))\n",
    "    row2, col2 =  int(floor(L2*sin(angle[1]))) + row1, col1 + int(floor(L2*cos(angle[1])))\n",
    "    row3, col3 = int(floor(L3*sin(angle[2])))+ row2, col2 +  int(floor(L3*cos(angle[2])))\n",
    "    r1, c1, val1 = line_aa(img_size//2,img_size//2,row1, col1)\n",
    "    r2, c2, val2 = line_aa(row1, col1, row2, col2)\n",
    "    r3, c3, val3 = line_aa(row2, col2, row3 , col3)\n",
    "    img[r1,c1] = val1*255\n",
    "    img[r2,c2] = val2*255\n",
    "    img[r3,c3] = val3*255\n",
    "    train_images_x[i][0] = img \n",
    "\n",
    "for i in range(nb_data):\n",
    "    img = zeros((img_size,img_size), dtype = uint8)\n",
    "    angle = train_data_y[i][0] \n",
    "    row1, col1 = img_size//2 + int(floor(L1*sin(angle[0]))), img_size//2 + int(floor(L1*cos(angle[0])))\n",
    "    row2, col2 =  int(floor(L2*sin(angle[1]))) + row1, col1 + int(floor(L2*cos(angle[1])))\n",
    "    row3, col3 = int(floor(L3*sin(angle[2])))+ row2, col2 +  int(floor(L3*cos(angle[2])))\n",
    "    r1, c1, val1 = line_aa(img_size//2,img_size//2,row1, col1)\n",
    "    r2, c2, val2 = line_aa(row1, col1, row2, col2)\n",
    "    r3, c3, val3 = line_aa(row2, col2, row3 , col3)\n",
    "    img[r1,c1] = val1*255\n",
    "    img[r2,c2] = val2*255\n",
    "    img[r3,c3] = val3*255\n",
    "    train_images_y[i][0] = img "
   ]
  },
  {
   "cell_type": "code",
   "execution_count": 14,
   "metadata": {},
   "outputs": [
    {
     "name": "stdout",
     "output_type": "stream",
     "text": [
      "('taille train_images_x', (30000, 1, 32, 32))\n",
      "('taille train_images_y', (30000, 1, 32, 32))\n",
      "('taille train_features', (30000, 2, 32, 32))\n"
     ]
    }
   ],
   "source": [
    "print('taille train_images_x', shape(train_images_x))\n",
    "print('taille train_images_y', shape(train_images_y))\n",
    "train_features = concatenate((train_images_x, train_images_y), 1)\n",
    "print('taille train_features', shape(train_features))"
   ]
  },
  {
   "cell_type": "markdown",
   "metadata": {},
   "source": [
    "On peut rajouter une gaussienne au bout de l'effecteur pour le mettre en évidence\n",
    "TODO"
   ]
  },
  {
   "cell_type": "code",
   "execution_count": 15,
   "metadata": {},
   "outputs": [],
   "source": [
    "\n",
    "def makeGaussian(size, fwhm = 3, center=None):\n",
    "    \"\"\" Make a square gaussian kernel.\n",
    "    size is the length of a side of the square\n",
    "    fwhm is full-width-half-maximum, which\n",
    "    can be thought of as an effective radius.\n",
    "    \"\"\"\n",
    "    x = arange(0, size, 1, float)\n",
    "    y = x[:,newaxis]\n",
    "    if center is None:\n",
    "        x0 = y0 = size // 2\n",
    "    else:\n",
    "        x0 = center[0]\n",
    "        y0 = center[1]    \n",
    "    return exp(-4*log(2) * ((x-x0)**2 + (y-y0)**2) / fwhm**2)\n"
   ]
  },
  {
   "cell_type": "markdown",
   "metadata": {},
   "source": [
    "### Exemples d'images"
   ]
  },
  {
   "cell_type": "code",
   "execution_count": 16,
   "metadata": {},
   "outputs": [
    {
     "data": {
      "text/plain": [
       "<matplotlib.image.AxesImage at 0x7fbe090b5490>"
      ]
     },
     "execution_count": 16,
     "metadata": {},
     "output_type": "execute_result"
    },
    {
     "data": {
      "image/png": "[encoded data removed]",
      "text/plain": [
       "<Figure size 432x288 with 1 Axes>"
      ]
     },
     "metadata": {
      "needs_background": "light"
     },
     "output_type": "display_data"
    }
   ],
   "source": [
    "imshow(train_images_x[0][0])"
   ]
  },
  {
   "cell_type": "code",
   "execution_count": 17,
   "metadata": {},
   "outputs": [
    {
     "data": {
      "text/plain": [
       "<matplotlib.image.AxesImage at 0x7fbe06184a90>"
      ]
     },
     "execution_count": 17,
     "metadata": {},
     "output_type": "execute_result"
    },
    {
     "data": {
      "image/png": "[encoded data removed]",
      "text/plain": [
       "<Figure size 432x288 with 1 Axes>"
      ]
     },
     "metadata": {
      "needs_background": "light"
     },
     "output_type": "display_data"
    }
   ],
   "source": [
    "imshow(train_images_y[0][0])"
   ]
  },
  {
   "cell_type": "markdown",
   "metadata": {},
   "source": [
    "## Factorized Gated Field Auto-encoder"
   ]
  },
  {
   "cell_type": "markdown",
   "metadata": {},
   "source": [
    "Avant le passge dans l'autoencodeur, les images sont factorisées en passant par une couche de percpetron. De même, la couche latente est factorisée.\n",
    "Les images sont de taille (128,128), on prend pour commencer 32 neurones. \n",
    "La sortie est de taille (3,1) (trois moteurs), on prend pour commencer une factorisation de taille (32,1) (synérgies motrices)."
   ]
  },
  {
   "cell_type": "markdown",
   "metadata": {},
   "source": [
    "On a donc un encodeur, un décodeur et 3 couches de perceptrons pour les deux images et pour les commandes motrices."
   ]
  },
  {
   "cell_type": "markdown",
   "metadata": {},
   "source": [
    "On commence par construire un auto encodeur dont les entrées sont un tenseur de taille (32,1) et de sortie (32,1), pour garder la symétrie de la structure.\n"
   ]
  },
  {
   "cell_type": "code",
   "execution_count": 18,
   "metadata": {},
   "outputs": [],
   "source": [
    "from keras.models import Model\n",
    "from keras.layers import Activation, Dense, Input, Multiply\n",
    "from keras.layers import Conv2D, Flatten, Reshape\n",
    "from keras.layers import Dot, Lambda, Concatenate, RepeatVector\n",
    "from keras import backend as K\n"
   ]
  },
  {
   "cell_type": "markdown",
   "metadata": {},
   "source": [
    "### Création de l'encodeur "
   ]
  },
  {
   "cell_type": "code",
   "execution_count": 19,
   "metadata": {
    "scrolled": true
   },
   "outputs": [
    {
     "name": "stdout",
     "output_type": "stream",
     "text": [
      "('taille initiale inputs_xy', (None, 2, 32, 32))\n",
      "('taille intiale de x', (None, 1, 32, 32))\n",
      "('taille initiale de y', (None, 1, 32, 32))\n",
      "WARNING:tensorflow:From /usr/local/lib/python2.7/dist-packages/tensorflow/python/framework/op_def_library.py:263: colocate_with (from tensorflow.python.framework.ops) is deprecated and will be removed in a future version.\n",
      "Instructions for updating:\n",
      "Colocations handled automatically by placer.\n",
      "('taille inter fx', (None, 32, 1))\n",
      "('taille inter fy', (None, 32, 1))\n",
      "('taill inter matmul', (None, 32, 1))\n",
      "('out taille', (None, 1, 64))\n",
      "__________________________________________________________________________________________________\n",
      "Layer (type)                    Output Shape         Param #     Connected to                     \n",
      "==================================================================================================\n",
      "xy (InputLayer)                 (None, 2, 32, 32)    0                                            \n",
      "__________________________________________________________________________________________________\n",
      "lambda_1 (Lambda)               (None, 32, 32)       0           xy[0][0]                         \n",
      "__________________________________________________________________________________________________\n",
      "lambda_2 (Lambda)               (None, 32, 32)       0           xy[0][0]                         \n",
      "__________________________________________________________________________________________________\n",
      "reshape_1 (Reshape)             (None, 1, 32, 32)    0           lambda_1[0][0]                   \n",
      "__________________________________________________________________________________________________\n",
      "reshape_2 (Reshape)             (None, 1, 32, 32)    0           lambda_2[0][0]                   \n",
      "__________________________________________________________________________________________________\n",
      "flatten_1 (Flatten)             (None, 1024)         0           reshape_1[0][0]                  \n",
      "__________________________________________________________________________________________________\n",
      "flatten_2 (Flatten)             (None, 1024)         0           reshape_2[0][0]                  \n",
      "__________________________________________________________________________________________________\n",
      "latent_fx (Dense)               (None, 32)           32800       flatten_1[0][0]                  \n",
      "__________________________________________________________________________________________________\n",
      "latent_fy (Dense)               (None, 32)           32800       flatten_2[0][0]                  \n",
      "__________________________________________________________________________________________________\n",
      "reshape_3 (Reshape)             (None, 32, 1)        0           latent_fx[0][0]                  \n",
      "__________________________________________________________________________________________________\n",
      "reshape_4 (Reshape)             (None, 32, 1)        0           latent_fy[0][0]                  \n",
      "__________________________________________________________________________________________________\n",
      "multiply_1 (Multiply)           (None, 32, 1)        0           reshape_3[0][0]                  \n",
      "                                                                 reshape_4[0][0]                  \n",
      "__________________________________________________________________________________________________\n",
      "flatten_3 (Flatten)             (None, 32)           0           multiply_1[0][0]                 \n",
      "__________________________________________________________________________________________________\n",
      "latent_fh (Dense)               (None, 32)           1056        flatten_3[0][0]                  \n",
      "__________________________________________________________________________________________________\n",
      "reshape_5 (Reshape)             (None, 32)           0           latent_fh[0][0]                  \n",
      "__________________________________________________________________________________________________\n",
      "reshape_6 (Reshape)             (None, 1, 32)        0           reshape_3[0][0]                  \n",
      "__________________________________________________________________________________________________\n",
      "reshape_7 (Reshape)             (None, 1, 32)        0           reshape_5[0][0]                  \n",
      "__________________________________________________________________________________________________\n",
      "concatenate_1 (Concatenate)     (None, 1, 64)        0           reshape_6[0][0]                  \n",
      "                                                                 reshape_7[0][0]                  \n",
      "==================================================================================================\n",
      "Total params: 66,656\n",
      "Trainable params: 66,656\n",
      "Non-trainable params: 0\n",
      "__________________________________________________________________________________________________\n"
     ]
    }
   ],
   "source": [
    "input_size = 128\n",
    "input_shape = (2, input_size, input_size)\n",
    "latent_dim = 32 # plus facile pour la concaténation des outputs...\n",
    "\n",
    "# on donne en entrée des pairs d'images\n",
    "inputs_xy = Input(shape = (2, img_size, img_size,  ), name = 'xy')\n",
    "\n",
    "# on sépare chacune des images\n",
    "x = Lambda(lambda x: x[:,0,:,:])(inputs_xy)\n",
    "x = Reshape((1,img_size, img_size,))(x)\n",
    "\n",
    "y = Lambda(lambda x: x[:,1,:,:])(inputs_xy)\n",
    "y = Reshape((1,img_size, img_size,))(y)\n",
    "\n",
    "print('taille initiale inputs_xy', K.int_shape(inputs_xy))\n",
    "print('taille intiale de x', K.int_shape(x))\n",
    "print('taille initiale de y', K.int_shape(y))\n",
    "\n",
    "# on factorise chacune des images\n",
    "fx = Flatten()(x)\n",
    "fx = Dense(latent_dim, activation = 'relu', name = 'latent_fx')(fx)\n",
    "fx = Reshape((latent_dim,1,))(fx)\n",
    "\n",
    "fy = Flatten()(y)\n",
    "fy = Dense(latent_dim, activation = 'relu', name = 'latent_fy')(fy)\n",
    "fy = Reshape((latent_dim,1,))(fy)\n",
    "\n",
    "# on multiplie les deux factorisations, TODO mieux si produit tensoriel\n",
    "matmul = Multiply()([fx, fy])\n",
    "\n",
    "print('taille inter fx', K.int_shape(fx))\n",
    "print('taille inter fy', K.int_shape(fy))\n",
    "print('taill inter matmul', K.int_shape(matmul))\n",
    "\n",
    "# on passe le tout dans une couche de perceptrons pour obtenir les synérgies motrices\n",
    "x = Flatten()(matmul)\n",
    "fh = Dense(latent_dim, name = 'latent_fh')(x)\n",
    "fh = Reshape((latent_dim,))(fh)\n",
    "\n",
    "# on passe des synérgies motrices aux actionneurs\n",
    "#latent = Dense(3, activation = 'sigmoid',  name = 'latent_vector')(fh)\n",
    "#print('taille latent', K.int_shape(latent))\n",
    "\n",
    "\n",
    "# tricks pour pouvoir passer fx et latent en outputs\n",
    "fx = Reshape((1,latent_dim,))(fx)\n",
    "fh = Reshape((1,latent_dim,))(fh)\n",
    "#latent = Reshape((1,3,))(latent)\n",
    "\n",
    "out = Concatenate()([fx, fh])\n",
    "print('out taille', K.int_shape(out))\n",
    "\n",
    "encoder = Model(inputs = inputs_xy, outputs = out, name = 'encoder')\n",
    "encoder.summary()"
   ]
  },
  {
   "cell_type": "markdown",
   "metadata": {},
   "source": [
    "### Création du décodeur"
   ]
  },
  {
   "cell_type": "code",
   "execution_count": 20,
   "metadata": {
    "scrolled": true
   },
   "outputs": [
    {
     "name": "stdout",
     "output_type": "stream",
     "text": [
      "('taille input', (None, 1, 64))\n",
      "('taille fx', (None, 32, 1))\n",
      "('taille tmp', (None, 32))\n",
      "('taille fhdec avant', (None, 32))\n",
      "('taille fhdec apres', (None, 32, 1))\n",
      "('taille matmuldec avant', (None, 32, 1))\n",
      "('taille matmuldec apres', (None, 32))\n",
      "('taille img dec', (None, 1, 32, 32))\n",
      "__________________________________________________________________________________________________\n",
      "Layer (type)                    Output Shape         Param #     Connected to                     \n",
      "==================================================================================================\n",
      "decoder_input (InputLayer)      (None, 1, 64)        0                                            \n",
      "__________________________________________________________________________________________________\n",
      "lambda_4 (Lambda)               (None, 1, 32)        0           decoder_input[0][0]              \n",
      "__________________________________________________________________________________________________\n",
      "reshape_9 (Reshape)             (None, 32)           0           lambda_4[0][0]                   \n",
      "__________________________________________________________________________________________________\n",
      "lambda_3 (Lambda)               (None, 1, 32)        0           decoder_input[0][0]              \n",
      "__________________________________________________________________________________________________\n",
      "latent_fhdec (Dense)            (None, 32)           1056        reshape_9[0][0]                  \n",
      "__________________________________________________________________________________________________\n",
      "reshape_8 (Reshape)             (None, 32, 1)        0           lambda_3[0][0]                   \n",
      "__________________________________________________________________________________________________\n",
      "reshape_10 (Reshape)            (None, 32, 1)        0           latent_fhdec[0][0]               \n",
      "__________________________________________________________________________________________________\n",
      "multiply_2 (Multiply)           (None, 32, 1)        0           reshape_8[0][0]                  \n",
      "                                                                 reshape_10[0][0]                 \n",
      "__________________________________________________________________________________________________\n",
      "reshape_11 (Reshape)            (None, 32)           0           multiply_2[0][0]                 \n",
      "__________________________________________________________________________________________________\n",
      "latent_fydec (Dense)            (None, 32)           1056        reshape_11[0][0]                 \n",
      "__________________________________________________________________________________________________\n",
      "y_recon (Dense)                 (None, 1024)         33792       latent_fydec[0][0]               \n",
      "__________________________________________________________________________________________________\n",
      "reshape_12 (Reshape)            (None, 1, 32, 32)    0           y_recon[0][0]                    \n",
      "==================================================================================================\n",
      "Total params: 35,904\n",
      "Trainable params: 35,904\n",
      "Non-trainable params: 0\n",
      "__________________________________________________________________________________________________\n"
     ]
    }
   ],
   "source": [
    "latent_inputs = Input(shape = (1,2*latent_dim,), name = 'decoder_input')\n",
    "print('taille input', K.int_shape(latent_inputs))\n",
    "\n",
    "# on déballe la factorisation en x\n",
    "fxdec = Lambda(lambda x: x[:,:,:latent_dim])(latent_inputs)\n",
    "fxdec = Reshape((latent_dim,1,))(fxdec)\n",
    "print('taille fx', K.int_shape(fxdec))\n",
    "\n",
    "# on déballe les commandes motrices\n",
    "inp = Lambda(lambda x: x[:,:,latent_dim:])(latent_inputs)\n",
    "inp = Reshape((latent_dim,))(inp)\n",
    "print('taille tmp', K.int_shape(inp))\n",
    "\n",
    "# on fait passer les commandes motrices dans la couche de perceptrons\n",
    "fhdec = Dense(latent_dim, name='latent_fhdec')(inp)\n",
    "print('taille fhdec avant', K.int_shape(fhdec))\n",
    "fhdec = Reshape((latent_dim,1,))(fhdec)\n",
    "print('taille fhdec apres', K.int_shape(fhdec))\n",
    "\n",
    "# on mutliplie les deux représentations\n",
    "matmuldec = Multiply()([fxdec, fhdec])\n",
    "print('taille matmuldec avant', K.int_shape(matmuldec))\n",
    "matmuldec = Reshape((latent_dim,))(matmuldec)\n",
    "print('taille matmuldec apres', K.int_shape(matmuldec))\n",
    "\n",
    "# on en déduit une factorisation \n",
    "fydec = Dense(latent_dim, name = 'latent_fydec')(matmuldec)\n",
    "\n",
    "# on déduit l'image de départ de cette factorisation\n",
    "ydec = Dense(img_size*img_size, activation = 'softmax', name = 'y_recon')(fydec)\n",
    "ydec = Reshape((1,img_size, img_size,))(ydec)\n",
    "print('taille img dec', K.int_shape(ydec))\n",
    "\n",
    "\n",
    "decoder = Model(latent_inputs, outputs= ydec, name='decoder')\n",
    "decoder.summary()\n",
    "\n",
    "\n"
   ]
  },
  {
   "cell_type": "markdown",
   "metadata": {},
   "source": [
    "### Création de l'auto-encodeur"
   ]
  },
  {
   "cell_type": "code",
   "execution_count": 21,
   "metadata": {},
   "outputs": [
    {
     "name": "stdout",
     "output_type": "stream",
     "text": [
      "_________________________________________________________________\n",
      "Layer (type)                 Output Shape              Param #   \n",
      "=================================================================\n",
      "xy (InputLayer)              (None, 2, 32, 32)         0         \n",
      "_________________________________________________________________\n",
      "encoder (Model)              (None, 1, 64)             66656     \n",
      "_________________________________________________________________\n",
      "decoder (Model)              (None, 1, 32, 32)         35904     \n",
      "=================================================================\n",
      "Total params: 102,560\n",
      "Trainable params: 102,560\n",
      "Non-trainable params: 0\n",
      "_________________________________________________________________\n"
     ]
    }
   ],
   "source": [
    "autoencoder = Model(inputs_xy, decoder(encoder(inputs_xy)), name = \"autoencoder\")\n",
    "autoencoder.summary()"
   ]
  },
  {
   "cell_type": "markdown",
   "metadata": {},
   "source": [
    "On enregistre des figures."
   ]
  },
  {
   "cell_type": "code",
   "execution_count": 22,
   "metadata": {},
   "outputs": [],
   "source": [
    "from keras.utils import plot_model \n",
    "plot_model(encoder, to_file='encoder.png')\n",
    "plot_model(decoder, to_file = 'decoder.png')\n",
    "plot_model(autoencoder, to_file = 'auto_encoder.png')"
   ]
  },
  {
   "cell_type": "markdown",
   "metadata": {},
   "source": [
    "## Entraînement"
   ]
  },
  {
   "cell_type": "markdown",
   "metadata": {},
   "source": [
    "On entraîne le modèle sur des pairs d'images.\n",
    "On utilise une descente de gradient stochastique. "
   ]
  },
  {
   "cell_type": "code",
   "execution_count": null,
   "metadata": {
    "scrolled": true
   },
   "outputs": [
    {
     "name": "stdout",
     "output_type": "stream",
     "text": [
      "WARNING:tensorflow:From /usr/local/lib/python2.7/dist-packages/tensorflow/python/ops/math_ops.py:3066: to_int32 (from tensorflow.python.ops.math_ops) is deprecated and will be removed in a future version.\n",
      "Instructions for updating:\n",
      "Use tf.cast instead.\n",
      "Train on 24000 samples, validate on 6000 samples\n",
      "Epoch 1/100\n",
      "24000/24000 [==============================] - 2s 97us/step - loss: 655.3539 - mean_absolute_error: 3.4250 - acc: 0.7485 - val_loss: 654.4574 - val_mean_absolute_error: 3.4039 - val_acc: 0.7411\n",
      "Epoch 2/100\n",
      "24000/24000 [==============================] - 2s 88us/step - loss: 655.3516 - mean_absolute_error: 3.4250 - acc: 0.7502 - val_loss: 654.4574 - val_mean_absolute_error: 3.4039 - val_acc: 0.7411\n",
      "Epoch 3/100\n",
      "24000/24000 [==============================] - 2s 89us/step - loss: 655.3516 - mean_absolute_error: 3.4250 - acc: 0.7502 - val_loss: 654.4574 - val_mean_absolute_error: 3.4039 - val_acc: 0.7411\n",
      "Epoch 4/100\n",
      "24000/24000 [==============================] - 2s 84us/step - loss: 655.3516 - mean_absolute_error: 3.4250 - acc: 0.7502 - val_loss: 654.4574 - val_mean_absolute_error: 3.4039 - val_acc: 0.7411\n",
      "Epoch 5/100\n",
      "24000/24000 [==============================] - 2s 88us/step - loss: 655.3516 - mean_absolute_error: 3.4250 - acc: 0.7502 - val_loss: 654.4574 - val_mean_absolute_error: 3.4039 - val_acc: 0.7411\n",
      "Epoch 6/100\n",
      "24000/24000 [==============================] - 2s 85us/step - loss: 655.3516 - mean_absolute_error: 3.4250 - acc: 0.7502 - val_loss: 654.4574 - val_mean_absolute_error: 3.4039 - val_acc: 0.7411\n",
      "Epoch 7/100\n",
      "24000/24000 [==============================] - 2s 87us/step - loss: 655.3516 - mean_absolute_error: 3.4250 - acc: 0.7502 - val_loss: 654.4574 - val_mean_absolute_error: 3.4039 - val_acc: 0.7411\n",
      "Epoch 8/100\n",
      "24000/24000 [==============================] - 2s 86us/step - loss: 655.3516 - mean_absolute_error: 3.4250 - acc: 0.7502 - val_loss: 654.4574 - val_mean_absolute_error: 3.4039 - val_acc: 0.7411\n",
      "Epoch 9/100\n",
      "24000/24000 [==============================] - 2s 87us/step - loss: 655.3516 - mean_absolute_error: 3.4250 - acc: 0.7502 - val_loss: 654.4574 - val_mean_absolute_error: 3.4039 - val_acc: 0.7411\n",
      "Epoch 10/100\n",
      "24000/24000 [==============================] - 2s 86us/step - loss: 655.3516 - mean_absolute_error: 3.4250 - acc: 0.7502 - val_loss: 654.4574 - val_mean_absolute_error: 3.4039 - val_acc: 0.7411\n",
      "Epoch 11/100\n",
      "24000/24000 [==============================] - 2s 89us/step - loss: 655.3516 - mean_absolute_error: 3.4250 - acc: 0.7502 - val_loss: 654.4574 - val_mean_absolute_error: 3.4039 - val_acc: 0.7411\n",
      "Epoch 12/100\n",
      "24000/24000 [==============================] - 2s 86us/step - loss: 655.3516 - mean_absolute_error: 3.4250 - acc: 0.7502 - val_loss: 654.4574 - val_mean_absolute_error: 3.4039 - val_acc: 0.7411\n",
      "Epoch 13/100\n",
      "24000/24000 [==============================] - 2s 87us/step - loss: 655.3516 - mean_absolute_error: 3.4250 - acc: 0.7502 - val_loss: 654.4574 - val_mean_absolute_error: 3.4039 - val_acc: 0.7411\n",
      "Epoch 14/100\n",
      "24000/24000 [==============================] - 2s 88us/step - loss: 655.3516 - mean_absolute_error: 3.4250 - acc: 0.7502 - val_loss: 654.4574 - val_mean_absolute_error: 3.4039 - val_acc: 0.7411\n",
      "Epoch 15/100\n",
      "24000/24000 [==============================] - 2s 89us/step - loss: 655.3516 - mean_absolute_error: 3.4250 - acc: 0.7502 - val_loss: 654.4574 - val_mean_absolute_error: 3.4039 - val_acc: 0.7411\n",
      "Epoch 16/100\n",
      "24000/24000 [==============================] - 2s 91us/step - loss: 655.3516 - mean_absolute_error: 3.4250 - acc: 0.7502 - val_loss: 654.4574 - val_mean_absolute_error: 3.4039 - val_acc: 0.7411\n",
      "Epoch 17/100\n",
      "24000/24000 [==============================] - 2s 86us/step - loss: 655.3516 - mean_absolute_error: 3.4250 - acc: 0.7502 - val_loss: 654.4574 - val_mean_absolute_error: 3.4039 - val_acc: 0.7411\n",
      "Epoch 18/100\n",
      "24000/24000 [==============================] - 2s 90us/step - loss: 655.3516 - mean_absolute_error: 3.4250 - acc: 0.7502 - val_loss: 654.4574 - val_mean_absolute_error: 3.4039 - val_acc: 0.7411\n",
      "Epoch 19/100\n",
      "24000/24000 [==============================] - 2s 86us/step - loss: 655.3516 - mean_absolute_error: 3.4250 - acc: 0.7502 - val_loss: 654.4574 - val_mean_absolute_error: 3.4039 - val_acc: 0.7411\n",
      "Epoch 20/100\n",
      "24000/24000 [==============================] - 2s 87us/step - loss: 655.3516 - mean_absolute_error: 3.4250 - acc: 0.7502 - val_loss: 654.4574 - val_mean_absolute_error: 3.4039 - val_acc: 0.7411\n",
      "Epoch 21/100\n",
      "24000/24000 [==============================] - 2s 86us/step - loss: 655.3516 - mean_absolute_error: 3.4250 - acc: 0.7502 - val_loss: 654.4574 - val_mean_absolute_error: 3.4039 - val_acc: 0.7411\n",
      "Epoch 22/100\n",
      "24000/24000 [==============================] - 2s 86us/step - loss: 655.3516 - mean_absolute_error: 3.4250 - acc: 0.7502 - val_loss: 654.4574 - val_mean_absolute_error: 3.4039 - val_acc: 0.7411\n",
      "Epoch 23/100\n",
      "24000/24000 [==============================] - 2s 85us/step - loss: 655.3516 - mean_absolute_error: 3.4250 - acc: 0.7502 - val_loss: 654.4574 - val_mean_absolute_error: 3.4039 - val_acc: 0.7411\n",
      "Epoch 24/100\n",
      "24000/24000 [==============================] - 2s 89us/step - loss: 655.3516 - mean_absolute_error: 3.4250 - acc: 0.7502 - val_loss: 654.4574 - val_mean_absolute_error: 3.4039 - val_acc: 0.7411\n",
      "Epoch 25/100\n",
      "24000/24000 [==============================] - 2s 85us/step - loss: 655.3516 - mean_absolute_error: 3.4250 - acc: 0.7502 - val_loss: 654.4574 - val_mean_absolute_error: 3.4039 - val_acc: 0.7411\n",
      "Epoch 26/100\n",
      "24000/24000 [==============================] - 2s 87us/step - loss: 655.3516 - mean_absolute_error: 3.4250 - acc: 0.7502 - val_loss: 654.4574 - val_mean_absolute_error: 3.4039 - val_acc: 0.7411\n",
      "Epoch 27/100\n",
      "24000/24000 [==============================] - 2s 85us/step - loss: 655.3516 - mean_absolute_error: 3.4250 - acc: 0.7502 - val_loss: 654.4574 - val_mean_absolute_error: 3.4039 - val_acc: 0.7411\n",
      "Epoch 28/100\n",
      "24000/24000 [==============================] - 2s 88us/step - loss: 655.3516 - mean_absolute_error: 3.4250 - acc: 0.7502 - val_loss: 654.4574 - val_mean_absolute_error: 3.4039 - val_acc: 0.7411\n",
      "Epoch 29/100\n",
      "24000/24000 [==============================] - 2s 86us/step - loss: 655.3516 - mean_absolute_error: 3.4250 - acc: 0.7502 - val_loss: 654.4574 - val_mean_absolute_error: 3.4039 - val_acc: 0.7411\n",
      "Epoch 30/100\n",
      "24000/24000 [==============================] - 2s 87us/step - loss: 655.3516 - mean_absolute_error: 3.4250 - acc: 0.7502 - val_loss: 654.4574 - val_mean_absolute_error: 3.4039 - val_acc: 0.7411\n",
      "Epoch 31/100\n",
      "24000/24000 [==============================] - 2s 87us/step - loss: 655.3516 - mean_absolute_error: 3.4250 - acc: 0.7502 - val_loss: 654.4574 - val_mean_absolute_error: 3.4039 - val_acc: 0.7411\n",
      "Epoch 32/100\n",
      "24000/24000 [==============================] - 2s 86us/step - loss: 655.3516 - mean_absolute_error: 3.4250 - acc: 0.7502 - val_loss: 654.4574 - val_mean_absolute_error: 3.4039 - val_acc: 0.7411\n",
      "Epoch 33/100\n",
      "24000/24000 [==============================] - 2s 86us/step - loss: 655.3516 - mean_absolute_error: 3.4250 - acc: 0.7502 - val_loss: 654.4574 - val_mean_absolute_error: 3.4039 - val_acc: 0.7411\n",
      "Epoch 34/100\n",
      "24000/24000 [==============================] - 2s 88us/step - loss: 655.3516 - mean_absolute_error: 3.4250 - acc: 0.7502 - val_loss: 654.4574 - val_mean_absolute_error: 3.4039 - val_acc: 0.7411\n",
      "Epoch 35/100\n",
      "24000/24000 [==============================] - 2s 87us/step - loss: 655.3516 - mean_absolute_error: 3.4250 - acc: 0.7502 - val_loss: 654.4574 - val_mean_absolute_error: 3.4039 - val_acc: 0.7411\n",
      "Epoch 36/100\n",
      "24000/24000 [==============================] - 2s 87us/step - loss: 655.3516 - mean_absolute_error: 3.4250 - acc: 0.7502 - val_loss: 654.4574 - val_mean_absolute_error: 3.4039 - val_acc: 0.7411\n",
      "Epoch 37/100\n",
      "24000/24000 [==============================] - 2s 88us/step - loss: 655.3516 - mean_absolute_error: 3.4250 - acc: 0.7502 - val_loss: 654.4574 - val_mean_absolute_error: 3.4039 - val_acc: 0.7411\n",
      "Epoch 38/100\n",
      "24000/24000 [==============================] - 2s 85us/step - loss: 655.3516 - mean_absolute_error: 3.4250 - acc: 0.7502 - val_loss: 654.4574 - val_mean_absolute_error: 3.4039 - val_acc: 0.7411\n",
      "Epoch 39/100\n"
     ]
    },
    {
     "name": "stdout",
     "output_type": "stream",
     "text": [
      "24000/24000 [==============================] - 2s 87us/step - loss: 655.3516 - mean_absolute_error: 3.4250 - acc: 0.7502 - val_loss: 654.4574 - val_mean_absolute_error: 3.4039 - val_acc: 0.7411\n",
      "Epoch 40/100\n",
      "24000/24000 [==============================] - 2s 85us/step - loss: 655.3516 - mean_absolute_error: 3.4250 - acc: 0.7502 - val_loss: 654.4574 - val_mean_absolute_error: 3.4039 - val_acc: 0.7411\n",
      "Epoch 41/100\n",
      "24000/24000 [==============================] - 2s 86us/step - loss: 655.3516 - mean_absolute_error: 3.4250 - acc: 0.7502 - val_loss: 654.4574 - val_mean_absolute_error: 3.4039 - val_acc: 0.7411\n",
      "Epoch 42/100\n",
      "24000/24000 [==============================] - 2s 84us/step - loss: 655.3516 - mean_absolute_error: 3.4250 - acc: 0.7502 - val_loss: 654.4574 - val_mean_absolute_error: 3.4039 - val_acc: 0.7411\n",
      "Epoch 43/100\n",
      "24000/24000 [==============================] - 2s 85us/step - loss: 655.3516 - mean_absolute_error: 3.4250 - acc: 0.7502 - val_loss: 654.4574 - val_mean_absolute_error: 3.4039 - val_acc: 0.7411\n",
      "Epoch 44/100\n",
      "24000/24000 [==============================] - 2s 83us/step - loss: 655.3516 - mean_absolute_error: 3.4250 - acc: 0.7502 - val_loss: 654.4574 - val_mean_absolute_error: 3.4039 - val_acc: 0.7411\n",
      "Epoch 45/100\n",
      "24000/24000 [==============================] - 2s 87us/step - loss: 655.3516 - mean_absolute_error: 3.4250 - acc: 0.7502 - val_loss: 654.4574 - val_mean_absolute_error: 3.4039 - val_acc: 0.7411\n",
      "Epoch 46/100\n",
      "24000/24000 [==============================] - 2s 87us/step - loss: 655.3516 - mean_absolute_error: 3.4250 - acc: 0.7502 - val_loss: 654.4574 - val_mean_absolute_error: 3.4039 - val_acc: 0.7411\n",
      "Epoch 47/100\n",
      " 1440/24000 [>.............................] - ETA: 1s - loss: 652.6811 - mean_absolute_error: 3.4138 - acc: 0.7516"
     ]
    }
   ],
   "source": [
    "sgd = keras.optimizers.SGD(lr = 0.1, momentum = 0.0)\n",
    "\n",
    "autoencoder.compile(loss = 'mse', \n",
    "                    optimizer = sgd, \n",
    "                    metrics = ['mae', 'acc'])\n",
    "\n",
    "history = autoencoder.fit(train_features,\n",
    "                          train_images_y,\n",
    "                          validation_split = 0.2,\n",
    "                          epochs = 100)"
   ]
  },
  {
   "cell_type": "markdown",
   "metadata": {},
   "source": [
    "### Visualisation"
   ]
  },
  {
   "cell_type": "code",
   "execution_count": null,
   "metadata": {},
   "outputs": [],
   "source": [
    "# Plot training & validation accuracy values\n",
    "plt.plot(history.history['acc'])\n",
    "plt.plot(history.history['val_acc'])\n",
    "plt.title('Model accuracy')\n",
    "plt.ylabel('Accuracy')\n",
    "plt.xlabel('Epoch')\n",
    "plt.legend(['Train', 'Test'], loc='upper left')\n",
    "plt.show()\n",
    "\n",
    "# Plot training & validation loss values\n",
    "plt.plot(history.history['loss'])\n",
    "plt.plot(history.history['val_loss'])\n",
    "plt.title('Model loss')\n",
    "plt.ylabel('Loss')\n",
    "plt.xlabel('Epoch')\n",
    "plt.legend(['Train', 'Test'], loc='upper left')\n",
    "plt.show()"
   ]
  }
 ],
 "metadata": {
  "kernelspec": {
   "display_name": "Python 2",
   "language": "python",
   "name": "python2"
  },
  "language_info": {
   "codemirror_mode": {
    "name": "ipython",
    "version": 2
   },
   "file_extension": ".py",
   "mimetype": "text/x-python",
   "name": "python",
   "nbconvert_exporter": "python",
   "pygments_lexer": "ipython2",
   "version": "2.7.15rc1"
  }
 },
 "nbformat": 4,
 "nbformat_minor": 2
}
