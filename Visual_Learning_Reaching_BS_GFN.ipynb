{
 "cells": [
  {
   "cell_type": "markdown",
   "metadata": {},
   "source": [
    "# Transformation visuelle pour reconstruction d'image corporelle"
   ]
  },
  {
   "cell_type": "markdown",
   "metadata": {},
   "source": [
    "## Objectifs\n",
    "L'objectif est d'améliorer le code de network2_01.py. \n",
    "Plusieurs pistes d'amélioration sont possibles:\n",
    "1. Utiliser un produit tensoriel plutôt qu'un produit terme à terme.\n",
    "2. Différencier la cible de la main.\n",
    "3. Intégerer tf.\n",
    "4. changer la répartition des points. \n",
    "\n",
    "Je m'inspire de l'article de Memisevic, Gradient-based learning of higher-order image features et de son code gatedAutoencoder.py."
   ]
  },
  {
   "cell_type": "markdown",
   "metadata": {},
   "source": [
    "## Imports et setup\n",
    "\n",
    "\n",
    "\n"
   ]
  },
  {
   "cell_type": "code",
   "execution_count": 1,
   "metadata": {},
   "outputs": [
    {
     "name": "stderr",
     "output_type": "stream",
     "text": [
      "Using TensorFlow backend.\n"
     ]
    }
   ],
   "source": [
    "from numpy import *\n",
    "from matplotlib.pylab import *\n",
    "from mpl_toolkits.mplot3d import Axes3D\n",
    "from drawnow import *\n",
    "from skimage.draw import line, line_aa\n",
    "from scipy.ndimage import gaussian_filter\n",
    "\n",
    "import time \n",
    "import random\n",
    "import scipy\n",
    "import math\n",
    "import cv2\n",
    "import cPickle as pickle\n",
    "\n",
    "import keras\n"
   ]
  },
  {
   "cell_type": "code",
   "execution_count": 2,
   "metadata": {},
   "outputs": [],
   "source": [
    "matplotlib.rcParams.update({'font.size':16})\n",
    "to_backup = True\n",
    "timeframe = time.strftime('%Y%m%d%H%M%S')\n",
    "L1 = 16\n",
    "L2 = 8\n",
    "L3 = 1\n",
    "\n",
    "nb_posture = 300\n",
    "nb_command = 100\n",
    "nb_joint = 3\n",
    "nb_data = nb_command*nb_posture\n",
    "img_size = 64"
   ]
  },
  {
   "cell_type": "markdown",
   "metadata": {},
   "source": [
    "## Construction de la base de données"
   ]
  },
  {
   "cell_type": "markdown",
   "metadata": {},
   "source": [
    "1. On génère n postures différentes aléatoirement, X.\n",
    "2. On génère m commandes aléatoirement, H. \n",
    "3. On applique chaque commande à chaque posture et on obtient des nouvelles postures Y."
   ]
  },
  {
   "cell_type": "markdown",
   "metadata": {},
   "source": [
    "### Génération des postures initiales"
   ]
  },
  {
   "cell_type": "code",
   "execution_count": 3,
   "metadata": {},
   "outputs": [],
   "source": [
    "def randrange(n , vmin, vmax):\n",
    "    return (vmax-vmin)*rand(n) + vmin "
   ]
  },
  {
   "cell_type": "code",
   "execution_count": 4,
   "metadata": {
    "scrolled": true
   },
   "outputs": [],
   "source": [
    "posture = zeros((nb_posture, 3))\n",
    "posture[:,0] = randrange(nb_posture, 0, pi)\n",
    "posture[:,1] = randrange(nb_posture, 0, pi)\n",
    "posture[:,2] =randrange(nb_posture, 0, pi)"
   ]
  },
  {
   "cell_type": "code",
   "execution_count": 5,
   "metadata": {},
   "outputs": [
    {
     "name": "stdout",
     "output_type": "stream",
     "text": [
      "(300, 3)\n",
      "[0.35016436 0.90691751 1.34759612]\n"
     ]
    }
   ],
   "source": [
    "print(shape(posture))\n",
    "print(posture[0])"
   ]
  },
  {
   "cell_type": "markdown",
   "metadata": {},
   "source": [
    "### Génération des commandes "
   ]
  },
  {
   "cell_type": "code",
   "execution_count": 6,
   "metadata": {},
   "outputs": [],
   "source": [
    "command = zeros((nb_command, 3))\n",
    "command[:,0] = randrange(nb_command, 0, 1)*0.3\n",
    "command[:,1] = randrange(nb_command, 0, 1)*0.3\n",
    "command[:,2] = 0 #randrange(nb_command, 0, 1)*0.3"
   ]
  },
  {
   "cell_type": "code",
   "execution_count": 7,
   "metadata": {},
   "outputs": [
    {
     "name": "stdout",
     "output_type": "stream",
     "text": [
      "(100, 3)\n",
      "[0.27347536 0.21570526 0.        ]\n",
      "42\n"
     ]
    }
   ],
   "source": [
    "print(shape(command))\n",
    "print(command[0])\n",
    "print(randint(0,nb_command-1))"
   ]
  },
  {
   "cell_type": "markdown",
   "metadata": {},
   "source": [
    "### Génération des données d'entraînement"
   ]
  },
  {
   "cell_type": "code",
   "execution_count": 8,
   "metadata": {},
   "outputs": [],
   "source": [
    "train_data_x = zeros((nb_data, 1, 3))\n",
    "train_data_y = zeros((nb_data, 1, 3))\n",
    "train_data_h = zeros((nb_data, 1, 3))"
   ]
  },
  {
   "cell_type": "code",
   "execution_count": 9,
   "metadata": {},
   "outputs": [
    {
     "name": "stdout",
     "output_type": "stream",
     "text": [
      "[0. 0. 0.]\n",
      "(30000, 1, 3)\n"
     ]
    }
   ],
   "source": [
    "print(train_data_x[0][0])\n",
    "print(shape(train_data_x))"
   ]
  },
  {
   "cell_type": "code",
   "execution_count": 10,
   "metadata": {},
   "outputs": [],
   "source": [
    "idx = 0 \n",
    "for i in range(nb_posture):\n",
    "    for j in range(nb_command):\n",
    "        train_data_x[idx] = posture[i]\n",
    "        idx = idx + 1\n",
    "\n",
    "idx = 0 \n",
    "for i in range(nb_posture):\n",
    "    for j in range(nb_command):\n",
    "        train_data_y[idx] = posture[i]  + command[j]\n",
    "        idx = idx + 1\n",
    "        \n",
    "idx = 0 \n",
    "for i in range(nb_posture):\n",
    "    for j in range(nb_command):\n",
    "        train_data_h[idx] = command[j]\n",
    "        idx = idx + 1"
   ]
  },
  {
   "cell_type": "code",
   "execution_count": 11,
   "metadata": {},
   "outputs": [
    {
     "name": "stdout",
     "output_type": "stream",
     "text": [
      "('train_data_x 0 0 ', array([0.35016436, 0.90691751, 1.34759612]))\n",
      "('train_data_h 0 0 ', array([0.27347536, 0.21570526, 0.        ]))\n",
      "('train_data_y 0 0 ', array([0.62363973, 1.12262277, 1.34759612]))\n",
      "y = x + h\n"
     ]
    }
   ],
   "source": [
    "print('train_data_x 0 0 ', train_data_x[0][0])\n",
    "print('train_data_h 0 0 ', train_data_h[0][0])\n",
    "print('train_data_y 0 0 ', train_data_y[0][0])\n",
    "print('y = x + h')"
   ]
  },
  {
   "cell_type": "markdown",
   "metadata": {},
   "source": [
    "### Génération des images associées"
   ]
  },
  {
   "cell_type": "code",
   "execution_count": 12,
   "metadata": {},
   "outputs": [],
   "source": [
    "train_images_x = zeros((nb_data, 1, img_size, img_size ), dtype = float32)\n",
    "train_images_y = zeros((nb_data, 1, img_size, img_size ), dtype = float32)"
   ]
  },
  {
   "cell_type": "code",
   "execution_count": 13,
   "metadata": {},
   "outputs": [],
   "source": [
    "for i in range(nb_data):\n",
    "    img = zeros((img_size,img_size), dtype = uint8)\n",
    "    angle = train_data_x[i][0] \n",
    "    row1, col1 = img_size//2 + int(floor(L1*sin(angle[0]))), img_size//2 + int(floor(L1*cos(angle[0])))\n",
    "    row2, col2 =  int(floor(L2*sin(angle[1]))) + row1, col1 + int(floor(L2*cos(angle[1])))\n",
    "    row3, col3 = int(floor(L3*sin(angle[2])))+ row2, col2 +  int(floor(L3*cos(angle[2])))\n",
    "    r1, c1, val1 = line_aa(img_size//2,img_size//2,row1, col1)\n",
    "    r2, c2, val2 = line_aa(row1, col1, row2, col2)\n",
    "    r3, c3, val3 = line_aa(row2, col2, row3 , col3)\n",
    "    #r1, c1 = line(img_size//2,img_size//2,row1, col1)\n",
    "    #r2, c2 = line(row1, col1, row2, col2)\n",
    "    #r3, c3 = line(row2, col2, row3 , col3)\n",
    "    img[r1,c1] = val1 *255\n",
    "    img[r2,c2] = val2 *255\n",
    "    img[r3,c3] = val3 *255\n",
    "    train_images_x[i][0] = gaussian_filter(img , sigma = 2) / 255.\n",
    "\n",
    "for i in range(nb_data):\n",
    "    img = zeros((img_size,img_size), dtype = uint8)\n",
    "    angle = train_data_y[i][0] \n",
    "    row1, col1 = img_size//2 + int(floor(L1*sin(angle[0]))), img_size//2 + int(floor(L1*cos(angle[0])))\n",
    "    row2, col2 =  int(floor(L2*sin(angle[1]))) + row1, col1 + int(floor(L2*cos(angle[1])))\n",
    "    row3, col3 = int(floor(L3*sin(angle[2])))+ row2, col2 +  int(floor(L3*cos(angle[2])))\n",
    "    r1, c1, val1 = line_aa(img_size//2,img_size//2,row1, col1)\n",
    "    r2, c2, val2 = line_aa(row1, col1, row2, col2)\n",
    "    r3, c3, val3 = line_aa(row2, col2, row3 , col3)\n",
    "    #r1, c1 = line(img_size//2,img_size//2,row1, col1)\n",
    "    #r2, c2 = line(row1, col1, row2, col2)\n",
    "    #r3, c3 = line(row2, col2, row3 , col3)\n",
    "    img[r1,c1] = val1 *255\n",
    "    img[r2,c2] = val2 *255\n",
    "    img[r3,c3] = val3 *255\n",
    "    train_images_y[i][0] =gaussian_filter(img , sigma = 2) / 255."
   ]
  },
  {
   "cell_type": "code",
   "execution_count": 14,
   "metadata": {},
   "outputs": [
    {
     "name": "stdout",
     "output_type": "stream",
     "text": [
      "('taille train_images_x', (30000, 1, 64, 64))\n",
      "('taille train_images_y', (30000, 1, 64, 64))\n",
      "('taille train_features', (30000, 2, 64, 64))\n"
     ]
    }
   ],
   "source": [
    "print('taille train_images_x', shape(train_images_x))\n",
    "print('taille train_images_y', shape(train_images_y))\n",
    "train_features = concatenate((train_images_x, train_images_y), 1)\n",
    "print('taille train_features', shape(train_features))"
   ]
  },
  {
   "cell_type": "markdown",
   "metadata": {},
   "source": [
    "On peut rajouter une gaussienne au bout de l'effecteur pour le mettre en évidence\n",
    "TODO"
   ]
  },
  {
   "cell_type": "markdown",
   "metadata": {},
   "source": [
    "### Exemples d'images"
   ]
  },
  {
   "cell_type": "code",
   "execution_count": 15,
   "metadata": {},
   "outputs": [
    {
     "data": {
      "text/plain": [
       "<matplotlib.image.AxesImage at 0x7fa2f6ae9490>"
      ]
     },
     "execution_count": 15,
     "metadata": {},
     "output_type": "execute_result"
    },
    {
     "data": {
      "image/png": "[encoded data removed]",
      "text/plain": [
       "<Figure size 432x288 with 1 Axes>"
      ]
     },
     "metadata": {
      "needs_background": "light"
     },
     "output_type": "display_data"
    }
   ],
   "source": [
    "imshow(train_images_x[0][0])"
   ]
  },
  {
   "cell_type": "code",
   "execution_count": 16,
   "metadata": {},
   "outputs": [
    {
     "data": {
      "text/plain": [
       "<matplotlib.image.AxesImage at 0x7fa2f6a01a90>"
      ]
     },
     "execution_count": 16,
     "metadata": {},
     "output_type": "execute_result"
    },
    {
     "data": {
      "image/png": "[encoded data removed]",
      "text/plain": [
       "<Figure size 432x288 with 1 Axes>"
      ]
     },
     "metadata": {
      "needs_background": "light"
     },
     "output_type": "display_data"
    }
   ],
   "source": [
    "imshow(train_images_y[0][0])"
   ]
  },
  {
   "cell_type": "markdown",
   "metadata": {},
   "source": [
    "## Factorized Gated Field Auto-encoder"
   ]
  },
  {
   "cell_type": "markdown",
   "metadata": {},
   "source": [
    "Avant le passge dans l'autoencodeur, les images sont factorisées en passant par une couche de percpetron. De même, la couche latente est factorisée.\n",
    "Les images sont de taille (128,128), on prend pour commencer 32 neurones. \n",
    "La sortie est de taille (3,1) (trois moteurs), on prend pour commencer une factorisation de taille (32,1) (synérgies motrices)."
   ]
  },
  {
   "cell_type": "markdown",
   "metadata": {},
   "source": [
    "On a donc un encodeur, un décodeur et 3 couches de perceptrons pour les deux images et pour les commandes motrices."
   ]
  },
  {
   "cell_type": "markdown",
   "metadata": {},
   "source": [
    "On commence par construire un auto encodeur dont les entrées sont un tenseur de taille (32,1) et de sortie (32,1), pour garder la symétrie de la structure.\n"
   ]
  },
  {
   "cell_type": "code",
   "execution_count": 17,
   "metadata": {},
   "outputs": [],
   "source": [
    "from keras.models import Model\n",
    "from keras.layers import Activation, Dense, Input, Multiply\n",
    "from keras.layers import Conv2D, Flatten, Reshape, Conv2DTranspose\n",
    "from keras.layers import Dot, Lambda, Concatenate, RepeatVector\n",
    "from keras import backend as K\n"
   ]
  },
  {
   "cell_type": "markdown",
   "metadata": {},
   "source": [
    "### Création de l'encodeur "
   ]
  },
  {
   "cell_type": "code",
   "execution_count": 18,
   "metadata": {
    "scrolled": true
   },
   "outputs": [
    {
     "name": "stdout",
     "output_type": "stream",
     "text": [
      "WARNING:tensorflow:From /usr/local/lib/python2.7/dist-packages/tensorflow/python/framework/op_def_library.py:263: colocate_with (from tensorflow.python.framework.ops) is deprecated and will be removed in a future version.\n",
      "Instructions for updating:\n",
      "Colocations handled automatically by placer.\n",
      "(None, 64)\n",
      "('out taille', (None, 1, 128))\n"
     ]
    }
   ],
   "source": [
    "input_size = 128\n",
    "input_shape = (2, input_size, input_size)\n",
    "latent_dim = 64 # plus facile pour la concaténation des outputs...\n",
    "\n",
    "# on donne en entrée des pairs d'images\n",
    "inputs_xy = Input(shape = (2, img_size, img_size, ), name = 'xy')\n",
    "\n",
    "# on sépare chacune des images\n",
    "x = Lambda(lambda x: x[:,0,:,:])(inputs_xy)\n",
    "x = Reshape((1,img_size, img_size,))(x)\n",
    "\n",
    "y = Lambda(lambda x: x[:,1,:,:])(inputs_xy)\n",
    "y = Reshape((1,img_size, img_size,))(y)\n",
    "\n",
    "# on factorise chacune des images\n",
    "fx = Flatten()(x)\n",
    "fx = Dense(latent_dim, activation = 'relu', name = 'latent_fx')(fx)\n",
    "fx = Reshape((latent_dim,1,))(fx)\n",
    "\n",
    "fy = Flatten()(y)\n",
    "fy = Dense(latent_dim, activation = 'relu', name = 'latent_fy')(fy)\n",
    "fy = Reshape((latent_dim,1,))(fy)\n",
    "\n",
    "\n",
    "# on multiplie les deux factorisations, TODO mieux si produit tensoriel\n",
    "matmul = Multiply()([fx, fy])\n",
    "\n",
    "# on passe le tout dans une couche de perceptrons pour obtenir les synérgies motrices\n",
    "x = Flatten()(matmul)\n",
    "fh = Dense(latent_dim, name = 'latent_fh')(x)\n",
    "fh = Reshape((latent_dim,))(fh)\n",
    "print(K.int_shape(fh))\n",
    "# on passe des synérgies motrices aux actionneurs\n",
    "#latent = Dense(3, activation = 'sigmoid',  name = 'latent_vector')(fh)\n",
    "#print('taille latent', K.int_shape(latent))\n",
    "\n",
    "\n",
    "# tricks pour pouvoir passer fx et latent en outputs\n",
    "fx = Reshape((1,latent_dim,))(fx)\n",
    "fh = Reshape((1,latent_dim,))(fh)\n",
    "#latent = Reshape((1,3,))(latent)\n",
    "\n",
    "out = Concatenate()([fx, fh])\n",
    "print('out taille', K.int_shape(out))\n",
    "\n",
    "encoder = Model(inputs = inputs_xy, outputs = out, name = 'encoder')"
   ]
  },
  {
   "cell_type": "markdown",
   "metadata": {},
   "source": [
    "### Création du décodeur"
   ]
  },
  {
   "cell_type": "code",
   "execution_count": 19,
   "metadata": {
    "scrolled": true
   },
   "outputs": [
    {
     "name": "stdout",
     "output_type": "stream",
     "text": [
      "('taille input', (None, 1, 128))\n",
      "('taille fx', (None, 64, 1))\n",
      "('taille tmp', (None, 64))\n",
      "('taille fhdec avant', (None, 64))\n",
      "('taille fhdec apres', (None, 64, 1))\n",
      "('taille matmuldec avant', (None, 64, 1))\n",
      "('taille matmuldec apres', (None, 64))\n",
      "('taille img dec', (None, 1, 64, 64))\n"
     ]
    }
   ],
   "source": [
    "latent_inputs = Input(shape = (1,2*latent_dim,), name = 'decoder_input')\n",
    "print('taille input', K.int_shape(latent_inputs))\n",
    "\n",
    "# on déballe la factorisation en x\n",
    "fxdec = Lambda(lambda x: x[:,:,:latent_dim])(latent_inputs)\n",
    "fxdec = Reshape((latent_dim,1,))(fxdec)\n",
    "print('taille fx', K.int_shape(fxdec))\n",
    "\n",
    "# on déballe les commandes motrices\n",
    "inp = Lambda(lambda x: x[:,:,latent_dim:])(latent_inputs)\n",
    "inp = Reshape((latent_dim,))(inp)\n",
    "print('taille tmp', K.int_shape(inp))\n",
    "\n",
    "# on fait passer les commandes motrices dans la couche de perceptrons\n",
    "fhdec = Dense(latent_dim, name='latent_fhdec')(inp)\n",
    "print('taille fhdec avant', K.int_shape(fhdec))\n",
    "fhdec = Reshape((latent_dim,1,))(fhdec)\n",
    "print('taille fhdec apres', K.int_shape(fhdec))\n",
    "\n",
    "# on mutliplie les deux représentations\n",
    "matmuldec = Multiply()([fxdec, fhdec])\n",
    "print('taille matmuldec avant', K.int_shape(matmuldec))\n",
    "matmuldec = Reshape((latent_dim,))(matmuldec)\n",
    "print('taille matmuldec apres', K.int_shape(matmuldec))\n",
    "\n",
    "# on en déduit une factorisation \n",
    "fydec = Dense(latent_dim, name = 'latent_fydec')(matmuldec)\n",
    "\n",
    "# on déduit l'image de départ de cette factorisation\n",
    "ydec = Dense(img_size*img_size, activation = 'relu', name = 'y_recon')(fydec)\n",
    "ydec = Reshape((1,img_size, img_size,))(ydec)\n",
    "print('taille img dec', K.int_shape(ydec))\n",
    "\n",
    "\n",
    "decoder = Model(latent_inputs, outputs= ydec, name='decoder')"
   ]
  },
  {
   "cell_type": "markdown",
   "metadata": {},
   "source": [
    "### Création de l'auto-encodeur"
   ]
  },
  {
   "cell_type": "code",
   "execution_count": 20,
   "metadata": {},
   "outputs": [
    {
     "name": "stdout",
     "output_type": "stream",
     "text": [
      "_________________________________________________________________\n",
      "Layer (type)                 Output Shape              Param #   \n",
      "=================================================================\n",
      "xy (InputLayer)              (None, 2, 64, 64)         0         \n",
      "_________________________________________________________________\n",
      "encoder (Model)              (None, 1, 128)            528576    \n",
      "_________________________________________________________________\n",
      "decoder (Model)              (None, 1, 64, 64)         274560    \n",
      "=================================================================\n",
      "Total params: 803,136\n",
      "Trainable params: 803,136\n",
      "Non-trainable params: 0\n",
      "_________________________________________________________________\n"
     ]
    }
   ],
   "source": [
    "autoencoder = Model(inputs_xy, decoder(encoder(inputs_xy)), name = \"autoencoder\")\n",
    "autoencoder.summary()"
   ]
  },
  {
   "cell_type": "markdown",
   "metadata": {},
   "source": [
    "On enregistre des figures."
   ]
  },
  {
   "cell_type": "code",
   "execution_count": 21,
   "metadata": {},
   "outputs": [],
   "source": [
    "from keras.utils import plot_model \n",
    "plot_model(encoder, to_file='encoder.png')\n",
    "plot_model(decoder, to_file = 'decoder.png')\n",
    "plot_model(autoencoder, to_file = 'auto_encoder.png')"
   ]
  },
  {
   "cell_type": "markdown",
   "metadata": {},
   "source": [
    "### Auto-encodeur alternatif"
   ]
  },
  {
   "cell_type": "code",
   "execution_count": 22,
   "metadata": {
    "scrolled": true
   },
   "outputs": [],
   "source": [
    "input_size = 128\n",
    "input_shape = (2, input_size, input_size)\n",
    "latent_dim = 64 # plus facile pour la concaténation des outputs...\n",
    "\n",
    "# on donne en entrée des pairs d'images\n",
    "inputs_xy = Input(shape = (2, img_size, img_size, ), name = 'xy')\n",
    "\n",
    "# on sépare chacune des images\n",
    "x = Lambda(lambda x: x[:,0,:,:])(inputs_xy)\n",
    "x = Reshape((1,img_size, img_size,))(x)\n",
    "\n",
    "y = Lambda(lambda x: x[:,1,:,:])(inputs_xy)\n",
    "y = Reshape((1,img_size, img_size,))(y)\n",
    "\n",
    "# on factorise chacune des images avec dex conv2D\n",
    "fx = Conv2D(filters = 32, kernel_size = 3, strides = 2, activation = 'relu', padding = \"same\")(x)\n",
    "fx = Flatten()(fx)\n",
    "fx = Dense(latent_dim, activation = 'relu', name = 'latent_fx')(fx)\n",
    "fx = Reshape((latent_dim,1,))(fx)\n",
    "\n",
    "fy = Conv2D(filters = 32, kernel_size = 3, strides = 2, activation = 'relu', padding = \"same\")(y)\n",
    "fy = Flatten()(fy)\n",
    "fy = Dense(latent_dim, activation = 'relu', name = 'latent_fy')(fy)\n",
    "fy = Reshape((latent_dim,1,))(fy)\n",
    "\n",
    "# on multiplie les deux factorisations, TODO mieux si produit tensoriel\n",
    "matmul = Multiply()([fx, fy])\n",
    "\n",
    "# on passe le tout dans une couche de perceptrons pour obtenir les synérgies motrices\n",
    "x = Flatten()(matmul)\n",
    "fh = Dense(latent_dim, name = 'latent_fh')(x)\n",
    "fh = Reshape((latent_dim,))(fh)\n",
    "\n",
    "# tricks pour pouvoir passer fx et latent en outputs\n",
    "fx = Reshape((1,latent_dim,))(fx)\n",
    "fh = Reshape((1,latent_dim,))(fh)\n",
    "out = Concatenate()([fx, fh])\n",
    "\n",
    "encoder_alt = Model(inputs = inputs_xy, outputs = out, name = 'encoder_alt')"
   ]
  },
  {
   "cell_type": "code",
   "execution_count": 23,
   "metadata": {
    "scrolled": true
   },
   "outputs": [],
   "source": [
    "latent_inputs = Input(shape = (1,2*latent_dim,), name = 'decoder_input')\n",
    "\n",
    "# on déballe la factorisation en x\n",
    "fxdec = Lambda(lambda x: x[:,:,:latent_dim])(latent_inputs)\n",
    "fxdec = Reshape((latent_dim,1,))(fxdec)\n",
    "\n",
    "# on déballe les commandes motrices\n",
    "inp = Lambda(lambda x: x[:,:,latent_dim:])(latent_inputs)\n",
    "inp = Reshape((latent_dim,))(inp)\n",
    "\n",
    "# on fait passer les commandes motrices dans la couche de perceptrons\n",
    "fhdec = Dense(latent_dim, name='latent_fhdec')(inp)\n",
    "fhdec = Reshape((latent_dim,1,))(fhdec)\n",
    "\n",
    "# on mutliplie les deux représentations\n",
    "matmuldec = Multiply()([fxdec, fhdec])\n",
    "matmuldec = Reshape((latent_dim,))(matmuldec)\n",
    "\n",
    "# on en déduit une factorisation \n",
    "fydec = Dense(latent_dim, name = 'latent_fydec')(matmuldec)\n",
    "\n",
    "# on déduit l'image de départ de cette factorisation\n",
    "ydec = Dense(img_size*img_size, activation = 'relu', name = 'y_recon')(fydec)\n",
    "ydec = Reshape((1,img_size, img_size,))(ydec)\n",
    "\n",
    "# on rajoute une couche de déconvolution \n",
    "ydec = Conv2DTranspose(filters= 32, kernel_size = 3, activation = 'relu', padding = 'same')(ydec)\n",
    "ydec = Conv2DTranspose(filters= 64, kernel_size = 3, activation = 'relu', padding = 'same')(ydec)\n",
    "decoder_alt = Model(latent_inputs, outputs= ydec, name='decoder_alt')"
   ]
  },
  {
   "cell_type": "code",
   "execution_count": 24,
   "metadata": {},
   "outputs": [
    {
     "name": "stdout",
     "output_type": "stream",
     "text": [
      "_________________________________________________________________\n",
      "Layer (type)                 Output Shape              Param #   \n",
      "=================================================================\n",
      "xy (InputLayer)              (None, 2, 64, 64)         0         \n",
      "_________________________________________________________________\n",
      "encoder_alt (Model)          (None, 1, 128)            172288    \n",
      "_________________________________________________________________\n",
      "decoder_alt (Model)          (None, 1, 64, 64)         311520    \n",
      "=================================================================\n",
      "Total params: 483,808\n",
      "Trainable params: 483,808\n",
      "Non-trainable params: 0\n",
      "_________________________________________________________________\n"
     ]
    }
   ],
   "source": [
    "autoencoder_alt = Model(inputs_xy, decoder_alt(encoder_alt(inputs_xy)), name = \"autoencoder_alt\")\n",
    "autoencoder_alt.summary()"
   ]
  },
  {
   "cell_type": "markdown",
   "metadata": {},
   "source": [
    "## Entraînement"
   ]
  },
  {
   "cell_type": "markdown",
   "metadata": {},
   "source": [
    "On entraîne le modèle sur des pairs d'images.\n",
    "On utilise une descente de gradient stochastique. "
   ]
  },
  {
   "cell_type": "code",
   "execution_count": 28,
   "metadata": {
    "scrolled": true
   },
   "outputs": [
    {
     "name": "stdout",
     "output_type": "stream",
     "text": [
      "Train on 24000 samples, validate on 6000 samples\n",
      "Epoch 1/1000\n",
      "24000/24000 [==============================] - 27s 1ms/step - loss: -0.7270 - mean_absolute_error: 124.5373 - acc: 0.0151 - val_loss: -0.7594 - val_mean_absolute_error: 124.5373 - val_acc: 0.0146\n",
      "Epoch 2/1000\n",
      "24000/24000 [==============================] - 26s 1ms/step - loss: -0.7270 - mean_absolute_error: 124.5395 - acc: 0.0151 - val_loss: -0.7594 - val_mean_absolute_error: 124.5471 - val_acc: 0.0146\n",
      "Epoch 3/1000\n",
      "24000/24000 [==============================] - 26s 1ms/step - loss: -0.7270 - mean_absolute_error: 124.5518 - acc: 0.0151 - val_loss: -0.7594 - val_mean_absolute_error: 124.5542 - val_acc: 0.0146\n",
      "Epoch 4/1000\n",
      "24000/24000 [==============================] - 27s 1ms/step - loss: -0.7270 - mean_absolute_error: 124.5548 - acc: 0.0151 - val_loss: -0.7594 - val_mean_absolute_error: 124.5551 - val_acc: 0.0146\n",
      "Epoch 5/1000\n",
      "24000/24000 [==============================] - 27s 1ms/step - loss: -0.7270 - mean_absolute_error: 124.5554 - acc: 0.0151 - val_loss: -0.7594 - val_mean_absolute_error: 124.5555 - val_acc: 0.0146\n",
      "Epoch 6/1000\n",
      "24000/24000 [==============================] - 27s 1ms/step - loss: -0.7270 - mean_absolute_error: 124.5557 - acc: 0.0151 - val_loss: -0.7594 - val_mean_absolute_error: 124.5557 - val_acc: 0.0146\n",
      "Epoch 7/1000\n",
      "24000/24000 [==============================] - 26s 1ms/step - loss: -0.7270 - mean_absolute_error: 124.5558 - acc: 0.0151 - val_loss: -0.7594 - val_mean_absolute_error: 124.5559 - val_acc: 0.0146\n",
      "Epoch 8/1000\n",
      "24000/24000 [==============================] - 19s 795us/step - loss: -0.7270 - mean_absolute_error: 124.5560 - acc: 0.0151 - val_loss: -0.7594 - val_mean_absolute_error: 124.5560 - val_acc: 0.0146\n",
      "Epoch 9/1000\n",
      "24000/24000 [==============================] - 14s 574us/step - loss: -0.7270 - mean_absolute_error: 124.5561 - acc: 0.0151 - val_loss: -0.7594 - val_mean_absolute_error: 124.5562 - val_acc: 0.0146\n",
      "Epoch 10/1000\n",
      "24000/24000 [==============================] - 14s 577us/step - loss: -0.7270 - mean_absolute_error: 124.5563 - acc: 0.0151 - val_loss: -0.7594 - val_mean_absolute_error: 124.5563 - val_acc: 0.0146\n",
      "Epoch 11/1000\n",
      "24000/24000 [==============================] - 14s 582us/step - loss: -0.7270 - mean_absolute_error: 124.5564 - acc: 0.0151 - val_loss: -0.7594 - val_mean_absolute_error: 124.5564 - val_acc: 0.0146\n",
      "Epoch 12/1000\n",
      "24000/24000 [==============================] - 25s 1ms/step - loss: -0.7270 - mean_absolute_error: 124.5565 - acc: 0.0151 - val_loss: -0.7594 - val_mean_absolute_error: 124.5565 - val_acc: 0.0146\n",
      "Epoch 13/1000\n",
      "24000/24000 [==============================] - 25s 1ms/step - loss: -0.7270 - mean_absolute_error: 124.5567 - acc: 0.0151 - val_loss: -0.7594 - val_mean_absolute_error: 124.5567 - val_acc: 0.0146\n",
      "Epoch 14/1000\n",
      "24000/24000 [==============================] - 26s 1ms/step - loss: -0.7270 - mean_absolute_error: 124.5568 - acc: 0.0151 - val_loss: -0.7594 - val_mean_absolute_error: 124.5568 - val_acc: 0.0146\n",
      "Epoch 15/1000\n",
      "24000/24000 [==============================] - 26s 1ms/step - loss: -0.7270 - mean_absolute_error: 124.5569 - acc: 0.0151 - val_loss: -0.7594 - val_mean_absolute_error: 124.5569 - val_acc: 0.0146\n",
      "Epoch 16/1000\n",
      "24000/24000 [==============================] - 27s 1ms/step - loss: -0.7270 - mean_absolute_error: 124.5570 - acc: 0.0151 - val_loss: -0.7594 - val_mean_absolute_error: 124.5570 - val_acc: 0.0146\n",
      "Epoch 17/1000\n",
      "24000/24000 [==============================] - 25s 1ms/step - loss: -0.7270 - mean_absolute_error: 124.5572 - acc: 0.0151 - val_loss: -0.7594 - val_mean_absolute_error: 124.5572 - val_acc: 0.0146\n",
      "Epoch 18/1000\n",
      "24000/24000 [==============================] - 21s 889us/step - loss: -0.7270 - mean_absolute_error: 124.5573 - acc: 0.0151 - val_loss: -0.7594 - val_mean_absolute_error: 124.5573 - val_acc: 0.0146\n",
      "Epoch 19/1000\n",
      "24000/24000 [==============================] - 23s 946us/step - loss: -0.7270 - mean_absolute_error: 124.5574 - acc: 0.0151 - val_loss: -0.7594 - val_mean_absolute_error: 124.5574 - val_acc: 0.0146\n",
      "Epoch 20/1000\n",
      "24000/24000 [==============================] - 20s 827us/step - loss: -0.7270 - mean_absolute_error: 124.5575 - acc: 0.0151 - val_loss: -0.7594 - val_mean_absolute_error: 124.5575 - val_acc: 0.0146\n",
      "Epoch 21/1000\n",
      "24000/24000 [==============================] - 27s 1ms/step - loss: -0.7270 - mean_absolute_error: 124.5577 - acc: 0.0151 - val_loss: -0.7594 - val_mean_absolute_error: 124.5577 - val_acc: 0.0146\n",
      "Epoch 22/1000\n",
      "24000/24000 [==============================] - 27s 1ms/step - loss: -0.7270 - mean_absolute_error: 124.5578 - acc: 0.0151 - val_loss: -0.7594 - val_mean_absolute_error: 124.5578 - val_acc: 0.0146\n",
      "Epoch 23/1000\n",
      "24000/24000 [==============================] - 26s 1ms/step - loss: -0.7270 - mean_absolute_error: 124.5580 - acc: 0.0151 - val_loss: -0.7594 - val_mean_absolute_error: 124.5580 - val_acc: 0.0146\n",
      "Epoch 24/1000\n",
      "24000/24000 [==============================] - 26s 1ms/step - loss: -0.7270 - mean_absolute_error: 124.5581 - acc: 0.0151 - val_loss: -0.7594 - val_mean_absolute_error: 124.5581 - val_acc: 0.0146\n",
      "Epoch 25/1000\n",
      "24000/24000 [==============================] - 26s 1ms/step - loss: -0.7270 - mean_absolute_error: 124.5582 - acc: 0.0151 - val_loss: -0.7594 - val_mean_absolute_error: 124.5582 - val_acc: 0.0146\n",
      "Epoch 26/1000\n",
      "24000/24000 [==============================] - 16s 676us/step - loss: -0.7270 - mean_absolute_error: 124.5582 - acc: 0.0151 - val_loss: -0.7594 - val_mean_absolute_error: 124.5582 - val_acc: 0.0146\n",
      "Epoch 27/1000\n",
      "24000/24000 [==============================] - 14s 578us/step - loss: -0.7270 - mean_absolute_error: 124.5582 - acc: 0.0151 - val_loss: -0.7594 - val_mean_absolute_error: 124.5582 - val_acc: 0.0146\n",
      "Epoch 28/1000\n",
      "24000/24000 [==============================] - 14s 574us/step - loss: -0.7270 - mean_absolute_error: 124.5582 - acc: 0.0151 - val_loss: -0.7594 - val_mean_absolute_error: 124.5582 - val_acc: 0.0146\n",
      "Epoch 29/1000\n",
      "24000/24000 [==============================] - 16s 661us/step - loss: -0.7270 - mean_absolute_error: 124.5582 - acc: 0.0151 - val_loss: -0.7594 - val_mean_absolute_error: 124.5582 - val_acc: 0.0146\n",
      "Epoch 30/1000\n",
      "24000/24000 [==============================] - 24s 987us/step - loss: -0.7270 - mean_absolute_error: 124.5582 - acc: 0.0151 - val_loss: -0.7594 - val_mean_absolute_error: 124.5582 - val_acc: 0.0146\n",
      "Epoch 31/1000\n",
      "24000/24000 [==============================] - 23s 976us/step - loss: -0.7270 - mean_absolute_error: 124.5582 - acc: 0.0151 - val_loss: -0.7594 - val_mean_absolute_error: 124.5582 - val_acc: 0.0146\n",
      "Epoch 32/1000\n",
      "24000/24000 [==============================] - 23s 971us/step - loss: -0.7270 - mean_absolute_error: 124.5582 - acc: 0.0151 - val_loss: -0.7594 - val_mean_absolute_error: 124.5582 - val_acc: 0.0146\n",
      "Epoch 33/1000\n",
      "24000/24000 [==============================] - 24s 992us/step - loss: -0.7270 - mean_absolute_error: 124.5582 - acc: 0.0151 - val_loss: -0.7594 - val_mean_absolute_error: 124.5582 - val_acc: 0.0146\n",
      "Epoch 34/1000\n",
      "24000/24000 [==============================] - 19s 773us/step - loss: -0.7270 - mean_absolute_error: 124.5582 - acc: 0.0151 - val_loss: -0.7594 - val_mean_absolute_error: 124.5582 - val_acc: 0.0146\n",
      "Epoch 35/1000\n",
      "24000/24000 [==============================] - 20s 853us/step - loss: -0.7270 - mean_absolute_error: 124.5582 - acc: 0.0151 - val_loss: -0.7594 - val_mean_absolute_error: 124.5582 - val_acc: 0.0146\n",
      "Epoch 36/1000\n",
      "24000/24000 [==============================] - 19s 773us/step - loss: -0.7270 - mean_absolute_error: 124.5582 - acc: 0.0151 - val_loss: -0.7594 - val_mean_absolute_error: 124.5582 - val_acc: 0.0146\n",
      "Epoch 37/1000\n",
      "24000/24000 [==============================] - 19s 795us/step - loss: -0.7270 - mean_absolute_error: 124.5582 - acc: 0.0151 - val_loss: -0.7594 - val_mean_absolute_error: 124.5582 - val_acc: 0.0146\n",
      "Epoch 38/1000\n",
      "24000/24000 [==============================] - 17s 704us/step - loss: -0.7270 - mean_absolute_error: 124.5582 - acc: 0.0151 - val_loss: -0.7594 - val_mean_absolute_error: 124.5582 - val_acc: 0.0146\n",
      "Epoch 39/1000\n",
      "24000/24000 [==============================] - 21s 869us/step - loss: -0.7270 - mean_absolute_error: 124.5582 - acc: 0.0151 - val_loss: -0.7594 - val_mean_absolute_error: 124.5582 - val_acc: 0.0146\n"
     ]
    },
    {
     "name": "stdout",
     "output_type": "stream",
     "text": [
      "Epoch 40/1000\n",
      "24000/24000 [==============================] - 19s 810us/step - loss: -0.7270 - mean_absolute_error: 124.5582 - acc: 0.0151 - val_loss: -0.7594 - val_mean_absolute_error: 124.5582 - val_acc: 0.0146\n",
      "Epoch 41/1000\n",
      "24000/24000 [==============================] - 21s 861us/step - loss: -0.7270 - mean_absolute_error: 124.5582 - acc: 0.0151 - val_loss: -0.7594 - val_mean_absolute_error: 124.5582 - val_acc: 0.0146\n",
      "Epoch 42/1000\n",
      "24000/24000 [==============================] - 21s 857us/step - loss: -0.7270 - mean_absolute_error: 124.5582 - acc: 0.0151 - val_loss: -0.7594 - val_mean_absolute_error: 124.5582 - val_acc: 0.0146\n",
      "Epoch 43/1000\n",
      "24000/24000 [==============================] - 21s 866us/step - loss: -0.7270 - mean_absolute_error: 124.5582 - acc: 0.0151 - val_loss: -0.7594 - val_mean_absolute_error: 124.5582 - val_acc: 0.0146\n",
      "Epoch 44/1000\n",
      "24000/24000 [==============================] - 15s 604us/step - loss: -0.7270 - mean_absolute_error: 124.5582 - acc: 0.0151 - val_loss: -0.7594 - val_mean_absolute_error: 124.5582 - val_acc: 0.0146\n",
      "Epoch 45/1000\n",
      "24000/24000 [==============================] - 14s 568us/step - loss: -0.7270 - mean_absolute_error: 124.5582 - acc: 0.0151 - val_loss: -0.7594 - val_mean_absolute_error: 124.5582 - val_acc: 0.0146\n",
      "Epoch 46/1000\n",
      "24000/24000 [==============================] - 13s 555us/step - loss: -0.7270 - mean_absolute_error: 124.5582 - acc: 0.0151 - val_loss: -0.7594 - val_mean_absolute_error: 124.5582 - val_acc: 0.0146\n",
      "Epoch 47/1000\n",
      "24000/24000 [==============================] - 15s 617us/step - loss: -0.7270 - mean_absolute_error: 124.5582 - acc: 0.0151 - val_loss: -0.7594 - val_mean_absolute_error: 124.5582 - val_acc: 0.0146\n",
      "Epoch 48/1000\n",
      "24000/24000 [==============================] - 20s 824us/step - loss: -0.7270 - mean_absolute_error: 124.5582 - acc: 0.0151 - val_loss: -0.7594 - val_mean_absolute_error: 124.5582 - val_acc: 0.0146\n",
      "Epoch 49/1000\n",
      "24000/24000 [==============================] - 19s 808us/step - loss: -0.7270 - mean_absolute_error: 124.5582 - acc: 0.0151 - val_loss: -0.7594 - val_mean_absolute_error: 124.5582 - val_acc: 0.0146\n",
      "Epoch 50/1000\n",
      "24000/24000 [==============================] - 19s 812us/step - loss: -0.7270 - mean_absolute_error: 124.5582 - acc: 0.0151 - val_loss: -0.7594 - val_mean_absolute_error: 124.5582 - val_acc: 0.0146\n",
      "Epoch 51/1000\n",
      "24000/24000 [==============================] - 20s 826us/step - loss: -0.7270 - mean_absolute_error: 124.5582 - acc: 0.0151 - val_loss: -0.7594 - val_mean_absolute_error: 124.5582 - val_acc: 0.0146\n",
      "Epoch 52/1000\n",
      "24000/24000 [==============================] - 20s 854us/step - loss: -0.7270 - mean_absolute_error: 124.5582 - acc: 0.0151 - val_loss: -0.7594 - val_mean_absolute_error: 124.5582 - val_acc: 0.0146\n",
      "Epoch 53/1000\n",
      "24000/24000 [==============================] - 20s 826us/step - loss: -0.7270 - mean_absolute_error: 124.5582 - acc: 0.0151 - val_loss: -0.7594 - val_mean_absolute_error: 124.5582 - val_acc: 0.0146\n",
      "Epoch 54/1000\n",
      "24000/24000 [==============================] - 20s 814us/step - loss: -0.7270 - mean_absolute_error: 124.5582 - acc: 0.0151 - val_loss: -0.7594 - val_mean_absolute_error: 124.5582 - val_acc: 0.0146\n",
      "Epoch 55/1000\n",
      "24000/24000 [==============================] - 20s 852us/step - loss: -0.7270 - mean_absolute_error: 124.5582 - acc: 0.0151 - val_loss: -0.7594 - val_mean_absolute_error: 124.5582 - val_acc: 0.0146\n",
      "Epoch 56/1000\n",
      "24000/24000 [==============================] - 20s 840us/step - loss: -0.7270 - mean_absolute_error: 124.5582 - acc: 0.0151 - val_loss: -0.7594 - val_mean_absolute_error: 124.5582 - val_acc: 0.0146\n",
      "Epoch 57/1000\n",
      "24000/24000 [==============================] - 20s 849us/step - loss: -0.7270 - mean_absolute_error: 124.5582 - acc: 0.0151 - val_loss: -0.7594 - val_mean_absolute_error: 124.5582 - val_acc: 0.0146\n",
      "Epoch 58/1000\n",
      "24000/24000 [==============================] - 21s 868us/step - loss: -0.7270 - mean_absolute_error: 124.5582 - acc: 0.0151 - val_loss: -0.7594 - val_mean_absolute_error: 124.5582 - val_acc: 0.0146\n",
      "Epoch 59/1000\n",
      "24000/24000 [==============================] - 20s 834us/step - loss: -0.7270 - mean_absolute_error: 124.5582 - acc: 0.0151 - val_loss: -0.7594 - val_mean_absolute_error: 124.5582 - val_acc: 0.0146\n",
      "Epoch 60/1000\n",
      "24000/24000 [==============================] - 19s 812us/step - loss: -0.7270 - mean_absolute_error: 124.5582 - acc: 0.0151 - val_loss: -0.7594 - val_mean_absolute_error: 124.5582 - val_acc: 0.0146\n",
      "Epoch 61/1000\n",
      "24000/24000 [==============================] - 21s 868us/step - loss: -0.7270 - mean_absolute_error: 124.5582 - acc: 0.0151 - val_loss: -0.7594 - val_mean_absolute_error: 124.5582 - val_acc: 0.0146\n",
      "Epoch 62/1000\n",
      "24000/24000 [==============================] - 20s 846us/step - loss: -0.7270 - mean_absolute_error: 124.5582 - acc: 0.0151 - val_loss: -0.7594 - val_mean_absolute_error: 124.5582 - val_acc: 0.0146\n",
      "Epoch 63/1000\n",
      "24000/24000 [==============================] - 20s 839us/step - loss: -0.7270 - mean_absolute_error: 124.5582 - acc: 0.0151 - val_loss: -0.7594 - val_mean_absolute_error: 124.5582 - val_acc: 0.0146\n",
      "Epoch 64/1000\n",
      "24000/24000 [==============================] - 21s 881us/step - loss: -0.7270 - mean_absolute_error: 124.5582 - acc: 0.0151 - val_loss: -0.7594 - val_mean_absolute_error: 124.5582 - val_acc: 0.0146\n",
      "Epoch 65/1000\n",
      "24000/24000 [==============================] - 20s 852us/step - loss: -0.7270 - mean_absolute_error: 124.5582 - acc: 0.0151 - val_loss: -0.7594 - val_mean_absolute_error: 124.5582 - val_acc: 0.0146\n",
      "Epoch 66/1000\n",
      "24000/24000 [==============================] - 20s 818us/step - loss: -0.7270 - mean_absolute_error: 124.5582 - acc: 0.0151 - val_loss: -0.7594 - val_mean_absolute_error: 124.5582 - val_acc: 0.0146\n",
      "Epoch 67/1000\n",
      "24000/24000 [==============================] - 19s 810us/step - loss: -0.7270 - mean_absolute_error: 124.5582 - acc: 0.0151 - val_loss: -0.7594 - val_mean_absolute_error: 124.5582 - val_acc: 0.0146\n",
      "Epoch 68/1000\n",
      "24000/24000 [==============================] - 19s 805us/step - loss: -0.7270 - mean_absolute_error: 124.5582 - acc: 0.0151 - val_loss: -0.7594 - val_mean_absolute_error: 124.5582 - val_acc: 0.0146\n",
      "Epoch 69/1000\n",
      "24000/24000 [==============================] - 19s 806us/step - loss: -0.7270 - mean_absolute_error: 124.5582 - acc: 0.0151 - val_loss: -0.7594 - val_mean_absolute_error: 124.5582 - val_acc: 0.0146\n",
      "Epoch 70/1000\n",
      "24000/24000 [==============================] - 19s 808us/step - loss: -0.7270 - mean_absolute_error: 124.5582 - acc: 0.0151 - val_loss: -0.7594 - val_mean_absolute_error: 124.5582 - val_acc: 0.0146\n",
      "Epoch 71/1000\n",
      "24000/24000 [==============================] - 19s 810us/step - loss: -0.7270 - mean_absolute_error: 124.5582 - acc: 0.0151 - val_loss: -0.7594 - val_mean_absolute_error: 124.5582 - val_acc: 0.0146\n",
      "Epoch 72/1000\n",
      "24000/24000 [==============================] - 20s 850us/step - loss: -0.7270 - mean_absolute_error: 124.5582 - acc: 0.0151 - val_loss: -0.7594 - val_mean_absolute_error: 124.5582 - val_acc: 0.0146\n",
      "Epoch 73/1000\n",
      "24000/24000 [==============================] - 20s 836us/step - loss: -0.7270 - mean_absolute_error: 124.5582 - acc: 0.0151 - val_loss: -0.7594 - val_mean_absolute_error: 124.5582 - val_acc: 0.0146\n",
      "Epoch 74/1000\n",
      "24000/24000 [==============================] - 19s 809us/step - loss: -0.7270 - mean_absolute_error: 124.5582 - acc: 0.0151 - val_loss: -0.7594 - val_mean_absolute_error: 124.5582 - val_acc: 0.0146\n",
      "Epoch 75/1000\n",
      "24000/24000 [==============================] - 19s 811us/step - loss: -0.7270 - mean_absolute_error: 124.5582 - acc: 0.0151 - val_loss: -0.7594 - val_mean_absolute_error: 124.5582 - val_acc: 0.0146\n",
      "Epoch 76/1000\n",
      "24000/24000 [==============================] - 21s 855us/step - loss: -0.7270 - mean_absolute_error: 124.5582 - acc: 0.0151 - val_loss: -0.7594 - val_mean_absolute_error: 124.5582 - val_acc: 0.0146\n",
      "Epoch 77/1000\n",
      "24000/24000 [==============================] - 20s 822us/step - loss: -0.7270 - mean_absolute_error: 124.5582 - acc: 0.0151 - val_loss: -0.7594 - val_mean_absolute_error: 124.5582 - val_acc: 0.0146\n",
      "Epoch 78/1000\n",
      "24000/24000 [==============================] - 20s 847us/step - loss: -0.7270 - mean_absolute_error: 124.5582 - acc: 0.0151 - val_loss: -0.7594 - val_mean_absolute_error: 124.5582 - val_acc: 0.0146\n"
     ]
    },
    {
     "name": "stdout",
     "output_type": "stream",
     "text": [
      "Epoch 79/1000\n",
      "24000/24000 [==============================] - 20s 843us/step - loss: -0.7270 - mean_absolute_error: 124.5582 - acc: 0.0151 - val_loss: -0.7594 - val_mean_absolute_error: 124.5582 - val_acc: 0.0146\n",
      "Epoch 80/1000\n",
      "24000/24000 [==============================] - 21s 858us/step - loss: -0.7270 - mean_absolute_error: 124.5582 - acc: 0.0151 - val_loss: -0.7594 - val_mean_absolute_error: 124.5582 - val_acc: 0.0146\n",
      "Epoch 81/1000\n",
      "24000/24000 [==============================] - 20s 819us/step - loss: -0.7270 - mean_absolute_error: 124.5582 - acc: 0.0151 - val_loss: -0.7594 - val_mean_absolute_error: 124.5582 - val_acc: 0.0146\n",
      "Epoch 82/1000\n",
      "24000/24000 [==============================] - 21s 862us/step - loss: -0.7270 - mean_absolute_error: 124.5582 - acc: 0.0151 - val_loss: -0.7594 - val_mean_absolute_error: 124.5582 - val_acc: 0.0146\n",
      "Epoch 83/1000\n",
      "24000/24000 [==============================] - 20s 833us/step - loss: -0.7270 - mean_absolute_error: 124.5582 - acc: 0.0151 - val_loss: -0.7594 - val_mean_absolute_error: 124.5582 - val_acc: 0.0146\n",
      "Epoch 84/1000\n",
      "24000/24000 [==============================] - 20s 815us/step - loss: -0.7270 - mean_absolute_error: 124.5582 - acc: 0.0151 - val_loss: -0.7594 - val_mean_absolute_error: 124.5582 - val_acc: 0.0146\n",
      "Epoch 85/1000\n",
      "24000/24000 [==============================] - 16s 685us/step - loss: -0.7270 - mean_absolute_error: 124.5582 - acc: 0.0151 - val_loss: -0.7594 - val_mean_absolute_error: 124.5582 - val_acc: 0.0146\n",
      "Epoch 86/1000\n",
      "24000/24000 [==============================] - 13s 555us/step - loss: -0.7270 - mean_absolute_error: 124.5582 - acc: 0.0151 - val_loss: -0.7594 - val_mean_absolute_error: 124.5582 - val_acc: 0.0146\n",
      "Epoch 87/1000\n",
      "24000/24000 [==============================] - 13s 554us/step - loss: -0.7270 - mean_absolute_error: 124.5582 - acc: 0.0151 - val_loss: -0.7594 - val_mean_absolute_error: 124.5582 - val_acc: 0.0146\n",
      "Epoch 88/1000\n",
      "24000/24000 [==============================] - 13s 552us/step - loss: -0.7270 - mean_absolute_error: 124.5582 - acc: 0.0151 - val_loss: -0.7594 - val_mean_absolute_error: 124.5582 - val_acc: 0.0146\n",
      "Epoch 89/1000\n",
      "24000/24000 [==============================] - 13s 560us/step - loss: -0.7270 - mean_absolute_error: 124.5582 - acc: 0.0151 - val_loss: -0.7594 - val_mean_absolute_error: 124.5582 - val_acc: 0.0146\n",
      "Epoch 90/1000\n",
      "24000/24000 [==============================] - 13s 558us/step - loss: -0.7270 - mean_absolute_error: 124.5582 - acc: 0.0151 - val_loss: -0.7594 - val_mean_absolute_error: 124.5582 - val_acc: 0.0146\n",
      "Epoch 91/1000\n",
      "24000/24000 [==============================] - 13s 558us/step - loss: -0.7270 - mean_absolute_error: 124.5582 - acc: 0.0151 - val_loss: -0.7594 - val_mean_absolute_error: 124.5582 - val_acc: 0.0146\n",
      "Epoch 92/1000\n",
      "24000/24000 [==============================] - 13s 553us/step - loss: -0.7270 - mean_absolute_error: 124.5582 - acc: 0.0151 - val_loss: -0.7594 - val_mean_absolute_error: 124.5582 - val_acc: 0.0146\n",
      "Epoch 93/1000\n",
      "24000/24000 [==============================] - 13s 554us/step - loss: -0.7270 - mean_absolute_error: 124.5582 - acc: 0.0151 - val_loss: -0.7594 - val_mean_absolute_error: 124.5582 - val_acc: 0.0146\n",
      "Epoch 94/1000\n",
      "24000/24000 [==============================] - 13s 554us/step - loss: -0.7270 - mean_absolute_error: 124.5582 - acc: 0.0151 - val_loss: -0.7594 - val_mean_absolute_error: 124.5582 - val_acc: 0.0146\n",
      "Epoch 95/1000\n",
      "24000/24000 [==============================] - 13s 554us/step - loss: -0.7270 - mean_absolute_error: 124.5582 - acc: 0.0151 - val_loss: -0.7594 - val_mean_absolute_error: 124.5582 - val_acc: 0.0146\n",
      "Epoch 96/1000\n",
      "24000/24000 [==============================] - 13s 555us/step - loss: -0.7270 - mean_absolute_error: 124.5582 - acc: 0.0151 - val_loss: -0.7594 - val_mean_absolute_error: 124.5582 - val_acc: 0.0146\n",
      "Epoch 97/1000\n",
      "24000/24000 [==============================] - 13s 554us/step - loss: -0.7270 - mean_absolute_error: 124.5582 - acc: 0.0151 - val_loss: -0.7594 - val_mean_absolute_error: 124.5582 - val_acc: 0.0146\n",
      "Epoch 98/1000\n",
      "24000/24000 [==============================] - 13s 556us/step - loss: -0.7270 - mean_absolute_error: 124.5582 - acc: 0.0151 - val_loss: -0.7594 - val_mean_absolute_error: 124.5582 - val_acc: 0.0146\n",
      "Epoch 99/1000\n",
      "24000/24000 [==============================] - 13s 552us/step - loss: -0.7270 - mean_absolute_error: 124.5582 - acc: 0.0151 - val_loss: -0.7594 - val_mean_absolute_error: 124.5582 - val_acc: 0.0146\n",
      "Epoch 100/1000\n",
      "24000/24000 [==============================] - 13s 555us/step - loss: -0.7270 - mean_absolute_error: 124.5582 - acc: 0.0151 - val_loss: -0.7594 - val_mean_absolute_error: 124.5582 - val_acc: 0.0146\n",
      "Epoch 101/1000\n",
      "24000/24000 [==============================] - 13s 553us/step - loss: -0.7270 - mean_absolute_error: 124.5582 - acc: 0.0151 - val_loss: -0.7594 - val_mean_absolute_error: 124.5582 - val_acc: 0.0146\n",
      "Epoch 102/1000\n",
      "24000/24000 [==============================] - 13s 555us/step - loss: -0.7270 - mean_absolute_error: 124.5582 - acc: 0.0151 - val_loss: -0.7594 - val_mean_absolute_error: 124.5582 - val_acc: 0.0146\n",
      "Epoch 103/1000\n",
      "24000/24000 [==============================] - 13s 554us/step - loss: -0.7270 - mean_absolute_error: 124.5582 - acc: 0.0151 - val_loss: -0.7594 - val_mean_absolute_error: 124.5582 - val_acc: 0.0146\n",
      "Epoch 104/1000\n",
      "24000/24000 [==============================] - 13s 554us/step - loss: -0.7270 - mean_absolute_error: 124.5582 - acc: 0.0151 - val_loss: -0.7594 - val_mean_absolute_error: 124.5582 - val_acc: 0.0146\n",
      "Epoch 105/1000\n",
      "24000/24000 [==============================] - 13s 556us/step - loss: -0.7270 - mean_absolute_error: 124.5582 - acc: 0.0151 - val_loss: -0.7594 - val_mean_absolute_error: 124.5582 - val_acc: 0.0146\n",
      "Epoch 106/1000\n",
      "24000/24000 [==============================] - 13s 555us/step - loss: -0.7270 - mean_absolute_error: 124.5582 - acc: 0.0151 - val_loss: -0.7594 - val_mean_absolute_error: 124.5582 - val_acc: 0.0146\n",
      "Epoch 107/1000\n",
      "24000/24000 [==============================] - 13s 555us/step - loss: -0.7270 - mean_absolute_error: 124.5582 - acc: 0.0151 - val_loss: -0.7594 - val_mean_absolute_error: 124.5582 - val_acc: 0.0146\n",
      "Epoch 108/1000\n",
      "24000/24000 [==============================] - 14s 585us/step - loss: -0.7270 - mean_absolute_error: 124.5582 - acc: 0.0151 - val_loss: -0.7594 - val_mean_absolute_error: 124.5582 - val_acc: 0.0146\n",
      "Epoch 109/1000\n",
      "24000/24000 [==============================] - 14s 582us/step - loss: -0.7270 - mean_absolute_error: 124.5582 - acc: 0.0151 - val_loss: -0.7594 - val_mean_absolute_error: 124.5582 - val_acc: 0.0146\n",
      "Epoch 110/1000\n",
      "24000/24000 [==============================] - 13s 558us/step - loss: -0.7270 - mean_absolute_error: 124.5582 - acc: 0.0151 - val_loss: -0.7594 - val_mean_absolute_error: 124.5582 - val_acc: 0.0146\n",
      "Epoch 111/1000\n",
      "24000/24000 [==============================] - 13s 555us/step - loss: -0.7270 - mean_absolute_error: 124.5582 - acc: 0.0151 - val_loss: -0.7594 - val_mean_absolute_error: 124.5582 - val_acc: 0.0146\n",
      "Epoch 112/1000\n",
      "24000/24000 [==============================] - 13s 561us/step - loss: -0.7270 - mean_absolute_error: 124.5582 - acc: 0.0151 - val_loss: -0.7594 - val_mean_absolute_error: 124.5582 - val_acc: 0.0146\n",
      "Epoch 113/1000\n",
      "24000/24000 [==============================] - 13s 562us/step - loss: -0.7270 - mean_absolute_error: 124.5582 - acc: 0.0151 - val_loss: -0.7594 - val_mean_absolute_error: 124.5582 - val_acc: 0.0146\n",
      "Epoch 114/1000\n",
      "24000/24000 [==============================] - 14s 569us/step - loss: -0.7270 - mean_absolute_error: 124.5582 - acc: 0.0151 - val_loss: -0.7594 - val_mean_absolute_error: 124.5582 - val_acc: 0.0146\n",
      "Epoch 115/1000\n",
      "24000/24000 [==============================] - 14s 572us/step - loss: -0.7270 - mean_absolute_error: 124.5582 - acc: 0.0151 - val_loss: -0.7594 - val_mean_absolute_error: 124.5582 - val_acc: 0.0146\n",
      "Epoch 116/1000\n",
      "24000/24000 [==============================] - 14s 578us/step - loss: -0.7270 - mean_absolute_error: 124.5582 - acc: 0.0151 - val_loss: -0.7594 - val_mean_absolute_error: 124.5582 - val_acc: 0.0146\n",
      "Epoch 117/1000\n"
     ]
    },
    {
     "name": "stdout",
     "output_type": "stream",
     "text": [
      "24000/24000 [==============================] - 19s 789us/step - loss: -0.7270 - mean_absolute_error: 124.5582 - acc: 0.0151 - val_loss: -0.7594 - val_mean_absolute_error: 124.5582 - val_acc: 0.0146\n",
      "Epoch 118/1000\n",
      "24000/24000 [==============================] - 21s 860us/step - loss: -0.7270 - mean_absolute_error: 124.5582 - acc: 0.0151 - val_loss: -0.7594 - val_mean_absolute_error: 124.5582 - val_acc: 0.0146\n",
      "Epoch 119/1000\n",
      "24000/24000 [==============================] - 21s 880us/step - loss: -0.7270 - mean_absolute_error: 124.5582 - acc: 0.0151 - val_loss: -0.7594 - val_mean_absolute_error: 124.5582 - val_acc: 0.0146\n",
      "Epoch 120/1000\n",
      "24000/24000 [==============================] - 18s 765us/step - loss: -0.7270 - mean_absolute_error: 124.5582 - acc: 0.0151 - val_loss: -0.7594 - val_mean_absolute_error: 124.5582 - val_acc: 0.0146\n",
      "Epoch 121/1000\n",
      "24000/24000 [==============================] - 15s 621us/step - loss: -0.7270 - mean_absolute_error: 124.5582 - acc: 0.0151 - val_loss: -0.7594 - val_mean_absolute_error: 124.5582 - val_acc: 0.0146\n",
      "Epoch 122/1000\n",
      "24000/24000 [==============================] - 20s 817us/step - loss: -0.7270 - mean_absolute_error: 124.5582 - acc: 0.0151 - val_loss: -0.7594 - val_mean_absolute_error: 124.5582 - val_acc: 0.0146\n",
      "Epoch 123/1000\n",
      "24000/24000 [==============================] - 21s 857us/step - loss: -0.7270 - mean_absolute_error: 124.5582 - acc: 0.0151 - val_loss: -0.7594 - val_mean_absolute_error: 124.5582 - val_acc: 0.0146\n",
      "Epoch 124/1000\n",
      "24000/24000 [==============================] - 20s 839us/step - loss: -0.7270 - mean_absolute_error: 124.5582 - acc: 0.0151 - val_loss: -0.7594 - val_mean_absolute_error: 124.5582 - val_acc: 0.0146\n",
      "Epoch 125/1000\n",
      "24000/24000 [==============================] - 15s 643us/step - loss: -0.7270 - mean_absolute_error: 124.5582 - acc: 0.0151 - val_loss: -0.7594 - val_mean_absolute_error: 124.5582 - val_acc: 0.0146\n",
      "Epoch 126/1000\n",
      "24000/24000 [==============================] - 20s 833us/step - loss: -0.7270 - mean_absolute_error: 124.5582 - acc: 0.0151 - val_loss: -0.7594 - val_mean_absolute_error: 124.5582 - val_acc: 0.0146\n",
      "Epoch 127/1000\n",
      "24000/24000 [==============================] - 20s 828us/step - loss: -0.7270 - mean_absolute_error: 124.5582 - acc: 0.0151 - val_loss: -0.7594 - val_mean_absolute_error: 124.5582 - val_acc: 0.0146\n",
      "Epoch 128/1000\n",
      "24000/24000 [==============================] - 14s 597us/step - loss: -0.7270 - mean_absolute_error: 124.5582 - acc: 0.0151 - val_loss: -0.7594 - val_mean_absolute_error: 124.5582 - val_acc: 0.0146\n",
      "Epoch 129/1000\n",
      "24000/24000 [==============================] - 20s 848us/step - loss: -0.7270 - mean_absolute_error: 124.5582 - acc: 0.0151 - val_loss: -0.7594 - val_mean_absolute_error: 124.5582 - val_acc: 0.0146\n",
      "Epoch 130/1000\n",
      "24000/24000 [==============================] - 20s 854us/step - loss: -0.7270 - mean_absolute_error: 124.5582 - acc: 0.0151 - val_loss: -0.7594 - val_mean_absolute_error: 124.5582 - val_acc: 0.0146\n",
      "Epoch 131/1000\n",
      "24000/24000 [==============================] - 17s 724us/step - loss: -0.7270 - mean_absolute_error: 124.5582 - acc: 0.0151 - val_loss: -0.7594 - val_mean_absolute_error: 124.5582 - val_acc: 0.0146\n",
      "Epoch 132/1000\n",
      "24000/24000 [==============================] - 21s 870us/step - loss: -0.7270 - mean_absolute_error: 124.5582 - acc: 0.0151 - val_loss: -0.7594 - val_mean_absolute_error: 124.5582 - val_acc: 0.0146\n",
      "Epoch 133/1000\n",
      "24000/24000 [==============================] - 20s 834us/step - loss: -0.7270 - mean_absolute_error: 124.5582 - acc: 0.0151 - val_loss: -0.7594 - val_mean_absolute_error: 124.5582 - val_acc: 0.0146\n",
      "Epoch 134/1000\n",
      "24000/24000 [==============================] - 16s 683us/step - loss: -0.7270 - mean_absolute_error: 124.5582 - acc: 0.0151 - val_loss: -0.7594 - val_mean_absolute_error: 124.5582 - val_acc: 0.0146\n",
      "Epoch 135/1000\n",
      "24000/24000 [==============================] - 14s 570us/step - loss: -0.7270 - mean_absolute_error: 124.5582 - acc: 0.0151 - val_loss: -0.7594 - val_mean_absolute_error: 124.5582 - val_acc: 0.0146\n",
      "Epoch 136/1000\n",
      "24000/24000 [==============================] - 14s 597us/step - loss: -0.7270 - mean_absolute_error: 124.5582 - acc: 0.0151 - val_loss: -0.7594 - val_mean_absolute_error: 124.5582 - val_acc: 0.0146\n",
      "Epoch 137/1000\n",
      "24000/24000 [==============================] - 14s 585us/step - loss: -0.7270 - mean_absolute_error: 124.5582 - acc: 0.0151 - val_loss: -0.7594 - val_mean_absolute_error: 124.5582 - val_acc: 0.0146\n",
      "Epoch 138/1000\n",
      "24000/24000 [==============================] - 15s 637us/step - loss: -0.7270 - mean_absolute_error: 124.5582 - acc: 0.0151 - val_loss: -0.7594 - val_mean_absolute_error: 124.5582 - val_acc: 0.0146\n",
      "Epoch 139/1000\n",
      "24000/24000 [==============================] - 21s 860us/step - loss: -0.7270 - mean_absolute_error: 124.5582 - acc: 0.0151 - val_loss: -0.7594 - val_mean_absolute_error: 124.5582 - val_acc: 0.0146\n",
      "Epoch 140/1000\n",
      "24000/24000 [==============================] - 20s 849us/step - loss: -0.7270 - mean_absolute_error: 124.5582 - acc: 0.0151 - val_loss: -0.7594 - val_mean_absolute_error: 124.5582 - val_acc: 0.0146\n",
      "Epoch 141/1000\n",
      "24000/24000 [==============================] - 18s 735us/step - loss: -0.7270 - mean_absolute_error: 124.5582 - acc: 0.0151 - val_loss: -0.7594 - val_mean_absolute_error: 124.5582 - val_acc: 0.0146\n",
      "Epoch 142/1000\n",
      "24000/24000 [==============================] - 17s 688us/step - loss: -0.7270 - mean_absolute_error: 124.5582 - acc: 0.0151 - val_loss: -0.7594 - val_mean_absolute_error: 124.5582 - val_acc: 0.0146\n",
      "Epoch 143/1000\n",
      "24000/24000 [==============================] - 14s 580us/step - loss: -0.7270 - mean_absolute_error: 124.5582 - acc: 0.0151 - val_loss: -0.7594 - val_mean_absolute_error: 124.5582 - val_acc: 0.0146\n",
      "Epoch 144/1000\n",
      "24000/24000 [==============================] - 15s 611us/step - loss: -0.7270 - mean_absolute_error: 124.5582 - acc: 0.0151 - val_loss: -0.7594 - val_mean_absolute_error: 124.5582 - val_acc: 0.0146\n",
      "Epoch 145/1000\n",
      "24000/24000 [==============================] - 19s 808us/step - loss: -0.7270 - mean_absolute_error: 124.5582 - acc: 0.0151 - val_loss: -0.7594 - val_mean_absolute_error: 124.5582 - val_acc: 0.0146\n",
      "Epoch 146/1000\n",
      "24000/24000 [==============================] - 21s 870us/step - loss: -0.7270 - mean_absolute_error: 124.5582 - acc: 0.0151 - val_loss: -0.7594 - val_mean_absolute_error: 124.5582 - val_acc: 0.0146\n",
      "Epoch 147/1000\n",
      "24000/24000 [==============================] - 20s 838us/step - loss: -0.7270 - mean_absolute_error: 124.5582 - acc: 0.0151 - val_loss: -0.7594 - val_mean_absolute_error: 124.5582 - val_acc: 0.0146\n",
      "Epoch 148/1000\n",
      "24000/24000 [==============================] - 21s 886us/step - loss: -0.7270 - mean_absolute_error: 124.5582 - acc: 0.0151 - val_loss: -0.7594 - val_mean_absolute_error: 124.5582 - val_acc: 0.0146\n",
      "Epoch 149/1000\n",
      "24000/24000 [==============================] - 21s 879us/step - loss: -0.7270 - mean_absolute_error: 124.5582 - acc: 0.0151 - val_loss: -0.7594 - val_mean_absolute_error: 124.5582 - val_acc: 0.0146\n",
      "Epoch 150/1000\n",
      "24000/24000 [==============================] - 20s 842us/step - loss: -0.7270 - mean_absolute_error: 124.5582 - acc: 0.0151 - val_loss: -0.7594 - val_mean_absolute_error: 124.5582 - val_acc: 0.0146\n",
      "Epoch 151/1000\n",
      "24000/24000 [==============================] - 14s 602us/step - loss: -0.7270 - mean_absolute_error: 124.5582 - acc: 0.0151 - val_loss: -0.7594 - val_mean_absolute_error: 124.5582 - val_acc: 0.0146\n",
      "Epoch 152/1000\n",
      "24000/24000 [==============================] - 21s 885us/step - loss: -0.7270 - mean_absolute_error: 124.5582 - acc: 0.0151 - val_loss: -0.7594 - val_mean_absolute_error: 124.5582 - val_acc: 0.0146\n",
      "Epoch 153/1000\n",
      "24000/24000 [==============================] - 21s 872us/step - loss: -0.7270 - mean_absolute_error: 124.5582 - acc: 0.0151 - val_loss: -0.7594 - val_mean_absolute_error: 124.5582 - val_acc: 0.0146\n",
      "Epoch 154/1000\n",
      "24000/24000 [==============================] - 20s 814us/step - loss: -0.7270 - mean_absolute_error: 124.5582 - acc: 0.0151 - val_loss: -0.7594 - val_mean_absolute_error: 124.5582 - val_acc: 0.0146\n",
      "Epoch 155/1000\n"
     ]
    },
    {
     "name": "stdout",
     "output_type": "stream",
     "text": [
      "24000/24000 [==============================] - 19s 808us/step - loss: -0.7270 - mean_absolute_error: 124.5582 - acc: 0.0151 - val_loss: -0.7594 - val_mean_absolute_error: 124.5582 - val_acc: 0.0146\n",
      "Epoch 156/1000\n",
      "24000/24000 [==============================] - 20s 838us/step - loss: -0.7270 - mean_absolute_error: 124.5582 - acc: 0.0151 - val_loss: -0.7594 - val_mean_absolute_error: 124.5582 - val_acc: 0.0146\n",
      "Epoch 157/1000\n",
      "24000/24000 [==============================] - 20s 835us/step - loss: -0.7270 - mean_absolute_error: 124.5582 - acc: 0.0151 - val_loss: -0.7594 - val_mean_absolute_error: 124.5582 - val_acc: 0.0146\n",
      "Epoch 158/1000\n",
      "24000/24000 [==============================] - 20s 813us/step - loss: -0.7270 - mean_absolute_error: 124.5582 - acc: 0.0151 - val_loss: -0.7594 - val_mean_absolute_error: 124.5582 - val_acc: 0.0146\n",
      "Epoch 159/1000\n",
      "24000/24000 [==============================] - 20s 814us/step - loss: -0.7270 - mean_absolute_error: 124.5582 - acc: 0.0151 - val_loss: -0.7594 - val_mean_absolute_error: 124.5582 - val_acc: 0.0146\n",
      "Epoch 160/1000\n",
      "24000/24000 [==============================] - 20s 815us/step - loss: -0.7270 - mean_absolute_error: 124.5582 - acc: 0.0151 - val_loss: -0.7594 - val_mean_absolute_error: 124.5582 - val_acc: 0.0146\n",
      "Epoch 161/1000\n",
      "24000/24000 [==============================] - 18s 759us/step - loss: -0.7270 - mean_absolute_error: 124.5582 - acc: 0.0151 - val_loss: -0.7594 - val_mean_absolute_error: 124.5582 - val_acc: 0.0146\n",
      "Epoch 162/1000\n",
      "24000/24000 [==============================] - 19s 780us/step - loss: -0.7270 - mean_absolute_error: 124.5582 - acc: 0.0151 - val_loss: -0.7594 - val_mean_absolute_error: 124.5582 - val_acc: 0.0146\n",
      "Epoch 163/1000\n",
      "24000/24000 [==============================] - 14s 595us/step - loss: -0.7270 - mean_absolute_error: 124.5582 - acc: 0.0151 - val_loss: -0.7594 - val_mean_absolute_error: 124.5582 - val_acc: 0.0146\n",
      "Epoch 164/1000\n",
      "24000/24000 [==============================] - 14s 566us/step - loss: -0.7270 - mean_absolute_error: 124.5582 - acc: 0.0151 - val_loss: -0.7594 - val_mean_absolute_error: 124.5582 - val_acc: 0.0146\n",
      "Epoch 165/1000\n",
      "24000/24000 [==============================] - 14s 575us/step - loss: -0.7270 - mean_absolute_error: 124.5582 - acc: 0.0151 - val_loss: -0.7594 - val_mean_absolute_error: 124.5582 - val_acc: 0.0146\n",
      "Epoch 166/1000\n",
      "24000/24000 [==============================] - 18s 735us/step - loss: -0.7270 - mean_absolute_error: 124.5582 - acc: 0.0151 - val_loss: -0.7594 - val_mean_absolute_error: 124.5582 - val_acc: 0.0146\n",
      "Epoch 167/1000\n",
      "24000/24000 [==============================] - 20s 852us/step - loss: -0.7270 - mean_absolute_error: 124.5582 - acc: 0.0151 - val_loss: -0.7594 - val_mean_absolute_error: 124.5582 - val_acc: 0.0146\n",
      "Epoch 168/1000\n",
      "24000/24000 [==============================] - 20s 816us/step - loss: -0.7270 - mean_absolute_error: 124.5582 - acc: 0.0151 - val_loss: -0.7594 - val_mean_absolute_error: 124.5582 - val_acc: 0.0146\n",
      "Epoch 169/1000\n",
      "24000/24000 [==============================] - 14s 601us/step - loss: -0.7270 - mean_absolute_error: 124.5582 - acc: 0.0151 - val_loss: -0.7594 - val_mean_absolute_error: 124.5582 - val_acc: 0.0146\n",
      "Epoch 170/1000\n",
      "24000/24000 [==============================] - 13s 553us/step - loss: -0.7270 - mean_absolute_error: 124.5582 - acc: 0.0151 - val_loss: -0.7594 - val_mean_absolute_error: 124.5582 - val_acc: 0.0146\n",
      "Epoch 171/1000\n",
      "24000/24000 [==============================] - 14s 578us/step - loss: -0.7270 - mean_absolute_error: 124.5582 - acc: 0.0151 - val_loss: -0.7594 - val_mean_absolute_error: 124.5582 - val_acc: 0.0146\n",
      "Epoch 172/1000\n",
      "24000/24000 [==============================] - 14s 570us/step - loss: -0.7270 - mean_absolute_error: 124.5582 - acc: 0.0151 - val_loss: -0.7594 - val_mean_absolute_error: 124.5582 - val_acc: 0.0146\n",
      "Epoch 173/1000\n",
      "24000/24000 [==============================] - 17s 729us/step - loss: -0.7270 - mean_absolute_error: 124.5582 - acc: 0.0151 - val_loss: -0.7594 - val_mean_absolute_error: 124.5582 - val_acc: 0.0146\n",
      "Epoch 174/1000\n",
      "24000/24000 [==============================] - 20s 848us/step - loss: -0.7270 - mean_absolute_error: 124.5582 - acc: 0.0151 - val_loss: -0.7594 - val_mean_absolute_error: 124.5582 - val_acc: 0.0146\n",
      "Epoch 175/1000\n",
      "24000/24000 [==============================] - 20s 825us/step - loss: -0.7270 - mean_absolute_error: 124.5582 - acc: 0.0151 - val_loss: -0.7594 - val_mean_absolute_error: 124.5582 - val_acc: 0.0146\n",
      "Epoch 176/1000\n",
      "24000/24000 [==============================] - 15s 635us/step - loss: -0.7270 - mean_absolute_error: 124.5582 - acc: 0.0151 - val_loss: -0.7594 - val_mean_absolute_error: 124.5582 - val_acc: 0.0146\n",
      "Epoch 177/1000\n",
      "24000/24000 [==============================] - 14s 581us/step - loss: -0.7270 - mean_absolute_error: 124.5582 - acc: 0.0151 - val_loss: -0.7594 - val_mean_absolute_error: 124.5582 - val_acc: 0.0146\n",
      "Epoch 178/1000\n",
      "24000/24000 [==============================] - 17s 707us/step - loss: -0.7270 - mean_absolute_error: 124.5582 - acc: 0.0151 - val_loss: -0.7594 - val_mean_absolute_error: 124.5582 - val_acc: 0.0146\n",
      "Epoch 179/1000\n",
      "24000/24000 [==============================] - 21s 857us/step - loss: -0.7270 - mean_absolute_error: 124.5582 - acc: 0.0151 - val_loss: -0.7594 - val_mean_absolute_error: 124.5582 - val_acc: 0.0146\n",
      "Epoch 180/1000\n",
      "24000/24000 [==============================] - 20s 842us/step - loss: -0.7270 - mean_absolute_error: 124.5582 - acc: 0.0151 - val_loss: -0.7594 - val_mean_absolute_error: 124.5582 - val_acc: 0.0146\n",
      "Epoch 181/1000\n",
      "24000/24000 [==============================] - 15s 639us/step - loss: -0.7270 - mean_absolute_error: 124.5582 - acc: 0.0151 - val_loss: -0.7594 - val_mean_absolute_error: 124.5582 - val_acc: 0.0146\n",
      "Epoch 182/1000\n",
      "24000/24000 [==============================] - 13s 552us/step - loss: -0.7270 - mean_absolute_error: 124.5582 - acc: 0.0151 - val_loss: -0.7594 - val_mean_absolute_error: 124.5582 - val_acc: 0.0146\n",
      "Epoch 183/1000\n",
      "24000/24000 [==============================] - 13s 552us/step - loss: -0.7270 - mean_absolute_error: 124.5582 - acc: 0.0151 - val_loss: -0.7594 - val_mean_absolute_error: 124.5582 - val_acc: 0.0146\n",
      "Epoch 184/1000\n",
      "24000/24000 [==============================] - 13s 556us/step - loss: -0.7270 - mean_absolute_error: 124.5582 - acc: 0.0151 - val_loss: -0.7594 - val_mean_absolute_error: 124.5582 - val_acc: 0.0146\n",
      "Epoch 185/1000\n",
      "24000/24000 [==============================] - 13s 557us/step - loss: -0.7270 - mean_absolute_error: 124.5582 - acc: 0.0151 - val_loss: -0.7594 - val_mean_absolute_error: 124.5582 - val_acc: 0.0146\n",
      "Epoch 186/1000\n",
      "24000/24000 [==============================] - 14s 581us/step - loss: -0.7270 - mean_absolute_error: 124.5582 - acc: 0.0151 - val_loss: -0.7594 - val_mean_absolute_error: 124.5582 - val_acc: 0.0146\n",
      "Epoch 187/1000\n",
      "24000/24000 [==============================] - 18s 738us/step - loss: -0.7270 - mean_absolute_error: 124.5582 - acc: 0.0151 - val_loss: -0.7594 - val_mean_absolute_error: 124.5582 - val_acc: 0.0146\n",
      "Epoch 188/1000\n",
      "24000/24000 [==============================] - 19s 776us/step - loss: -0.7270 - mean_absolute_error: 124.5582 - acc: 0.0151 - val_loss: -0.7594 - val_mean_absolute_error: 124.5582 - val_acc: 0.0146\n",
      "Epoch 189/1000\n",
      "24000/24000 [==============================] - 21s 875us/step - loss: -0.7270 - mean_absolute_error: 124.5582 - acc: 0.0151 - val_loss: -0.7594 - val_mean_absolute_error: 124.5582 - val_acc: 0.0146\n",
      "Epoch 190/1000\n",
      "24000/24000 [==============================] - 21s 867us/step - loss: -0.7270 - mean_absolute_error: 124.5582 - acc: 0.0151 - val_loss: -0.7594 - val_mean_absolute_error: 124.5582 - val_acc: 0.0146\n",
      "Epoch 191/1000\n",
      "24000/24000 [==============================] - 18s 766us/step - loss: -0.7270 - mean_absolute_error: 124.5582 - acc: 0.0151 - val_loss: -0.7594 - val_mean_absolute_error: 124.5582 - val_acc: 0.0146\n",
      "Epoch 192/1000\n",
      "24000/24000 [==============================] - 14s 573us/step - loss: -0.7270 - mean_absolute_error: 124.5582 - acc: 0.0151 - val_loss: -0.7594 - val_mean_absolute_error: 124.5582 - val_acc: 0.0146\n",
      "Epoch 193/1000\n"
     ]
    },
    {
     "name": "stdout",
     "output_type": "stream",
     "text": [
      "24000/24000 [==============================] - 14s 574us/step - loss: -0.7270 - mean_absolute_error: 124.5582 - acc: 0.0151 - val_loss: -0.7594 - val_mean_absolute_error: 124.5582 - val_acc: 0.0146\n",
      "Epoch 194/1000\n",
      "24000/24000 [==============================] - 14s 596us/step - loss: -0.7270 - mean_absolute_error: 124.5582 - acc: 0.0151 - val_loss: -0.7594 - val_mean_absolute_error: 124.5582 - val_acc: 0.0146\n",
      "Epoch 195/1000\n",
      "24000/24000 [==============================] - 18s 733us/step - loss: -0.7270 - mean_absolute_error: 124.5582 - acc: 0.0151 - val_loss: -0.7594 - val_mean_absolute_error: 124.5582 - val_acc: 0.0146\n",
      "Epoch 196/1000\n",
      "24000/24000 [==============================] - 21s 864us/step - loss: -0.7270 - mean_absolute_error: 124.5582 - acc: 0.0151 - val_loss: -0.7594 - val_mean_absolute_error: 124.5582 - val_acc: 0.0146\n",
      "Epoch 197/1000\n",
      "24000/24000 [==============================] - 21s 860us/step - loss: -0.7270 - mean_absolute_error: 124.5582 - acc: 0.0151 - val_loss: -0.7594 - val_mean_absolute_error: 124.5582 - val_acc: 0.0146\n",
      "Epoch 198/1000\n",
      "24000/24000 [==============================] - 21s 880us/step - loss: -0.7270 - mean_absolute_error: 124.5582 - acc: 0.0151 - val_loss: -0.7594 - val_mean_absolute_error: 124.5582 - val_acc: 0.0146\n",
      "Epoch 199/1000\n",
      "24000/24000 [==============================] - 16s 681us/step - loss: -0.7270 - mean_absolute_error: 124.5582 - acc: 0.0151 - val_loss: -0.7594 - val_mean_absolute_error: 124.5582 - val_acc: 0.0146\n",
      "Epoch 200/1000\n",
      "24000/24000 [==============================] - 14s 578us/step - loss: -0.7270 - mean_absolute_error: 124.5582 - acc: 0.0151 - val_loss: -0.7594 - val_mean_absolute_error: 124.5582 - val_acc: 0.0146\n",
      "Epoch 201/1000\n",
      "24000/24000 [==============================] - 14s 588us/step - loss: -0.7270 - mean_absolute_error: 124.5582 - acc: 0.0151 - val_loss: -0.7594 - val_mean_absolute_error: 124.5582 - val_acc: 0.0146\n",
      "Epoch 202/1000\n",
      "24000/24000 [==============================] - 15s 631us/step - loss: -0.7270 - mean_absolute_error: 124.5582 - acc: 0.0151 - val_loss: -0.7594 - val_mean_absolute_error: 124.5582 - val_acc: 0.0146\n",
      "Epoch 203/1000\n",
      "24000/24000 [==============================] - 14s 584us/step - loss: -0.7270 - mean_absolute_error: 124.5582 - acc: 0.0151 - val_loss: -0.7594 - val_mean_absolute_error: 124.5582 - val_acc: 0.0146\n",
      "Epoch 204/1000\n",
      "24000/24000 [==============================] - 14s 579us/step - loss: -0.7270 - mean_absolute_error: 124.5582 - acc: 0.0151 - val_loss: -0.7594 - val_mean_absolute_error: 124.5582 - val_acc: 0.0146\n",
      "Epoch 205/1000\n",
      "24000/24000 [==============================] - 14s 595us/step - loss: -0.7270 - mean_absolute_error: 124.5582 - acc: 0.0151 - val_loss: -0.7594 - val_mean_absolute_error: 124.5582 - val_acc: 0.0146\n",
      "Epoch 206/1000\n",
      "24000/24000 [==============================] - 15s 643us/step - loss: -0.7270 - mean_absolute_error: 124.5582 - acc: 0.0151 - val_loss: -0.7594 - val_mean_absolute_error: 124.5582 - val_acc: 0.0146\n",
      "Epoch 207/1000\n",
      "24000/24000 [==============================] - 13s 554us/step - loss: -0.7270 - mean_absolute_error: 124.5582 - acc: 0.0151 - val_loss: -0.7594 - val_mean_absolute_error: 124.5582 - val_acc: 0.0146\n",
      "Epoch 208/1000\n",
      "24000/24000 [==============================] - 14s 563us/step - loss: -0.7270 - mean_absolute_error: 124.5582 - acc: 0.0151 - val_loss: -0.7594 - val_mean_absolute_error: 124.5582 - val_acc: 0.0146\n",
      "Epoch 209/1000\n",
      "24000/24000 [==============================] - 18s 759us/step - loss: -0.7270 - mean_absolute_error: 124.5582 - acc: 0.0151 - val_loss: -0.7594 - val_mean_absolute_error: 124.5582 - val_acc: 0.0146\n",
      "Epoch 210/1000\n",
      "24000/24000 [==============================] - 20s 849us/step - loss: -0.7270 - mean_absolute_error: 124.5582 - acc: 0.0151 - val_loss: -0.7594 - val_mean_absolute_error: 124.5582 - val_acc: 0.0146\n",
      "Epoch 211/1000\n",
      "24000/24000 [==============================] - 20s 832us/step - loss: -0.7270 - mean_absolute_error: 124.5582 - acc: 0.0151 - val_loss: -0.7594 - val_mean_absolute_error: 124.5582 - val_acc: 0.0146\n",
      "Epoch 212/1000\n",
      " 8608/24000 [=========>....................] - ETA: 12s - loss: -0.7266 - mean_absolute_error: 124.5582 - acc: 0.0152"
     ]
    },
    {
     "ename": "KeyboardInterrupt",
     "evalue": "",
     "output_type": "error",
     "traceback": [
      "\u001b[0;31m---------------------------------------------------------------------------\u001b[0m",
      "\u001b[0;31mKeyboardInterrupt\u001b[0m                         Traceback (most recent call last)",
      "\u001b[0;32m<ipython-input-28-234be7fa23ea>\u001b[0m in \u001b[0;36m<module>\u001b[0;34m()\u001b[0m\n\u001b[1;32m      8\u001b[0m                           \u001b[0mtrain_images_y\u001b[0m\u001b[0;34m,\u001b[0m\u001b[0;34m\u001b[0m\u001b[0m\n\u001b[1;32m      9\u001b[0m                           \u001b[0mvalidation_split\u001b[0m \u001b[0;34m=\u001b[0m \u001b[0;36m0.2\u001b[0m\u001b[0;34m,\u001b[0m\u001b[0;34m\u001b[0m\u001b[0m\n\u001b[0;32m---> 10\u001b[0;31m                           epochs = 1000)\n\u001b[0m",
      "\u001b[0;32m/usr/local/lib/python2.7/dist-packages/keras/engine/training.pyc\u001b[0m in \u001b[0;36mfit\u001b[0;34m(self, x, y, batch_size, epochs, verbose, callbacks, validation_split, validation_data, shuffle, class_weight, sample_weight, initial_epoch, steps_per_epoch, validation_steps, **kwargs)\u001b[0m\n\u001b[1;32m   1037\u001b[0m                                         \u001b[0minitial_epoch\u001b[0m\u001b[0;34m=\u001b[0m\u001b[0minitial_epoch\u001b[0m\u001b[0;34m,\u001b[0m\u001b[0;34m\u001b[0m\u001b[0m\n\u001b[1;32m   1038\u001b[0m                                         \u001b[0msteps_per_epoch\u001b[0m\u001b[0;34m=\u001b[0m\u001b[0msteps_per_epoch\u001b[0m\u001b[0;34m,\u001b[0m\u001b[0;34m\u001b[0m\u001b[0m\n\u001b[0;32m-> 1039\u001b[0;31m                                         validation_steps=validation_steps)\n\u001b[0m\u001b[1;32m   1040\u001b[0m \u001b[0;34m\u001b[0m\u001b[0m\n\u001b[1;32m   1041\u001b[0m     def evaluate(self, x=None, y=None,\n",
      "\u001b[0;32m/usr/local/lib/python2.7/dist-packages/keras/engine/training_arrays.pyc\u001b[0m in \u001b[0;36mfit_loop\u001b[0;34m(model, f, ins, out_labels, batch_size, epochs, verbose, callbacks, val_f, val_ins, shuffle, callback_metrics, initial_epoch, steps_per_epoch, validation_steps)\u001b[0m\n\u001b[1;32m    185\u001b[0m                             ins[:-1], batch_ids) + [ins[-1]]\n\u001b[1;32m    186\u001b[0m                     \u001b[0;32melse\u001b[0m\u001b[0;34m:\u001b[0m\u001b[0;34m\u001b[0m\u001b[0m\n\u001b[0;32m--> 187\u001b[0;31m                         \u001b[0mins_batch\u001b[0m \u001b[0;34m=\u001b[0m \u001b[0mslice_arrays\u001b[0m\u001b[0;34m(\u001b[0m\u001b[0mins\u001b[0m\u001b[0;34m,\u001b[0m \u001b[0mbatch_ids\u001b[0m\u001b[0;34m)\u001b[0m\u001b[0;34m\u001b[0m\u001b[0m\n\u001b[0m\u001b[1;32m    188\u001b[0m                 \u001b[0;32mexcept\u001b[0m \u001b[0mTypeError\u001b[0m\u001b[0;34m:\u001b[0m\u001b[0;34m\u001b[0m\u001b[0m\n\u001b[1;32m    189\u001b[0m                     raise TypeError('TypeError while preparing batch. '\n",
      "\u001b[0;32m/usr/local/lib/python2.7/dist-packages/keras/utils/generic_utils.pyc\u001b[0m in \u001b[0;36mslice_arrays\u001b[0;34m(arrays, start, stop)\u001b[0m\n\u001b[1;32m    524\u001b[0m             \u001b[0;32mif\u001b[0m \u001b[0mhasattr\u001b[0m\u001b[0;34m(\u001b[0m\u001b[0mstart\u001b[0m\u001b[0;34m,\u001b[0m \u001b[0;34m'shape'\u001b[0m\u001b[0;34m)\u001b[0m\u001b[0;34m:\u001b[0m\u001b[0;34m\u001b[0m\u001b[0m\n\u001b[1;32m    525\u001b[0m                 \u001b[0mstart\u001b[0m \u001b[0;34m=\u001b[0m \u001b[0mstart\u001b[0m\u001b[0;34m.\u001b[0m\u001b[0mtolist\u001b[0m\u001b[0;34m(\u001b[0m\u001b[0;34m)\u001b[0m\u001b[0;34m\u001b[0m\u001b[0m\n\u001b[0;32m--> 526\u001b[0;31m             \u001b[0;32mreturn\u001b[0m \u001b[0;34m[\u001b[0m\u001b[0mNone\u001b[0m \u001b[0;32mif\u001b[0m \u001b[0mx\u001b[0m \u001b[0;32mis\u001b[0m \u001b[0mNone\u001b[0m \u001b[0;32melse\u001b[0m \u001b[0mx\u001b[0m\u001b[0;34m[\u001b[0m\u001b[0mstart\u001b[0m\u001b[0;34m]\u001b[0m \u001b[0;32mfor\u001b[0m \u001b[0mx\u001b[0m \u001b[0;32min\u001b[0m \u001b[0marrays\u001b[0m\u001b[0;34m]\u001b[0m\u001b[0;34m\u001b[0m\u001b[0m\n\u001b[0m\u001b[1;32m    527\u001b[0m         \u001b[0;32melse\u001b[0m\u001b[0;34m:\u001b[0m\u001b[0;34m\u001b[0m\u001b[0m\n\u001b[1;32m    528\u001b[0m             \u001b[0;32mreturn\u001b[0m \u001b[0;34m[\u001b[0m\u001b[0mNone\u001b[0m \u001b[0;32mif\u001b[0m \u001b[0mx\u001b[0m \u001b[0;32mis\u001b[0m \u001b[0mNone\u001b[0m \u001b[0;32melse\u001b[0m \u001b[0mx\u001b[0m\u001b[0;34m[\u001b[0m\u001b[0mstart\u001b[0m\u001b[0;34m:\u001b[0m\u001b[0mstop\u001b[0m\u001b[0;34m]\u001b[0m \u001b[0;32mfor\u001b[0m \u001b[0mx\u001b[0m \u001b[0;32min\u001b[0m \u001b[0marrays\u001b[0m\u001b[0;34m]\u001b[0m\u001b[0;34m\u001b[0m\u001b[0m\n",
      "\u001b[0;31mKeyboardInterrupt\u001b[0m: "
     ]
    }
   ],
   "source": [
    "sgd = keras.optimizers.SGD(lr = 0.01, momentum = 0.9)\n",
    "\n",
    "autoencoder_alt.compile(loss = 'kullback_leibler_divergence', \n",
    "                    optimizer = 'sgd', \n",
    "                    metrics = ['mae', 'acc'])\n",
    "\n",
    "history = autoencoder_alt.fit(train_features,\n",
    "                          train_images_y,\n",
    "                          validation_split = 0.2,\n",
    "                          epochs = 1000)"
   ]
  },
  {
   "cell_type": "markdown",
   "metadata": {},
   "source": [
    "### Visualisation"
   ]
  },
  {
   "cell_type": "code",
   "execution_count": null,
   "metadata": {},
   "outputs": [],
   "source": [
    "# Plot training & validation accuracy values\n",
    "plt.plot(history.history['acc'])\n",
    "plt.plot(history.history['val_acc'])\n",
    "plt.title('Model accuracy')\n",
    "plt.ylabel('Accuracy')\n",
    "plt.xlabel('Epoch')\n",
    "plt.legend(['Train', 'Test'], loc='upper left')\n",
    "plt.show()\n",
    "\n",
    "# Plot training & validation loss values\n",
    "plt.plot(history.history['loss'])\n",
    "plt.plot(history.history['val_loss'])\n",
    "plt.title('Model loss')\n",
    "plt.ylabel('Loss')\n",
    "plt.xlabel('Epoch')\n",
    "plt.legend(['Train', 'Test'], loc='upper left')\n",
    "plt.show()"
   ]
  },
  {
   "cell_type": "markdown",
   "metadata": {},
   "source": [
    "### Décodage"
   ]
  },
  {
   "cell_type": "code",
   "execution_count": null,
   "metadata": {},
   "outputs": [],
   "source": [
    "x_decoded = autoencoder.predict(train_features)\n",
    "imshow(x_decoded[0][0])"
   ]
  },
  {
   "cell_type": "code",
   "execution_count": null,
   "metadata": {},
   "outputs": [],
   "source": [
    "imshow(train_images_y[0][0])"
   ]
  },
  {
   "cell_type": "code",
   "execution_count": null,
   "metadata": {},
   "outputs": [],
   "source": [
    "from PIL import Image\n",
    "rows, cols = 10, 30\n",
    "num = rows * cols\n",
    "imgs = np.concatenate([train_images_x[:num], train_images_y[:num], x_decoded[:num]])\n",
    "imgs = imgs.reshape((rows * 3, cols, img_size, img_size))\n",
    "imgs = np.vstack(np.split(imgs, rows, axis=1))\n",
    "imgs = imgs.reshape((rows * 3, -1, img_size, img_size))\n",
    "imgs = np.vstack([np.hstack(i) for i in imgs])\n",
    "imgs = (imgs *255 ).astype(np.uint8)\n",
    "plt.figure()\n",
    "plt.axis('off')\n",
    "plt.title('Original images: top rows, '\n",
    "          'Corrupted Input: middle rows, '\n",
    "          'Denoised Input:  third rows')\n",
    "plt.imshow(imgs, interpolation='none', cmap='gray')\n",
    "Image.fromarray(imgs).save('corrupted_and_denoised.png')\n",
    "plt.show()\n"
   ]
  },
  {
   "cell_type": "code",
   "execution_count": null,
   "metadata": {},
   "outputs": [],
   "source": [
    "shape(x_decoded[:3])"
   ]
  },
  {
   "cell_type": "code",
   "execution_count": null,
   "metadata": {},
   "outputs": [],
   "source": []
  }
 ],
 "metadata": {
  "kernelspec": {
   "display_name": "Python 2",
   "language": "python",
   "name": "python2"
  },
  "language_info": {
   "codemirror_mode": {
    "name": "ipython",
    "version": 2
   },
   "file_extension": ".py",
   "mimetype": "text/x-python",
   "name": "python",
   "nbconvert_exporter": "python",
   "pygments_lexer": "ipython2",
   "version": "2.7.15rc1"
  }
 },
 "nbformat": 4,
 "nbformat_minor": 2
}
