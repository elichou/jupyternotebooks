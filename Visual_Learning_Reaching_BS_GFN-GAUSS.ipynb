{
 "cells": [
  {
   "cell_type": "markdown",
   "metadata": {},
   "source": [
    "# Transformation visuelle pour reconstruction d'image corporelle"
   ]
  },
  {
   "cell_type": "markdown",
   "metadata": {},
   "source": [
    "## Objectifs\n",
    "L'objectif est d'améliorer le code de network2_01.py. \n",
    "Plusieurs pistes d'amélioration sont possibles:\n",
    "1. Utiliser un produit tensoriel plutôt qu'un produit terme à terme.\n",
    "2. Différencier la cible de la main.\n",
    "3. Intégerer tf.\n",
    "4. changer la répartition des points. \n",
    "\n",
    "Je m'inspire de l'article de Memisevic, Gradient-based learning of higher-order image features et de son code gatedAutoencoder.py."
   ]
  },
  {
   "cell_type": "markdown",
   "metadata": {},
   "source": [
    "## Imports et setup\n",
    "\n",
    "\n",
    "\n"
   ]
  },
  {
   "cell_type": "code",
   "execution_count": 1,
   "metadata": {},
   "outputs": [
    {
     "name": "stderr",
     "output_type": "stream",
     "text": [
      "Using TensorFlow backend.\n"
     ]
    }
   ],
   "source": [
    "from numpy import *\n",
    "from matplotlib.pylab import *\n",
    "from mpl_toolkits.mplot3d import Axes3D\n",
    "from drawnow import *\n",
    "from skimage.draw import line, line_aa\n",
    "from scipy.ndimage import gaussian_filter\n",
    "\n",
    "import time \n",
    "import random\n",
    "import scipy\n",
    "import math\n",
    "import cv2\n",
    "import cPickle as pickle\n",
    "\n",
    "import keras\n"
   ]
  },
  {
   "cell_type": "code",
   "execution_count": 2,
   "metadata": {},
   "outputs": [],
   "source": [
    "matplotlib.rcParams.update({'font.size':16})\n",
    "to_backup = True\n",
    "timeframe = time.strftime('%Y%m%d%H%M%S')\n",
    "L1 = 16\n",
    "L2 = 8\n",
    "L3 = 1\n",
    "\n",
    "nb_posture = 300\n",
    "nb_command = 40\n",
    "nb_joint = 3\n",
    "nb_data = nb_command*nb_posture\n",
    "img_size = 48"
   ]
  },
  {
   "cell_type": "markdown",
   "metadata": {},
   "source": [
    "## Construction de la base de données"
   ]
  },
  {
   "cell_type": "markdown",
   "metadata": {},
   "source": [
    "1. On génère n postures différentes aléatoirement, X.\n",
    "2. On génère m commandes aléatoirement, H. \n",
    "3. On applique chaque commande à chaque posture et on obtient des nouvelles postures Y."
   ]
  },
  {
   "cell_type": "markdown",
   "metadata": {},
   "source": [
    "### Génération des postures initiales"
   ]
  },
  {
   "cell_type": "code",
   "execution_count": 3,
   "metadata": {},
   "outputs": [],
   "source": [
    "def randrange(n , vmin, vmax):\n",
    "    return (vmax-vmin)*rand(n) + vmin "
   ]
  },
  {
   "cell_type": "code",
   "execution_count": 4,
   "metadata": {
    "scrolled": true
   },
   "outputs": [],
   "source": [
    "posture = zeros((nb_posture, 3))\n",
    "posture[:,0] = randrange(nb_posture, 0, pi)\n",
    "posture[:,1] = randrange(nb_posture, 0, pi)\n",
    "posture[:,2] =randrange(nb_posture, 0, pi)"
   ]
  },
  {
   "cell_type": "code",
   "execution_count": 5,
   "metadata": {},
   "outputs": [
    {
     "name": "stdout",
     "output_type": "stream",
     "text": [
      "(300, 3)\n",
      "[0.48315047 0.8786531  1.05824863]\n"
     ]
    }
   ],
   "source": [
    "print(shape(posture))\n",
    "print(posture[0])"
   ]
  },
  {
   "cell_type": "markdown",
   "metadata": {},
   "source": [
    "### Génération des commandes "
   ]
  },
  {
   "cell_type": "code",
   "execution_count": 6,
   "metadata": {},
   "outputs": [],
   "source": [
    "command = zeros((nb_command, 3))\n",
    "command[:,0] = randrange(nb_command, 0, 1)*0.6\n",
    "command[:,1] = randrange(nb_command, 0, 1)*0.6\n",
    "command[:,2] = randrange(nb_command, 0, 1)*0.6"
   ]
  },
  {
   "cell_type": "code",
   "execution_count": 7,
   "metadata": {},
   "outputs": [
    {
     "name": "stdout",
     "output_type": "stream",
     "text": [
      "(40, 3)\n",
      "[0.02271685 0.5720033  0.52208146]\n",
      "17\n"
     ]
    }
   ],
   "source": [
    "print(shape(command))\n",
    "print(command[0])\n",
    "print(randint(0,nb_command-1))"
   ]
  },
  {
   "cell_type": "markdown",
   "metadata": {},
   "source": [
    "### Génération des données d'entraînement"
   ]
  },
  {
   "cell_type": "code",
   "execution_count": 8,
   "metadata": {},
   "outputs": [],
   "source": [
    "train_data_x = zeros((nb_data, 1, 3))\n",
    "train_data_y = zeros((nb_data, 1, 3))\n",
    "train_data_h = zeros((nb_data, 1, 3))"
   ]
  },
  {
   "cell_type": "code",
   "execution_count": 9,
   "metadata": {},
   "outputs": [
    {
     "name": "stdout",
     "output_type": "stream",
     "text": [
      "[0. 0. 0.]\n",
      "(12000, 1, 3)\n"
     ]
    }
   ],
   "source": [
    "print(train_data_x[0][0])\n",
    "print(shape(train_data_x))"
   ]
  },
  {
   "cell_type": "code",
   "execution_count": 10,
   "metadata": {},
   "outputs": [],
   "source": [
    "idx = 0 \n",
    "for i in range(nb_posture):\n",
    "    for j in range(nb_command):\n",
    "        train_data_x[idx] = posture[i]\n",
    "        idx = idx + 1\n",
    "\n",
    "idx = 0 \n",
    "for i in range(nb_posture):\n",
    "    for j in range(nb_command):\n",
    "        train_data_y[idx] = posture[i]  + command[j]\n",
    "        idx = idx + 1\n",
    "        \n",
    "idx = 0 \n",
    "for i in range(nb_posture):\n",
    "    for j in range(nb_command):\n",
    "        train_data_h[idx] = command[j]\n",
    "        idx = idx + 1"
   ]
  },
  {
   "cell_type": "code",
   "execution_count": 11,
   "metadata": {},
   "outputs": [
    {
     "name": "stdout",
     "output_type": "stream",
     "text": [
      "('train_data_x 0 0 ', array([0.48315047, 0.8786531 , 1.05824863]))\n",
      "('train_data_h 0 0 ', array([0.02271685, 0.5720033 , 0.52208146]))\n",
      "('train_data_y 0 0 ', array([0.50586732, 1.45065641, 1.5803301 ]))\n",
      "y = x + h\n"
     ]
    }
   ],
   "source": [
    "print('train_data_x 0 0 ', train_data_x[0][0])\n",
    "print('train_data_h 0 0 ', train_data_h[0][0])\n",
    "print('train_data_y 0 0 ', train_data_y[0][0])\n",
    "print('y = x + h')"
   ]
  },
  {
   "cell_type": "markdown",
   "metadata": {},
   "source": [
    "### Génération des images associées"
   ]
  },
  {
   "cell_type": "code",
   "execution_count": 12,
   "metadata": {},
   "outputs": [],
   "source": [
    "train_images_x = zeros((nb_data, 1, img_size, img_size ), dtype = float32)\n",
    "train_images_y = zeros((nb_data, 1, img_size, img_size ), dtype = float32)"
   ]
  },
  {
   "cell_type": "markdown",
   "metadata": {},
   "source": [
    "On peut rajouter une gaussienne au bout de l'effecteur pour le mettre en évidence\n",
    "TODO"
   ]
  },
  {
   "cell_type": "code",
   "execution_count": 13,
   "metadata": {},
   "outputs": [],
   "source": [
    "def makeGaussian(size, fwhm = 3, center=None):\n",
    "    \"\"\" Make a square gaussian kernel.\n",
    "    size is the length of a side of the square\n",
    "    fwhm is full-width-half-maximum, which\n",
    "    can be thought of as an effective radius.\n",
    "    \"\"\"\n",
    "    x = arange(0, size, 1, float)\n",
    "    y = x[:,newaxis]\n",
    "    if center is None:\n",
    "        x0 = y0 = size // 2\n",
    "    else:\n",
    "        x0 = center[0]\n",
    "        y0 = center[1]    \n",
    "    return exp(-4*log(2) * ((x-x0)**2 + (y-y0)**2) / fwhm**2)\n",
    "\n"
   ]
  },
  {
   "cell_type": "code",
   "execution_count": 14,
   "metadata": {},
   "outputs": [],
   "source": [
    "for i in range(nb_data):\n",
    "    img = zeros((img_size,img_size), dtype = uint8)\n",
    "    angle = train_data_x[i][0] \n",
    "    row1, col1 = img_size//2 + int(floor(L1*sin(angle[0]))), img_size//2 + int(floor(L1*cos(angle[0])))\n",
    "    row2, col2 =  int(floor(L2*sin(angle[1]))) + row1, col1 + int(floor(L2*cos(angle[1])))\n",
    "    row3, col3 = int(floor(L3*sin(angle[2])))+ row2, col2 +  int(floor(L3*cos(angle[2])))\n",
    "    r1, c1, val1 = line_aa(img_size//2,img_size//2,row1, col1)\n",
    "    r2, c2, val2 = line_aa(row1, col1, row2, col2)\n",
    "    r3, c3, val3 = line_aa(row2, col2, row3 , col3)\n",
    "    #r1, c1 = line(img_size//2,img_size//2,row1, col1)\n",
    "    #r2, c2 = line(row1, col1, row2, col2)\n",
    "    #r3, c3 = line(row2, col2, row3 , col3)\n",
    "    img[r1,c1] = val1 *255\n",
    "    img[r2,c2] = val2 *255\n",
    "    img[r3,c3] = val3 *255\n",
    "    train_images_x[i][0] = gaussian_filter(img , sigma = 2) / 255.\n",
    "\n",
    "for i in range(nb_data):\n",
    "    img = zeros((img_size,img_size), dtype = uint8)\n",
    "    angle = train_data_y[i][0] \n",
    "    row1, col1 = img_size//2 + int(floor(L1*sin(angle[0]))), img_size//2 + int(floor(L1*cos(angle[0])))\n",
    "    row2, col2 =  int(floor(L2*sin(angle[1]))) + row1, col1 + int(floor(L2*cos(angle[1])))\n",
    "    row3, col3 = int(floor(L3*sin(angle[2])))+ row2, col2 +  int(floor(L3*cos(angle[2])))\n",
    "    r1, c1, val1 = line_aa(img_size//2,img_size//2,row1, col1)\n",
    "    r2, c2, val2 = line_aa(row1, col1, row2, col2)\n",
    "    r3, c3, val3 = line_aa(row2, col2, row3 , col3)\n",
    "    #r1, c1 = line(img_size//2,img_size//2,row1, col1)\n",
    "    #r2, c2 = line(row1, col1, row2, col2)\n",
    "    #r3, c3 = line(row2, col2, row3 , col3)\n",
    "    img[r1,c1] = val1 *255\n",
    "    img[r2,c2] = val2 *255\n",
    "    img[r3,c3] = val3 *255\n",
    "    train_images_y[i][0] =gaussian_filter(img , sigma = 2) / 255."
   ]
  },
  {
   "cell_type": "code",
   "execution_count": 15,
   "metadata": {},
   "outputs": [
    {
     "name": "stdout",
     "output_type": "stream",
     "text": [
      "('taille train_images_x', (12000, 1, 48, 48))\n",
      "('taille train_images_y', (12000, 1, 48, 48))\n",
      "('taille train_features', (12000, 2, 48, 48))\n"
     ]
    }
   ],
   "source": [
    "print('taille train_images_x', shape(train_images_x))\n",
    "print('taille train_images_y', shape(train_images_y))\n",
    "train_features = concatenate((train_images_x, train_images_y), 1)\n",
    "print('taille train_features', shape(train_features))"
   ]
  },
  {
   "cell_type": "markdown",
   "metadata": {},
   "source": [
    "### Corruption des données"
   ]
  },
  {
   "cell_type": "code",
   "execution_count": null,
   "metadata": {},
   "outputs": [],
   "source": []
  },
  {
   "cell_type": "markdown",
   "metadata": {},
   "source": [
    "### Exemples d'images"
   ]
  },
  {
   "cell_type": "code",
   "execution_count": 16,
   "metadata": {},
   "outputs": [
    {
     "data": {
      "text/plain": [
       "<matplotlib.image.AxesImage at 0x7f26c80f2490>"
      ]
     },
     "execution_count": 16,
     "metadata": {},
     "output_type": "execute_result"
    },
    {
     "data": {
      "image/png": "[encoded data removed]",
      "text/plain": [
       "<Figure size 432x288 with 1 Axes>"
      ]
     },
     "metadata": {
      "needs_background": "light"
     },
     "output_type": "display_data"
    }
   ],
   "source": [
    "imshow(train_images_x[0][0])"
   ]
  },
  {
   "cell_type": "code",
   "execution_count": 17,
   "metadata": {},
   "outputs": [
    {
     "data": {
      "text/plain": [
       "<matplotlib.image.AxesImage at 0x7f26c800ca90>"
      ]
     },
     "execution_count": 17,
     "metadata": {},
     "output_type": "execute_result"
    },
    {
     "data": {
      "image/png": "[encoded data removed]",
      "text/plain": [
       "<Figure size 432x288 with 1 Axes>"
      ]
     },
     "metadata": {
      "needs_background": "light"
     },
     "output_type": "display_data"
    }
   ],
   "source": [
    "imshow(train_images_y[0][0])"
   ]
  },
  {
   "cell_type": "markdown",
   "metadata": {},
   "source": [
    "## Factorized Gated Field Auto-encoder"
   ]
  },
  {
   "cell_type": "markdown",
   "metadata": {},
   "source": [
    "Avant le passge dans l'autoencodeur, les images sont factorisées en passant par une couche de percpetron. De même, la couche latente est factorisée.\n",
    "Les images sont de taille (128,128), on prend pour commencer 32 neurones. \n",
    "La sortie est de taille (3,1) (trois moteurs), on prend pour commencer une factorisation de taille (32,1) (synérgies motrices)."
   ]
  },
  {
   "cell_type": "markdown",
   "metadata": {},
   "source": [
    "On a donc un encodeur, un décodeur et 3 couches de perceptrons pour les deux images et pour les commandes motrices."
   ]
  },
  {
   "cell_type": "markdown",
   "metadata": {},
   "source": [
    "On commence par construire un auto encodeur dont les entrées sont un tenseur de taille (32,1) et de sortie (32,1), pour garder la symétrie de la structure.\n"
   ]
  },
  {
   "cell_type": "code",
   "execution_count": 18,
   "metadata": {},
   "outputs": [],
   "source": [
    "from keras.models import Model\n",
    "from keras.layers import Activation, Dense, Input, Multiply\n",
    "from keras.layers import Conv2D, Flatten, Reshape, Conv2DTranspose\n",
    "from keras.layers import Dot, Lambda, Concatenate, RepeatVector\n",
    "from keras import backend as K\n"
   ]
  },
  {
   "cell_type": "markdown",
   "metadata": {},
   "source": [
    "### Création de l'encodeur "
   ]
  },
  {
   "cell_type": "code",
   "execution_count": 19,
   "metadata": {
    "scrolled": true
   },
   "outputs": [
    {
     "name": "stdout",
     "output_type": "stream",
     "text": [
      "WARNING:tensorflow:From /usr/local/lib/python2.7/dist-packages/tensorflow/python/framework/op_def_library.py:263: colocate_with (from tensorflow.python.framework.ops) is deprecated and will be removed in a future version.\n",
      "Instructions for updating:\n",
      "Colocations handled automatically by placer.\n",
      "('out taille', (None, 1, 200))\n"
     ]
    }
   ],
   "source": [
    "input_size = 128\n",
    "input_shape = (2, input_size, input_size)\n",
    "latent_dim = 100 # plus facile pour la concaténation des outputs...\n",
    "\n",
    "# on donne en entrée des pairs d'images\n",
    "inputs_xy = Input(shape = (2, img_size, img_size, ), name = 'xy')\n",
    "\n",
    "# on sépare chacune des images\n",
    "x = Lambda(lambda x: x[:,0,:,:])(inputs_xy)\n",
    "x = Reshape((1,img_size, img_size,))(x)\n",
    "\n",
    "y = Lambda(lambda x: x[:,1,:,:])(inputs_xy)\n",
    "y = Reshape((1,img_size, img_size,))(y)\n",
    "\n",
    "# on factorise chacune des images\n",
    "fx = Flatten()(x)\n",
    "fx = Dense(latent_dim, activation = 'relu', name = 'latent_fx1')(fx)\n",
    "fx = Dense(latent_dim, activation = 'relu', name = 'latent_fx2')(fx)\n",
    "fx = Dense(latent_dim, activation = 'relu', name = 'latent_fx3')(fx)\n",
    "fx = Reshape((latent_dim,1,))(fx)\n",
    "\n",
    "fy = Flatten()(y)\n",
    "fy = Dense(latent_dim, activation = 'relu', name = 'latent_fy1')(fy)\n",
    "fy = Dense(latent_dim, activation = 'relu', name = 'latent_fy2')(fy)\n",
    "fy = Dense(latent_dim, activation = 'relu', name = 'latent_fy3')(fy)\n",
    "fy = Reshape((latent_dim,1,))(fy)\n",
    "\n",
    "\n",
    "# on multiplie les deux factorisations, TODO mieux si produit tensoriel\n",
    "matmul = Multiply()([fx, fy])\n",
    "\n",
    "# on passe le tout dans une couche de perceptrons pour obtenir les synérgies motrices\n",
    "x = Flatten()(matmul)\n",
    "fh = Dense(latent_dim, name = 'latent_fh1')(x)\n",
    "fh = Dense(latent_dim, name = 'latent_fh2')(x)\n",
    "fh = Dense(latent_dim, name = 'latent_fh3')(x)\n",
    "fh = Dense(latent_dim, name = 'latent_fh4')(x)\n",
    "fh = Reshape((latent_dim,))(fh)\n",
    "\n",
    "# tricks pour pouvoir passer fx et latent en outputs\n",
    "fx = Reshape((1,latent_dim,))(fx)\n",
    "fh = Reshape((1,latent_dim,))(fh)\n",
    "#latent = Reshape((1,3,))(latent)\n",
    "\n",
    "out = Concatenate()([fx, fh])\n",
    "print('out taille', K.int_shape(out))\n",
    "\n",
    "encoder = Model(inputs = inputs_xy, outputs = out, name = 'encoder')"
   ]
  },
  {
   "cell_type": "markdown",
   "metadata": {},
   "source": [
    "### Création du décodeur"
   ]
  },
  {
   "cell_type": "code",
   "execution_count": 20,
   "metadata": {
    "scrolled": true
   },
   "outputs": [],
   "source": [
    "latent_inputs = Input(shape = (1,2*latent_dim,), name = 'decoder_input')\n",
    "\n",
    "# on déballe la factorisation en x\n",
    "fxdec = Lambda(lambda x: x[:,:,:latent_dim])(latent_inputs)\n",
    "fxdec = Reshape((latent_dim,1,))(fxdec)\n",
    "\n",
    "# on déballe les commandes motrices\n",
    "inp = Lambda(lambda x: x[:,:,latent_dim:])(latent_inputs)\n",
    "inp = Reshape((latent_dim,))(inp)\n",
    "\n",
    "# on fait passer les commandes motrices dans la couche de perceptrons\n",
    "fhdec = Dense(latent_dim, name='latent_fhdec1')(inp)\n",
    "fhdec = Dense(latent_dim, name='latent_fhdec2')(fhdec)\n",
    "fhdec = Dense(latent_dim, name='latent_fhdec3')(fhdec)\n",
    "\n",
    "fhdec = Reshape((latent_dim,1,))(fhdec)\n",
    "\n",
    "# on mutliplie les deux représentations\n",
    "matmuldec = Multiply()([fxdec, fhdec])\n",
    "matmuldec = Reshape((latent_dim,))(matmuldec)\n",
    "\n",
    "# on en déduit une factorisation \n",
    "fydec = Dense(latent_dim, name = 'latent_fydec1')(matmuldec)\n",
    "fydec = Dense(latent_dim, name = 'latent_fydec2')(fydec)\n",
    "fydec = Dense(latent_dim, name = 'latent_fydec3')(fydec)\n",
    "# on déduit l'image de départ de cette factorisation\n",
    "ydec = Dense(img_size*img_size, activation = 'relu', name = 'y_recon')(fydec)\n",
    "ydec = Reshape((1,img_size, img_size,))(ydec)\n",
    "\n",
    "\n",
    "decoder = Model(latent_inputs, outputs= ydec, name='decoder')"
   ]
  },
  {
   "cell_type": "markdown",
   "metadata": {},
   "source": [
    "### Création de l'auto-encodeur"
   ]
  },
  {
   "cell_type": "code",
   "execution_count": 21,
   "metadata": {
    "scrolled": true
   },
   "outputs": [
    {
     "name": "stdout",
     "output_type": "stream",
     "text": [
      "_________________________________________________________________\n",
      "Layer (type)                 Output Shape              Param #   \n",
      "=================================================================\n",
      "xy (InputLayer)              (None, 2, 48, 48)         0         \n",
      "_________________________________________________________________\n",
      "encoder (Model)              (None, 1, 200)            511500    \n",
      "_________________________________________________________________\n",
      "decoder (Model)              (None, 1, 48, 48)         293304    \n",
      "=================================================================\n",
      "Total params: 804,804\n",
      "Trainable params: 804,804\n",
      "Non-trainable params: 0\n",
      "_________________________________________________________________\n"
     ]
    }
   ],
   "source": [
    "autoencoder = Model(inputs_xy, decoder(encoder(inputs_xy)), name = \"autoencoder\")\n",
    "autoencoder.summary()"
   ]
  },
  {
   "cell_type": "markdown",
   "metadata": {},
   "source": [
    "On enregistre des figures."
   ]
  },
  {
   "cell_type": "code",
   "execution_count": 22,
   "metadata": {},
   "outputs": [],
   "source": [
    "from keras.utils import plot_model \n",
    "plot_model(encoder, to_file='encoder.png')\n",
    "plot_model(decoder, to_file = 'decoder.png')\n",
    "plot_model(autoencoder, to_file = 'auto_encoder.png')"
   ]
  },
  {
   "cell_type": "markdown",
   "metadata": {},
   "source": [
    "### Auto-encodeur alternatif"
   ]
  },
  {
   "cell_type": "code",
   "execution_count": 23,
   "metadata": {
    "scrolled": true
   },
   "outputs": [],
   "source": [
    "input_size = 128\n",
    "input_shape = (2, input_size, input_size)\n",
    "latent_dim = 64 # plus facile pour la concaténation des outputs...\n",
    "\n",
    "# on donne en entrée des pairs d'images\n",
    "inputs_xy = Input(shape = (2, img_size, img_size, ), name = 'xy')\n",
    "\n",
    "# on sépare chacune des images\n",
    "x = Lambda(lambda x: x[:,0,:,:])(inputs_xy)\n",
    "x = Reshape((1,img_size, img_size,))(x)\n",
    "\n",
    "y = Lambda(lambda x: x[:,1,:,:])(inputs_xy)\n",
    "y = Reshape((1,img_size, img_size,))(y)\n",
    "\n",
    "# on factorise chacune des images avec dex conv2D\n",
    "fx = Conv2D(filters = 32, kernel_size = 3, strides = 2, activation = 'relu', padding = \"same\")(x)\n",
    "fx = Flatten()(fx)\n",
    "fx = Dense(latent_dim, activation = 'relu', name = 'latent_fx')(fx)\n",
    "fx = Reshape((latent_dim,1,))(fx)\n",
    "\n",
    "fy = Conv2D(filters = 32, kernel_size = 3, strides = 2, activation = 'relu', padding = \"same\")(y)\n",
    "fy = Flatten()(fy)\n",
    "fy = Dense(latent_dim, activation = 'relu', name = 'latent_fy')(fy)\n",
    "fy = Reshape((latent_dim,1,))(fy)\n",
    "\n",
    "# on multiplie les deux factorisations, TODO mieux si produit tensoriel\n",
    "matmul = Multiply()([fx, fy])\n",
    "\n",
    "# on passe le tout dans une couche de perceptrons pour obtenir les synérgies motrices\n",
    "x = Flatten()(matmul)\n",
    "fh = Dense(latent_dim, name = 'latent_fh')(x)\n",
    "fh = Reshape((latent_dim,))(fh)\n",
    "\n",
    "# tricks pour pouvoir passer fx et latent en outputs\n",
    "fx = Reshape((1,latent_dim,))(fx)\n",
    "fh = Reshape((1,latent_dim,))(fh)\n",
    "out = Concatenate()([fx, fh])\n",
    "\n",
    "encoder_alt = Model(inputs = inputs_xy, outputs = out, name = 'encoder_alt')"
   ]
  },
  {
   "cell_type": "code",
   "execution_count": 24,
   "metadata": {
    "scrolled": true
   },
   "outputs": [],
   "source": [
    "latent_inputs = Input(shape = (1,2*latent_dim,), name = 'decoder_input')\n",
    "\n",
    "# on déballe la factorisation en x\n",
    "fxdec = Lambda(lambda x: x[:,:,:latent_dim])(latent_inputs)\n",
    "fxdec = Reshape((latent_dim,1,))(fxdec)\n",
    "\n",
    "# on déballe les commandes motrices\n",
    "inp = Lambda(lambda x: x[:,:,latent_dim:])(latent_inputs)\n",
    "inp = Reshape((latent_dim,))(inp)\n",
    "\n",
    "# on fait passer les commandes motrices dans la couche de perceptrons\n",
    "fhdec = Dense(latent_dim, name='latent_fhdec')(inp)\n",
    "fhdec = Reshape((latent_dim,1,))(fhdec)\n",
    "\n",
    "# on mutliplie les deux représentations\n",
    "matmuldec = Multiply()([fxdec, fhdec])\n",
    "matmuldec = Reshape((latent_dim,))(matmuldec)\n",
    "\n",
    "# on en déduit une factorisation \n",
    "fydec = Dense(latent_dim, name = 'latent_fydec')(matmuldec)\n",
    "\n",
    "# on déduit l'image de départ de cette factorisation\n",
    "ydec = Dense(img_size*img_size, activation = 'relu', name = 'y_recon')(fydec)\n",
    "ydec = Reshape((1,img_size, img_size,))(ydec)\n",
    "\n",
    "# on rajoute une couche de déconvolution \n",
    "ydec = Conv2DTranspose(filters= 32, kernel_size = 3, activation = 'relu', padding = 'same')(ydec)\n",
    "ydec = Conv2DTranspose(filters= 64, kernel_size = 3, activation = 'relu', padding = 'same')(ydec)\n",
    "decoder_alt = Model(latent_inputs, outputs= ydec, name='decoder_alt')"
   ]
  },
  {
   "cell_type": "code",
   "execution_count": 25,
   "metadata": {},
   "outputs": [
    {
     "name": "stdout",
     "output_type": "stream",
     "text": [
      "_________________________________________________________________\n",
      "Layer (type)                 Output Shape              Param #   \n",
      "=================================================================\n",
      "xy (InputLayer)              (None, 2, 48, 48)         0         \n",
      "_________________________________________________________________\n",
      "encoder_alt (Model)          (None, 1, 128)            130304    \n",
      "_________________________________________________________________\n",
      "decoder_alt (Model)          (None, 1, 48, 64)         190432    \n",
      "=================================================================\n",
      "Total params: 320,736\n",
      "Trainable params: 320,736\n",
      "Non-trainable params: 0\n",
      "_________________________________________________________________\n"
     ]
    }
   ],
   "source": [
    "autoencoder_alt = Model(inputs_xy, decoder_alt(encoder_alt(inputs_xy)), name = \"autoencoder_alt\")\n",
    "autoencoder_alt.summary()"
   ]
  },
  {
   "cell_type": "markdown",
   "metadata": {},
   "source": [
    "## Entraînement"
   ]
  },
  {
   "cell_type": "markdown",
   "metadata": {},
   "source": [
    "On entraîne le modèle sur des pairs d'images.\n",
    "On utilise une descente de gradient stochastique. \n",
    "edit: la descente de gradient stochastique n'est pas adapté ici.\n",
    "adam fonctionne bien mieux."
   ]
  },
  {
   "cell_type": "code",
   "execution_count": 26,
   "metadata": {
    "scrolled": true
   },
   "outputs": [
    {
     "name": "stdout",
     "output_type": "stream",
     "text": [
      "WARNING:tensorflow:From /usr/local/lib/python2.7/dist-packages/tensorflow/python/ops/math_ops.py:3066: to_int32 (from tensorflow.python.ops.math_ops) is deprecated and will be removed in a future version.\n",
      "Instructions for updating:\n",
      "Use tf.cast instead.\n",
      "Train on 9600 samples, validate on 2400 samples\n",
      "Epoch 1/100\n",
      "9600/9600 [==============================] - 5s 515us/step - loss: 5.8252e-04 - kullback_leibler_divergence: 1.2634 - acc: 0.3543 - val_loss: 2.6932e-04 - val_kullback_leibler_divergence: 0.7908 - val_acc: 0.5488\n",
      "Epoch 2/100\n",
      "9600/9600 [==============================] - 4s 449us/step - loss: 1.9113e-04 - kullback_leibler_divergence: 0.6603 - acc: 0.6305 - val_loss: 1.6405e-04 - val_kullback_leibler_divergence: 0.6532 - val_acc: 0.6878\n",
      "Epoch 3/100\n",
      "9600/9600 [==============================] - 4s 439us/step - loss: 1.2818e-04 - kullback_leibler_divergence: 0.5561 - acc: 0.7123 - val_loss: 1.2806e-04 - val_kullback_leibler_divergence: 0.5658 - val_acc: 0.7068\n",
      "Epoch 4/100\n",
      "9600/9600 [==============================] - 4s 434us/step - loss: 1.0352e-04 - kullback_leibler_divergence: 0.5158 - acc: 0.7519 - val_loss: 1.0277e-04 - val_kullback_leibler_divergence: 0.5245 - val_acc: 0.7616\n",
      "Epoch 5/100\n",
      "9600/9600 [==============================] - 4s 443us/step - loss: 9.0114e-05 - kullback_leibler_divergence: 0.4828 - acc: 0.7746 - val_loss: 1.0359e-04 - val_kullback_leibler_divergence: 0.5147 - val_acc: 0.7641\n",
      "Epoch 6/100\n",
      "9600/9600 [==============================] - 4s 408us/step - loss: 8.2699e-05 - kullback_leibler_divergence: 0.4578 - acc: 0.7853 - val_loss: 8.9835e-05 - val_kullback_leibler_divergence: 0.4720 - val_acc: 0.7847\n",
      "Epoch 7/100\n",
      "9600/9600 [==============================] - 4s 412us/step - loss: 7.4946e-05 - kullback_leibler_divergence: 0.4434 - acc: 0.7988 - val_loss: 8.1706e-05 - val_kullback_leibler_divergence: 0.4515 - val_acc: 0.7951\n",
      "Epoch 8/100\n",
      "9600/9600 [==============================] - 4s 432us/step - loss: 7.4291e-05 - kullback_leibler_divergence: 0.4329 - acc: 0.8016 - val_loss: 7.9049e-05 - val_kullback_leibler_divergence: 0.4508 - val_acc: 0.7947\n",
      "Epoch 9/100\n",
      "9600/9600 [==============================] - 4s 417us/step - loss: 7.1688e-05 - kullback_leibler_divergence: 0.4235 - acc: 0.8085 - val_loss: 8.0913e-05 - val_kullback_leibler_divergence: 0.4519 - val_acc: 0.8081\n",
      "Epoch 10/100\n",
      "9600/9600 [==============================] - 4s 429us/step - loss: 6.9246e-05 - kullback_leibler_divergence: 0.4177 - acc: 0.8150 - val_loss: 7.8790e-05 - val_kullback_leibler_divergence: 0.4265 - val_acc: 0.8104\n",
      "Epoch 11/100\n",
      "9600/9600 [==============================] - 4s 442us/step - loss: 6.7084e-05 - kullback_leibler_divergence: 0.4022 - acc: 0.8157 - val_loss: 7.1498e-05 - val_kullback_leibler_divergence: 0.4034 - val_acc: 0.8152\n",
      "Epoch 12/100\n",
      "9600/9600 [==============================] - 5s 472us/step - loss: 6.1649e-05 - kullback_leibler_divergence: 0.3808 - acc: 0.8195 - val_loss: 6.8641e-05 - val_kullback_leibler_divergence: 0.3860 - val_acc: 0.8129\n",
      "Epoch 13/100\n",
      "9600/9600 [==============================] - 4s 446us/step - loss: 5.9615e-05 - kullback_leibler_divergence: 0.3724 - acc: 0.8251 - val_loss: 6.8919e-05 - val_kullback_leibler_divergence: 0.3916 - val_acc: 0.8156\n",
      "Epoch 14/100\n",
      "9600/9600 [==============================] - 4s 453us/step - loss: 6.0027e-05 - kullback_leibler_divergence: 0.3682 - acc: 0.8232 - val_loss: 6.9559e-05 - val_kullback_leibler_divergence: 0.3993 - val_acc: 0.8048\n",
      "Epoch 15/100\n",
      "9600/9600 [==============================] - 4s 437us/step - loss: 5.8315e-05 - kullback_leibler_divergence: 0.3573 - acc: 0.8234 - val_loss: 6.5359e-05 - val_kullback_leibler_divergence: 0.3627 - val_acc: 0.8162\n",
      "Epoch 16/100\n",
      "9600/9600 [==============================] - 4s 461us/step - loss: 5.5957e-05 - kullback_leibler_divergence: 0.3524 - acc: 0.8292 - val_loss: 6.4340e-05 - val_kullback_leibler_divergence: 0.3762 - val_acc: 0.8269\n",
      "Epoch 17/100\n",
      "9600/9600 [==============================] - 4s 461us/step - loss: 5.5203e-05 - kullback_leibler_divergence: 0.3492 - acc: 0.8325 - val_loss: 6.9654e-05 - val_kullback_leibler_divergence: 0.3876 - val_acc: 0.8255\n",
      "Epoch 18/100\n",
      "9600/9600 [==============================] - 4s 440us/step - loss: 5.6066e-05 - kullback_leibler_divergence: 0.3463 - acc: 0.8296 - val_loss: 6.5795e-05 - val_kullback_leibler_divergence: 0.3713 - val_acc: 0.8236\n",
      "Epoch 19/100\n",
      "9600/9600 [==============================] - 4s 432us/step - loss: 5.4091e-05 - kullback_leibler_divergence: 0.3383 - acc: 0.8319 - val_loss: 6.2465e-05 - val_kullback_leibler_divergence: 0.3683 - val_acc: 0.8346\n",
      "Epoch 20/100\n",
      "9600/9600 [==============================] - 4s 429us/step - loss: 5.0377e-05 - kullback_leibler_divergence: 0.3234 - acc: 0.8359 - val_loss: 5.5449e-05 - val_kullback_leibler_divergence: 0.3431 - val_acc: 0.8316\n",
      "Epoch 21/100\n",
      "9600/9600 [==============================] - 4s 431us/step - loss: 4.9183e-05 - kullback_leibler_divergence: 0.3189 - acc: 0.8386 - val_loss: 5.7720e-05 - val_kullback_leibler_divergence: 0.3374 - val_acc: 0.8227\n",
      "Epoch 22/100\n",
      "9600/9600 [==============================] - 4s 460us/step - loss: 5.0474e-05 - kullback_leibler_divergence: 0.3185 - acc: 0.8356 - val_loss: 5.5122e-05 - val_kullback_leibler_divergence: 0.3365 - val_acc: 0.8340\n",
      "Epoch 23/100\n",
      "9600/9600 [==============================] - 4s 436us/step - loss: 4.8498e-05 - kullback_leibler_divergence: 0.3130 - acc: 0.8400 - val_loss: 5.4637e-05 - val_kullback_leibler_divergence: 0.3262 - val_acc: 0.8375\n",
      "Epoch 24/100\n",
      "9600/9600 [==============================] - 4s 435us/step - loss: 4.8508e-05 - kullback_leibler_divergence: 0.3101 - acc: 0.8396 - val_loss: 5.3847e-05 - val_kullback_leibler_divergence: 0.3325 - val_acc: 0.8371\n",
      "Epoch 25/100\n",
      "9600/9600 [==============================] - 4s 433us/step - loss: 4.7991e-05 - kullback_leibler_divergence: 0.3058 - acc: 0.8395 - val_loss: 5.6111e-05 - val_kullback_leibler_divergence: 0.3387 - val_acc: 0.8349\n",
      "Epoch 26/100\n",
      "9600/9600 [==============================] - 4s 434us/step - loss: 4.6506e-05 - kullback_leibler_divergence: 0.3025 - acc: 0.8442 - val_loss: 5.1929e-05 - val_kullback_leibler_divergence: 0.3267 - val_acc: 0.8387\n",
      "Epoch 27/100\n",
      "9600/9600 [==============================] - 4s 433us/step - loss: 4.6188e-05 - kullback_leibler_divergence: 0.2994 - acc: 0.8443 - val_loss: 5.4992e-05 - val_kullback_leibler_divergence: 0.3187 - val_acc: 0.8331\n",
      "Epoch 28/100\n",
      "9600/9600 [==============================] - 4s 440us/step - loss: 4.7343e-05 - kullback_leibler_divergence: 0.2996 - acc: 0.8402 - val_loss: 5.3759e-05 - val_kullback_leibler_divergence: 0.3237 - val_acc: 0.8309\n",
      "Epoch 29/100\n",
      "9600/9600 [==============================] - 4s 443us/step - loss: 4.6457e-05 - kullback_leibler_divergence: 0.2972 - acc: 0.8443 - val_loss: 5.0883e-05 - val_kullback_leibler_divergence: 0.3090 - val_acc: 0.8309\n",
      "Epoch 30/100\n",
      "9600/9600 [==============================] - 4s 436us/step - loss: 4.6036e-05 - kullback_leibler_divergence: 0.2944 - acc: 0.8441 - val_loss: 5.1274e-05 - val_kullback_leibler_divergence: 0.3108 - val_acc: 0.8360\n",
      "Epoch 31/100\n",
      "9600/9600 [==============================] - 4s 434us/step - loss: 4.5096e-05 - kullback_leibler_divergence: 0.2917 - acc: 0.8472 - val_loss: 5.0480e-05 - val_kullback_leibler_divergence: 0.3124 - val_acc: 0.8376\n",
      "Epoch 32/100\n",
      "9600/9600 [==============================] - 4s 437us/step - loss: 4.4978e-05 - kullback_leibler_divergence: 0.2882 - acc: 0.8466 - val_loss: 5.1312e-05 - val_kullback_leibler_divergence: 0.3080 - val_acc: 0.8289\n",
      "Epoch 33/100\n",
      "9600/9600 [==============================] - 5s 504us/step - loss: 4.4344e-05 - kullback_leibler_divergence: 0.2861 - acc: 0.8476 - val_loss: 5.0397e-05 - val_kullback_leibler_divergence: 0.2998 - val_acc: 0.8333\n",
      "Epoch 34/100\n",
      "9600/9600 [==============================] - 4s 434us/step - loss: 4.4419e-05 - kullback_leibler_divergence: 0.2850 - acc: 0.8479 - val_loss: 4.9097e-05 - val_kullback_leibler_divergence: 0.3047 - val_acc: 0.8427\n",
      "Epoch 35/100\n",
      "9600/9600 [==============================] - 4s 434us/step - loss: 4.4626e-05 - kullback_leibler_divergence: 0.2846 - acc: 0.8473 - val_loss: 5.2146e-05 - val_kullback_leibler_divergence: 0.3161 - val_acc: 0.8302\n"
     ]
    },
    {
     "name": "stdout",
     "output_type": "stream",
     "text": [
      "Epoch 36/100\n",
      "9600/9600 [==============================] - 4s 452us/step - loss: 4.4531e-05 - kullback_leibler_divergence: 0.2841 - acc: 0.8472 - val_loss: 4.8915e-05 - val_kullback_leibler_divergence: 0.3027 - val_acc: 0.8353\n",
      "Epoch 37/100\n",
      "9600/9600 [==============================] - 4s 429us/step - loss: 4.3756e-05 - kullback_leibler_divergence: 0.2816 - acc: 0.8499 - val_loss: 4.8709e-05 - val_kullback_leibler_divergence: 0.3009 - val_acc: 0.8362\n",
      "Epoch 38/100\n",
      "9600/9600 [==============================] - 5s 482us/step - loss: 4.4015e-05 - kullback_leibler_divergence: 0.2814 - acc: 0.8490 - val_loss: 4.9447e-05 - val_kullback_leibler_divergence: 0.2945 - val_acc: 0.8407\n",
      "Epoch 39/100\n",
      "9600/9600 [==============================] - 4s 431us/step - loss: 4.4791e-05 - kullback_leibler_divergence: 0.2817 - acc: 0.8470 - val_loss: 4.8569e-05 - val_kullback_leibler_divergence: 0.3073 - val_acc: 0.8367\n",
      "Epoch 40/100\n",
      "9600/9600 [==============================] - 4s 429us/step - loss: 4.4124e-05 - kullback_leibler_divergence: 0.2801 - acc: 0.8490 - val_loss: 4.7882e-05 - val_kullback_leibler_divergence: 0.2913 - val_acc: 0.8368\n",
      "Epoch 41/100\n",
      "9600/9600 [==============================] - 4s 428us/step - loss: 4.4282e-05 - kullback_leibler_divergence: 0.2795 - acc: 0.8483 - val_loss: 5.1225e-05 - val_kullback_leibler_divergence: 0.3129 - val_acc: 0.8329\n",
      "Epoch 42/100\n",
      "9600/9600 [==============================] - 4s 427us/step - loss: 4.3323e-05 - kullback_leibler_divergence: 0.2774 - acc: 0.8517 - val_loss: 4.7616e-05 - val_kullback_leibler_divergence: 0.2937 - val_acc: 0.8385\n",
      "Epoch 43/100\n",
      "9600/9600 [==============================] - 4s 427us/step - loss: 4.2400e-05 - kullback_leibler_divergence: 0.2735 - acc: 0.8550 - val_loss: 4.7618e-05 - val_kullback_leibler_divergence: 0.2929 - val_acc: 0.8494\n",
      "Epoch 44/100\n",
      "9600/9600 [==============================] - 4s 449us/step - loss: 4.2957e-05 - kullback_leibler_divergence: 0.2739 - acc: 0.8527 - val_loss: 4.7327e-05 - val_kullback_leibler_divergence: 0.2934 - val_acc: 0.8488\n",
      "Epoch 45/100\n",
      "9600/9600 [==============================] - 4s 462us/step - loss: 4.2637e-05 - kullback_leibler_divergence: 0.2727 - acc: 0.8541 - val_loss: 4.7320e-05 - val_kullback_leibler_divergence: 0.2865 - val_acc: 0.8366\n",
      "Epoch 46/100\n",
      "9600/9600 [==============================] - 4s 435us/step - loss: 4.2431e-05 - kullback_leibler_divergence: 0.2712 - acc: 0.8547 - val_loss: 4.7625e-05 - val_kullback_leibler_divergence: 0.2886 - val_acc: 0.8367\n",
      "Epoch 47/100\n",
      "9600/9600 [==============================] - 4s 445us/step - loss: 4.2295e-05 - kullback_leibler_divergence: 0.2703 - acc: 0.8546 - val_loss: 4.8047e-05 - val_kullback_leibler_divergence: 0.2825 - val_acc: 0.8449\n",
      "Epoch 48/100\n",
      "9600/9600 [==============================] - 4s 434us/step - loss: 4.2568e-05 - kullback_leibler_divergence: 0.2706 - acc: 0.8542 - val_loss: 4.6845e-05 - val_kullback_leibler_divergence: 0.2878 - val_acc: 0.8459\n",
      "Epoch 49/100\n",
      "9600/9600 [==============================] - 4s 456us/step - loss: 4.1987e-05 - kullback_leibler_divergence: 0.2687 - acc: 0.8559 - val_loss: 4.7249e-05 - val_kullback_leibler_divergence: 0.2867 - val_acc: 0.8465\n",
      "Epoch 50/100\n",
      "9600/9600 [==============================] - 4s 448us/step - loss: 4.2365e-05 - kullback_leibler_divergence: 0.2692 - acc: 0.8558 - val_loss: 4.6913e-05 - val_kullback_leibler_divergence: 0.2783 - val_acc: 0.8404\n",
      "Epoch 51/100\n",
      "9600/9600 [==============================] - 4s 454us/step - loss: 4.2793e-05 - kullback_leibler_divergence: 0.2695 - acc: 0.8531 - val_loss: 4.8747e-05 - val_kullback_leibler_divergence: 0.2835 - val_acc: 0.8416\n",
      "Epoch 52/100\n",
      "9600/9600 [==============================] - 4s 445us/step - loss: 4.2217e-05 - kullback_leibler_divergence: 0.2679 - acc: 0.8556 - val_loss: 4.7568e-05 - val_kullback_leibler_divergence: 0.2838 - val_acc: 0.8471\n",
      "Epoch 53/100\n",
      "9600/9600 [==============================] - 5s 481us/step - loss: 4.2544e-05 - kullback_leibler_divergence: 0.2680 - acc: 0.8547 - val_loss: 4.6157e-05 - val_kullback_leibler_divergence: 0.2843 - val_acc: 0.8480\n",
      "Epoch 54/100\n",
      "9600/9600 [==============================] - 4s 465us/step - loss: 4.1062e-05 - kullback_leibler_divergence: 0.2624 - acc: 0.8579 - val_loss: 4.4769e-05 - val_kullback_leibler_divergence: 0.2703 - val_acc: 0.8443\n",
      "Epoch 55/100\n",
      "9600/9600 [==============================] - 4s 442us/step - loss: 4.0508e-05 - kullback_leibler_divergence: 0.2586 - acc: 0.8573 - val_loss: 4.5424e-05 - val_kullback_leibler_divergence: 0.2779 - val_acc: 0.8548\n",
      "Epoch 56/100\n",
      "9600/9600 [==============================] - 4s 436us/step - loss: 3.9939e-05 - kullback_leibler_divergence: 0.2566 - acc: 0.8581 - val_loss: 4.4367e-05 - val_kullback_leibler_divergence: 0.2668 - val_acc: 0.8414\n",
      "Epoch 57/100\n",
      "9600/9600 [==============================] - 4s 448us/step - loss: 4.0232e-05 - kullback_leibler_divergence: 0.2567 - acc: 0.8575 - val_loss: 4.3529e-05 - val_kullback_leibler_divergence: 0.2707 - val_acc: 0.8475\n",
      "Epoch 58/100\n",
      "9600/9600 [==============================] - 4s 430us/step - loss: 3.9762e-05 - kullback_leibler_divergence: 0.2551 - acc: 0.8584 - val_loss: 4.4174e-05 - val_kullback_leibler_divergence: 0.2772 - val_acc: 0.8429\n",
      "Epoch 59/100\n",
      "9600/9600 [==============================] - 4s 433us/step - loss: 3.9896e-05 - kullback_leibler_divergence: 0.2550 - acc: 0.8588 - val_loss: 4.4055e-05 - val_kullback_leibler_divergence: 0.2630 - val_acc: 0.8491\n",
      "Epoch 60/100\n",
      "9600/9600 [==============================] - 4s 432us/step - loss: 4.0506e-05 - kullback_leibler_divergence: 0.2558 - acc: 0.8568 - val_loss: 4.4444e-05 - val_kullback_leibler_divergence: 0.2662 - val_acc: 0.8403\n",
      "Epoch 61/100\n",
      "9600/9600 [==============================] - 4s 432us/step - loss: 3.9253e-05 - kullback_leibler_divergence: 0.2523 - acc: 0.8604 - val_loss: 4.3514e-05 - val_kullback_leibler_divergence: 0.2654 - val_acc: 0.8561\n",
      "Epoch 62/100\n",
      "9600/9600 [==============================] - 4s 434us/step - loss: 3.9364e-05 - kullback_leibler_divergence: 0.2519 - acc: 0.8604 - val_loss: 4.4187e-05 - val_kullback_leibler_divergence: 0.2612 - val_acc: 0.8527\n",
      "Epoch 63/100\n",
      "9600/9600 [==============================] - 4s 432us/step - loss: 3.9923e-05 - kullback_leibler_divergence: 0.2534 - acc: 0.8590 - val_loss: 4.4247e-05 - val_kullback_leibler_divergence: 0.2740 - val_acc: 0.8473\n",
      "Epoch 64/100\n",
      "9600/9600 [==============================] - 4s 436us/step - loss: 3.9572e-05 - kullback_leibler_divergence: 0.2520 - acc: 0.8595 - val_loss: 4.5109e-05 - val_kullback_leibler_divergence: 0.2631 - val_acc: 0.8436\n",
      "Epoch 65/100\n",
      "9600/9600 [==============================] - 4s 443us/step - loss: 3.9622e-05 - kullback_leibler_divergence: 0.2519 - acc: 0.8593 - val_loss: 4.3006e-05 - val_kullback_leibler_divergence: 0.2623 - val_acc: 0.8440\n",
      "Epoch 66/100\n",
      "9600/9600 [==============================] - 4s 430us/step - loss: 3.9484e-05 - kullback_leibler_divergence: 0.2513 - acc: 0.8601 - val_loss: 4.3064e-05 - val_kullback_leibler_divergence: 0.2610 - val_acc: 0.8468\n",
      "Epoch 67/100\n",
      "9600/9600 [==============================] - 4s 432us/step - loss: 3.8800e-05 - kullback_leibler_divergence: 0.2493 - acc: 0.8626 - val_loss: 4.3136e-05 - val_kullback_leibler_divergence: 0.2637 - val_acc: 0.8565\n",
      "Epoch 68/100\n",
      "9600/9600 [==============================] - 4s 441us/step - loss: 3.9425e-05 - kullback_leibler_divergence: 0.2508 - acc: 0.8603 - val_loss: 4.4110e-05 - val_kullback_leibler_divergence: 0.2671 - val_acc: 0.8467\n",
      "Epoch 69/100\n",
      "9600/9600 [==============================] - 4s 443us/step - loss: 3.9444e-05 - kullback_leibler_divergence: 0.2508 - acc: 0.8599 - val_loss: 4.3130e-05 - val_kullback_leibler_divergence: 0.2577 - val_acc: 0.8473\n",
      "Epoch 70/100\n",
      "9600/9600 [==============================] - 4s 438us/step - loss: 3.8924e-05 - kullback_leibler_divergence: 0.2491 - acc: 0.8624 - val_loss: 4.2474e-05 - val_kullback_leibler_divergence: 0.2584 - val_acc: 0.8424\n",
      "Epoch 71/100\n",
      "9600/9600 [==============================] - 4s 441us/step - loss: 3.8634e-05 - kullback_leibler_divergence: 0.2480 - acc: 0.8637 - val_loss: 4.2698e-05 - val_kullback_leibler_divergence: 0.2606 - val_acc: 0.8548\n",
      "Epoch 72/100\n"
     ]
    },
    {
     "name": "stdout",
     "output_type": "stream",
     "text": [
      "9600/9600 [==============================] - 4s 428us/step - loss: 3.8941e-05 - kullback_leibler_divergence: 0.2486 - acc: 0.8626 - val_loss: 4.2845e-05 - val_kullback_leibler_divergence: 0.2667 - val_acc: 0.8578\n",
      "Epoch 73/100\n",
      "9600/9600 [==============================] - 4s 426us/step - loss: 3.8910e-05 - kullback_leibler_divergence: 0.2483 - acc: 0.8627 - val_loss: 4.2285e-05 - val_kullback_leibler_divergence: 0.2609 - val_acc: 0.8541\n",
      "Epoch 74/100\n",
      "9600/9600 [==============================] - 4s 426us/step - loss: 3.8925e-05 - kullback_leibler_divergence: 0.2475 - acc: 0.8618 - val_loss: 4.3942e-05 - val_kullback_leibler_divergence: 0.2612 - val_acc: 0.8551\n",
      "Epoch 75/100\n",
      "9600/9600 [==============================] - 4s 424us/step - loss: 3.9222e-05 - kullback_leibler_divergence: 0.2481 - acc: 0.8611 - val_loss: 4.2309e-05 - val_kullback_leibler_divergence: 0.2578 - val_acc: 0.8524\n",
      "Epoch 76/100\n",
      "9600/9600 [==============================] - 4s 432us/step - loss: 3.8727e-05 - kullback_leibler_divergence: 0.2466 - acc: 0.8630 - val_loss: 4.2263e-05 - val_kullback_leibler_divergence: 0.2564 - val_acc: 0.8478\n",
      "Epoch 77/100\n",
      "9600/9600 [==============================] - 4s 433us/step - loss: 3.8324e-05 - kullback_leibler_divergence: 0.2455 - acc: 0.8642 - val_loss: 4.1951e-05 - val_kullback_leibler_divergence: 0.2556 - val_acc: 0.8536\n",
      "Epoch 78/100\n",
      "9600/9600 [==============================] - 4s 427us/step - loss: 3.8959e-05 - kullback_leibler_divergence: 0.2468 - acc: 0.8627 - val_loss: 4.2087e-05 - val_kullback_leibler_divergence: 0.2568 - val_acc: 0.8445\n",
      "Epoch 79/100\n",
      "9600/9600 [==============================] - 4s 428us/step - loss: 3.8706e-05 - kullback_leibler_divergence: 0.2462 - acc: 0.8637 - val_loss: 4.3109e-05 - val_kullback_leibler_divergence: 0.2642 - val_acc: 0.8527\n",
      "Epoch 80/100\n",
      "9600/9600 [==============================] - 4s 426us/step - loss: 3.8443e-05 - kullback_leibler_divergence: 0.2452 - acc: 0.8640 - val_loss: 4.1609e-05 - val_kullback_leibler_divergence: 0.2606 - val_acc: 0.8596\n",
      "Epoch 81/100\n",
      "9600/9600 [==============================] - 4s 428us/step - loss: 3.8315e-05 - kullback_leibler_divergence: 0.2447 - acc: 0.8649 - val_loss: 4.1433e-05 - val_kullback_leibler_divergence: 0.2590 - val_acc: 0.8527\n",
      "Epoch 82/100\n",
      "9600/9600 [==============================] - 4s 447us/step - loss: 3.8533e-05 - kullback_leibler_divergence: 0.2451 - acc: 0.8637 - val_loss: 4.2725e-05 - val_kullback_leibler_divergence: 0.2622 - val_acc: 0.8503\n",
      "Epoch 83/100\n",
      "9600/9600 [==============================] - 4s 427us/step - loss: 3.8360e-05 - kullback_leibler_divergence: 0.2445 - acc: 0.8645 - val_loss: 4.1613e-05 - val_kullback_leibler_divergence: 0.2526 - val_acc: 0.8584\n",
      "Epoch 84/100\n",
      "9600/9600 [==============================] - 4s 456us/step - loss: 3.8633e-05 - kullback_leibler_divergence: 0.2450 - acc: 0.8637 - val_loss: 4.2038e-05 - val_kullback_leibler_divergence: 0.2606 - val_acc: 0.8507\n",
      "Epoch 85/100\n",
      "9600/9600 [==============================] - 4s 462us/step - loss: 3.8156e-05 - kullback_leibler_divergence: 0.2436 - acc: 0.8661 - val_loss: 4.2293e-05 - val_kullback_leibler_divergence: 0.2622 - val_acc: 0.8565\n",
      "Epoch 86/100\n",
      "9600/9600 [==============================] - 4s 429us/step - loss: 3.8092e-05 - kullback_leibler_divergence: 0.2433 - acc: 0.8658 - val_loss: 4.1744e-05 - val_kullback_leibler_divergence: 0.2548 - val_acc: 0.8520\n",
      "Epoch 87/100\n",
      "9600/9600 [==============================] - 4s 427us/step - loss: 3.8711e-05 - kullback_leibler_divergence: 0.2448 - acc: 0.8639 - val_loss: 4.1606e-05 - val_kullback_leibler_divergence: 0.2549 - val_acc: 0.8596\n",
      "Epoch 88/100\n",
      "9600/9600 [==============================] - 4s 425us/step - loss: 3.8206e-05 - kullback_leibler_divergence: 0.2431 - acc: 0.8655 - val_loss: 4.1854e-05 - val_kullback_leibler_divergence: 0.2542 - val_acc: 0.8557\n",
      "Epoch 89/100\n",
      "9600/9600 [==============================] - 4s 427us/step - loss: 3.8354e-05 - kullback_leibler_divergence: 0.2433 - acc: 0.8651 - val_loss: 4.1484e-05 - val_kullback_leibler_divergence: 0.2474 - val_acc: 0.8621\n",
      "Epoch 90/100\n",
      "9600/9600 [==============================] - 4s 427us/step - loss: 3.8186e-05 - kullback_leibler_divergence: 0.2429 - acc: 0.8661 - val_loss: 4.2340e-05 - val_kullback_leibler_divergence: 0.2536 - val_acc: 0.8538\n",
      "Epoch 91/100\n",
      "9600/9600 [==============================] - 4s 443us/step - loss: 3.8063e-05 - kullback_leibler_divergence: 0.2423 - acc: 0.8663 - val_loss: 4.1297e-05 - val_kullback_leibler_divergence: 0.2517 - val_acc: 0.8586\n",
      "Epoch 92/100\n",
      "9600/9600 [==============================] - 4s 439us/step - loss: 3.8155e-05 - kullback_leibler_divergence: 0.2423 - acc: 0.8660 - val_loss: 4.2816e-05 - val_kullback_leibler_divergence: 0.2567 - val_acc: 0.8518\n",
      "Epoch 93/100\n",
      "9600/9600 [==============================] - 4s 437us/step - loss: 3.8088e-05 - kullback_leibler_divergence: 0.2417 - acc: 0.8659 - val_loss: 4.0397e-05 - val_kullback_leibler_divergence: 0.2498 - val_acc: 0.8555\n",
      "Epoch 94/100\n",
      "9600/9600 [==============================] - 4s 439us/step - loss: 3.7376e-05 - kullback_leibler_divergence: 0.2379 - acc: 0.8667 - val_loss: 4.0035e-05 - val_kullback_leibler_divergence: 0.2466 - val_acc: 0.8590\n",
      "Epoch 95/100\n",
      "9600/9600 [==============================] - 4s 438us/step - loss: 3.7238e-05 - kullback_leibler_divergence: 0.2373 - acc: 0.8670 - val_loss: 4.0128e-05 - val_kullback_leibler_divergence: 0.2455 - val_acc: 0.8627\n",
      "Epoch 96/100\n",
      "9600/9600 [==============================] - 4s 432us/step - loss: 3.7266e-05 - kullback_leibler_divergence: 0.2372 - acc: 0.8667 - val_loss: 4.0057e-05 - val_kullback_leibler_divergence: 0.2464 - val_acc: 0.8533\n",
      "Epoch 97/100\n",
      "9600/9600 [==============================] - 4s 429us/step - loss: 3.7046e-05 - kullback_leibler_divergence: 0.2365 - acc: 0.8670 - val_loss: 4.0160e-05 - val_kullback_leibler_divergence: 0.2503 - val_acc: 0.8584\n",
      "Epoch 98/100\n",
      "9600/9600 [==============================] - 4s 435us/step - loss: 3.7129e-05 - kullback_leibler_divergence: 0.2366 - acc: 0.8665 - val_loss: 3.9936e-05 - val_kullback_leibler_divergence: 0.2463 - val_acc: 0.8506\n",
      "Epoch 99/100\n",
      "9600/9600 [==============================] - 4s 437us/step - loss: 3.7229e-05 - kullback_leibler_divergence: 0.2368 - acc: 0.8675 - val_loss: 3.9633e-05 - val_kullback_leibler_divergence: 0.2488 - val_acc: 0.8572\n",
      "Epoch 100/100\n",
      "9600/9600 [==============================] - 4s 438us/step - loss: 3.7065e-05 - kullback_leibler_divergence: 0.2361 - acc: 0.8674 - val_loss: 4.0691e-05 - val_kullback_leibler_divergence: 0.2421 - val_acc: 0.8469\n"
     ]
    }
   ],
   "source": [
    "sgd = keras.optimizers.SGD(lr = 0.1, momentum = 0.2)\n",
    "\n",
    "autoencoder.compile(loss = 'mse', \n",
    "                    optimizer = 'adam', \n",
    "                    metrics = ['kullback_leibler_divergence', 'acc'])\n",
    "\n",
    "history = autoencoder.fit(train_features,\n",
    "                          train_images_y,\n",
    "                          validation_split = 0.2,\n",
    "                          epochs = 100)"
   ]
  },
  {
   "cell_type": "markdown",
   "metadata": {},
   "source": [
    "### Visualisation"
   ]
  },
  {
   "cell_type": "code",
   "execution_count": 27,
   "metadata": {},
   "outputs": [
    {
     "data": {
      "image/png": "[encoded data removed]",
      "text/plain": [
       "<Figure size 432x288 with 1 Axes>"
      ]
     },
     "metadata": {
      "needs_background": "light"
     },
     "output_type": "display_data"
    },
    {
     "data": {
      "image/png": "[encoded data removed]",
      "text/plain": [
       "<Figure size 432x288 with 1 Axes>"
      ]
     },
     "metadata": {
      "needs_background": "light"
     },
     "output_type": "display_data"
    }
   ],
   "source": [
    "# Plot training & validation accuracy values\n",
    "plt.plot(history.history['acc'])\n",
    "plt.plot(history.history['val_acc'])\n",
    "plt.title('Model accuracy')\n",
    "plt.ylabel('Accuracy')\n",
    "plt.xlabel('Epoch')\n",
    "plt.legend(['Train', 'Test'], loc='upper left')\n",
    "plt.show()\n",
    "\n",
    "# Plot training & validation loss values\n",
    "plt.plot(history.history['loss'])\n",
    "plt.plot(history.history['val_loss'])\n",
    "plt.title('Model loss')\n",
    "plt.ylabel('Loss')\n",
    "plt.xlabel('Epoch')\n",
    "plt.legend(['Train', 'Test'], loc='upper left')\n",
    "plt.show()"
   ]
  },
  {
   "cell_type": "markdown",
   "metadata": {},
   "source": [
    "### Décodage"
   ]
  },
  {
   "cell_type": "markdown",
   "metadata": {},
   "source": [
    "Image reconstruite"
   ]
  },
  {
   "cell_type": "code",
   "execution_count": 28,
   "metadata": {},
   "outputs": [
    {
     "data": {
      "text/plain": [
       "<matplotlib.image.AxesImage at 0x7f26c003d790>"
      ]
     },
     "execution_count": 28,
     "metadata": {},
     "output_type": "execute_result"
    },
    {
     "data": {
      "image/png": "[encoded data removed]",
      "text/plain": [
       "<Figure size 432x288 with 1 Axes>"
      ]
     },
     "metadata": {
      "needs_background": "light"
     },
     "output_type": "display_data"
    }
   ],
   "source": [
    "x_decoded = autoencoder.predict(train_features)\n",
    "imshow(x_decoded[0][0])"
   ]
  },
  {
   "cell_type": "markdown",
   "metadata": {},
   "source": [
    "Image original"
   ]
  },
  {
   "cell_type": "code",
   "execution_count": 29,
   "metadata": {},
   "outputs": [
    {
     "data": {
      "text/plain": [
       "<matplotlib.image.AxesImage at 0x7f26c02ac990>"
      ]
     },
     "execution_count": 29,
     "metadata": {},
     "output_type": "execute_result"
    },
    {
     "data": {
      "image/png": "[encoded data removed]",
      "text/plain": [
       "<Figure size 432x288 with 1 Axes>"
      ]
     },
     "metadata": {
      "needs_background": "light"
     },
     "output_type": "display_data"
    }
   ],
   "source": [
    "imshow(train_images_y[0][0])"
   ]
  },
  {
   "cell_type": "markdown",
   "metadata": {},
   "source": [
    "Image donnée en entrée de l'autoencodeur"
   ]
  },
  {
   "cell_type": "code",
   "execution_count": 30,
   "metadata": {},
   "outputs": [
    {
     "data": {
      "text/plain": [
       "<matplotlib.image.AxesImage at 0x7f26c00959d0>"
      ]
     },
     "execution_count": 30,
     "metadata": {},
     "output_type": "execute_result"
    },
    {
     "data": {
      "image/png": "[encoded data removed]",
      "text/plain": [
       "<Figure size 432x288 with 1 Axes>"
      ]
     },
     "metadata": {
      "needs_background": "light"
     },
     "output_type": "display_data"
    }
   ],
   "source": [
    "imshow(train_images_x[0][0])"
   ]
  },
  {
   "cell_type": "code",
   "execution_count": 31,
   "metadata": {},
   "outputs": [
    {
     "data": {
      "image/png": "[encoded data removed]",
      "text/plain": [
       "<Figure size 432x288 with 1 Axes>"
      ]
     },
     "metadata": {
      "needs_background": "light"
     },
     "output_type": "display_data"
    }
   ],
   "source": [
    "from PIL import Image\n",
    "rows, cols = 10, 30\n",
    "num = rows * cols\n",
    "imgs = np.concatenate([train_images_x[:num], train_images_y[:num], x_decoded[:num]])\n",
    "imgs = imgs.reshape((rows * 3, cols, img_size, img_size))\n",
    "imgs = np.vstack(np.split(imgs, rows, axis=1))\n",
    "imgs = imgs.reshape((rows * 3, -1, img_size, img_size))\n",
    "imgs = np.vstack([np.hstack(i) for i in imgs])\n",
    "imgs = (imgs *255 ).astype(np.uint8)\n",
    "plt.figure()\n",
    "plt.axis('off')\n",
    "plt.title('Bras avant commande: top rows, '\n",
    "          'Bras apres commande: middle rows, '\n",
    "          'Reconstruction bras apres commande:  third rows')\n",
    "plt.imshow(imgs, interpolation='none', cmap='gray')\n",
    "Image.fromarray(imgs).save('reconstruction_body_image.png')\n",
    "plt.show()\n"
   ]
  },
  {
   "cell_type": "markdown",
   "metadata": {},
   "source": [
    "### Couches intermédiaires"
   ]
  },
  {
   "cell_type": "code",
   "execution_count": 32,
   "metadata": {},
   "outputs": [],
   "source": [
    "\n",
    "model = encoder  # create the original model\n",
    "\n",
    "layer_name = 'latent_fh4'\n",
    "intermediate_layer_model = Model(inputs=autoencoder.input,\n",
    "                                 outputs=model.get_layer(layer_name).output)\n",
    "intermediate_output = intermediate_layer_model.predict(train_features)\n",
    "\n"
   ]
  },
  {
   "cell_type": "markdown",
   "metadata": {},
   "source": [
    "Les synérgies motrices."
   ]
  },
  {
   "cell_type": "code",
   "execution_count": 33,
   "metadata": {},
   "outputs": [
    {
     "data": {
      "text/plain": [
       "[<matplotlib.lines.Line2D at 0x7f2668664750>]"
      ]
     },
     "execution_count": 33,
     "metadata": {},
     "output_type": "execute_result"
    },
    {
     "data": {
      "image/png": "[encoded data removed]",
      "text/plain": [
       "<Figure size 432x288 with 1 Axes>"
      ]
     },
     "metadata": {
      "needs_background": "light"
     },
     "output_type": "display_data"
    }
   ],
   "source": [
    "plt.plot(intermediate_output[0])"
   ]
  },
  {
   "cell_type": "code",
   "execution_count": 34,
   "metadata": {},
   "outputs": [
    {
     "data": {
      "text/plain": [
       "<matplotlib.image.AxesImage at 0x7f26685d71d0>"
      ]
     },
     "execution_count": 34,
     "metadata": {},
     "output_type": "execute_result"
    },
    {
     "data": {
      "image/png": "[encoded data removed]",
      "text/plain": [
       "<Figure size 432x288 with 1 Axes>"
      ]
     },
     "metadata": {
      "needs_background": "light"
     },
     "output_type": "display_data"
    }
   ],
   "source": [
    "imshow(resize(intermediate_output[0], (10,10)))"
   ]
  },
  {
   "cell_type": "code",
   "execution_count": null,
   "metadata": {},
   "outputs": [],
   "source": []
  }
 ],
 "metadata": {
  "kernelspec": {
   "display_name": "Python 2",
   "language": "python",
   "name": "python2"
  },
  "language_info": {
   "codemirror_mode": {
    "name": "ipython",
    "version": 2
   },
   "file_extension": ".py",
   "mimetype": "text/x-python",
   "name": "python",
   "nbconvert_exporter": "python",
   "pygments_lexer": "ipython2",
   "version": "2.7.15rc1"
  }
 },
 "nbformat": 4,
 "nbformat_minor": 2
}
