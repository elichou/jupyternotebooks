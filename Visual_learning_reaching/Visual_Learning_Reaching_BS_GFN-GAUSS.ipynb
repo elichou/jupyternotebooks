{
 "cells": [
  {
   "cell_type": "markdown",
   "metadata": {},
   "source": [
    "# Transformation visuelle pour reconstruction d'image corporelle"
   ]
  },
  {
   "cell_type": "markdown",
   "metadata": {},
   "source": [
    "## Objectifs\n",
    "L'objectif est d'améliorer le code de network2_01.py. \n",
    "Plusieurs pistes d'amélioration sont possibles:\n",
    "1. Utiliser un produit tensoriel plutôt qu'un produit terme à terme.\n",
    "2. Différencier la cible de la main.\n",
    "3. Intégerer tf.\n",
    "4. changer la répartition des points. \n",
    "\n",
    "Je m'inspire de l'article de Memisevic, Gradient-based learning of higher-order image features et de son code gatedAutoencoder.py."
   ]
  },
  {
   "cell_type": "markdown",
   "metadata": {},
   "source": [
    "## Imports et setup\n",
    "\n",
    "\n",
    "\n"
   ]
  },
  {
   "cell_type": "code",
   "execution_count": 36,
   "metadata": {},
   "outputs": [],
   "source": [
    "from numpy import *\n",
    "from matplotlib.pylab import *\n",
    "from mpl_toolkits.mplot3d import Axes3D\n",
    "from drawnow import *\n",
    "from skimage.draw import line, line_aa\n",
    "from scipy.ndimage import gaussian_filter\n",
    "from keras.models import Model\n",
    "from keras.layers import Activation, Dense, Input, Multiply\n",
    "from keras.layers import Conv2D, Flatten, Reshape, Conv2DTranspose\n",
    "from keras.layers import Dot, Lambda, Concatenate, RepeatVector\n",
    "from keras import backend as K\n",
    "from keras.utils import plot_model \n",
    "\n",
    "import time \n",
    "import random\n",
    "import scipy\n",
    "import math\n",
    "import cv2\n",
    "import cPickle as pickle\n",
    "\n",
    "import keras\n"
   ]
  },
  {
   "cell_type": "code",
   "execution_count": 6,
   "metadata": {},
   "outputs": [],
   "source": [
    "matplotlib.rcParams.update({'font.size':16})\n",
    "to_backup = True\n",
    "timeframe = time.strftime('%Y%m%d%H%M%S')\n",
    "L1 = 16\n",
    "L2 = 8\n",
    "L3 = 1\n",
    "\n",
    "nb_posture = 300\n",
    "nb_command = 40\n",
    "nb_joint = 3\n",
    "nb_data = nb_command*nb_posture\n",
    "img_size = 64"
   ]
  },
  {
   "cell_type": "markdown",
   "metadata": {},
   "source": [
    "## Construction de la base de données"
   ]
  },
  {
   "cell_type": "markdown",
   "metadata": {},
   "source": [
    "1. On génère n postures différentes aléatoirement, X.\n",
    "2. On génère m commandes aléatoirement, H. \n",
    "3. On applique chaque commande à chaque posture et on obtient des nouvelles postures Y."
   ]
  },
  {
   "cell_type": "markdown",
   "metadata": {},
   "source": [
    "### Génération des postures initiales"
   ]
  },
  {
   "cell_type": "code",
   "execution_count": 7,
   "metadata": {},
   "outputs": [],
   "source": [
    "def randrange(n , vmin, vmax):\n",
    "    return (vmax-vmin)*rand(n) + vmin "
   ]
  },
  {
   "cell_type": "code",
   "execution_count": 8,
   "metadata": {
    "scrolled": true
   },
   "outputs": [],
   "source": [
    "posture = zeros((nb_posture, 3))\n",
    "posture[:,0] = randrange(nb_posture, 0, pi)\n",
    "posture[:,1] = randrange(nb_posture, 0, pi)\n",
    "posture[:,2] =randrange(nb_posture, 0, pi)"
   ]
  },
  {
   "cell_type": "code",
   "execution_count": 9,
   "metadata": {},
   "outputs": [
    {
     "name": "stdout",
     "output_type": "stream",
     "text": [
      "(300, 3)\n",
      "[1.5534953  0.87705945 2.1617603 ]\n"
     ]
    }
   ],
   "source": [
    "print(shape(posture))\n",
    "print(posture[0])"
   ]
  },
  {
   "cell_type": "markdown",
   "metadata": {},
   "source": [
    "### Génération des commandes "
   ]
  },
  {
   "cell_type": "code",
   "execution_count": 10,
   "metadata": {},
   "outputs": [],
   "source": [
    "command = zeros((nb_command, 3))\n",
    "command[:,0] = randrange(nb_command, 0, 1)*0.6\n",
    "command[:,1] = randrange(nb_command, 0, 1)*0.6\n",
    "command[:,2] = randrange(nb_command, 0, 1)*0.6"
   ]
  },
  {
   "cell_type": "code",
   "execution_count": 11,
   "metadata": {},
   "outputs": [
    {
     "name": "stdout",
     "output_type": "stream",
     "text": [
      "(40, 3)\n",
      "[0.03880886 0.30816624 0.1763563 ]\n",
      "38\n"
     ]
    }
   ],
   "source": [
    "print(shape(command))\n",
    "print(command[0])\n",
    "print(randint(0,nb_command-1))"
   ]
  },
  {
   "cell_type": "markdown",
   "metadata": {},
   "source": [
    "### Génération des données d'entraînement"
   ]
  },
  {
   "cell_type": "code",
   "execution_count": 12,
   "metadata": {},
   "outputs": [],
   "source": [
    "train_data_x = zeros((nb_data, 1, 3))\n",
    "train_data_y = zeros((nb_data, 1, 3))\n",
    "train_data_h = zeros((nb_data, 1, 3))"
   ]
  },
  {
   "cell_type": "code",
   "execution_count": 13,
   "metadata": {},
   "outputs": [
    {
     "name": "stdout",
     "output_type": "stream",
     "text": [
      "[0. 0. 0.]\n",
      "(12000, 1, 3)\n"
     ]
    }
   ],
   "source": [
    "print(train_data_x[0][0])\n",
    "print(shape(train_data_x))"
   ]
  },
  {
   "cell_type": "code",
   "execution_count": 14,
   "metadata": {},
   "outputs": [],
   "source": [
    "idx = 0 \n",
    "for i in range(nb_posture):\n",
    "    for j in range(nb_command):\n",
    "        train_data_x[idx] = posture[i]\n",
    "        idx = idx + 1\n",
    "\n",
    "idx = 0 \n",
    "for i in range(nb_posture):\n",
    "    for j in range(nb_command):\n",
    "        train_data_y[idx] = posture[i]  + command[j]\n",
    "        idx = idx + 1\n",
    "        \n",
    "idx = 0 \n",
    "for i in range(nb_posture):\n",
    "    for j in range(nb_command):\n",
    "        train_data_h[idx] = command[j]\n",
    "        idx = idx + 1"
   ]
  },
  {
   "cell_type": "code",
   "execution_count": 15,
   "metadata": {},
   "outputs": [
    {
     "name": "stdout",
     "output_type": "stream",
     "text": [
      "('train_data_x 0 0 ', array([1.5534953 , 0.87705945, 2.1617603 ]))\n",
      "('train_data_h 0 0 ', array([0.03880886, 0.30816624, 0.1763563 ]))\n",
      "('train_data_y 0 0 ', array([1.59230415, 1.18522569, 2.3381166 ]))\n",
      "y = x + h\n"
     ]
    }
   ],
   "source": [
    "print('train_data_x 0 0 ', train_data_x[0][0])\n",
    "print('train_data_h 0 0 ', train_data_h[0][0])\n",
    "print('train_data_y 0 0 ', train_data_y[0][0])\n",
    "print('y = x + h')"
   ]
  },
  {
   "cell_type": "markdown",
   "metadata": {},
   "source": [
    "### Génération des images associées"
   ]
  },
  {
   "cell_type": "code",
   "execution_count": 17,
   "metadata": {},
   "outputs": [],
   "source": [
    "train_images_x = zeros((nb_data, 1, img_size, img_size ), dtype = float32)\n",
    "train_images_y = zeros((nb_data, 1, img_size, img_size ), dtype = float32)\n",
    "train_command = zeros((nb_data, 1, img_size, img_size ) , dtype = float32)"
   ]
  },
  {
   "cell_type": "markdown",
   "metadata": {},
   "source": [
    "On peut rajouter une gaussienne au bout de l'effecteur pour le mettre en évidence\n",
    "TODO"
   ]
  },
  {
   "cell_type": "code",
   "execution_count": 18,
   "metadata": {},
   "outputs": [],
   "source": [
    "def makeGaussian(size, fwhm = 3, center=None):\n",
    "    \"\"\" Make a square gaussian kernel.\n",
    "    size is the length of a side of the square\n",
    "    fwhm is full-width-half-maximum, which\n",
    "    can be thought of as an effective radius.\n",
    "    \"\"\"\n",
    "    x = arange(0, size, 1, float)\n",
    "    y = x[:,newaxis]\n",
    "    if center is None:\n",
    "        x0 = y0 = size // 2\n",
    "    else:\n",
    "        x0 = center[0]\n",
    "        y0 = center[1]    \n",
    "    return exp(-4*log(2) * ((x-x0)**2 + (y-y0)**2) / fwhm**2)\n",
    "\n"
   ]
  },
  {
   "cell_type": "code",
   "execution_count": 29,
   "metadata": {},
   "outputs": [],
   "source": [
    "for i in range(nb_data):\n",
    "    img = zeros((img_size,img_size), dtype = uint8)\n",
    "    angle = train_data_x[i][0] \n",
    "    row1, col1 = img_size//2 + int(floor(L1*sin(angle[0]))), img_size//2 + int(floor(L1*cos(angle[0])))\n",
    "    row2, col2 =  int(floor(L2*sin(angle[1]))) + row1, col1 + int(floor(L2*cos(angle[1])))\n",
    "    row3, col3 = int(floor(L3*sin(angle[2])))+ row2, col2 +  int(floor(L3*cos(angle[2])))\n",
    "    r1, c1, val1 = line_aa(img_size//2,img_size//2,row1, col1)\n",
    "    r2, c2, val2 = line_aa(row1, col1, row2, col2)\n",
    "    r3, c3, val3 = line_aa(row2, col2, row3 , col3)\n",
    "    #r1, c1 = line(img_size//2,img_size//2,row1, col1)\n",
    "    #r2, c2 = line(row1, col1, row2, col2)\n",
    "    #r3, c3 = line(row2, col2, row3 , col3)\n",
    "    img[r1,c1] = val1 *255\n",
    "    img[r2,c2] = val2 *255\n",
    "    img[r3,c3] = val3 *255\n",
    "    train_images_x[i][0] = gaussian_filter(img , sigma = 2) / 255.\n",
    "\n",
    "for i in range(nb_data):\n",
    "    img = zeros((img_size,img_size), dtype = uint8)\n",
    "    angle = train_data_y[i][0] \n",
    "    row1, col1 = img_size//2 + int(floor(L1*sin(angle[0]))), img_size//2 + int(floor(L1*cos(angle[0])))\n",
    "    row2, col2 =  int(floor(L2*sin(angle[1]))) + row1, col1 + int(floor(L2*cos(angle[1])))\n",
    "    row3, col3 = int(floor(L3*sin(angle[2])))+ row2, col2 +  int(floor(L3*cos(angle[2])))\n",
    "    r1, c1, val1 = line_aa(img_size//2,img_size//2,row1, col1)\n",
    "    r2, c2, val2 = line_aa(row1, col1, row2, col2)\n",
    "    r3, c3, val3 = line_aa(row2, col2, row3 , col3)\n",
    "    #r1, c1 = line(img_size//2,img_size//2,row1, col1)\n",
    "    #r2, c2 = line(row1, col1, row2, col2)\n",
    "    #r3, c3 = line(row2, col2, row3 , col3)\n",
    "    img[r1,c1] = val1 *255\n",
    "    img[r2,c2] = val2 *255\n",
    "    img[r3,c3] = val3 *255\n",
    "    train_images_y[i][0] =gaussian_filter(img , sigma = 2) / 255.\n",
    "    \n",
    "for i in range(nb_data):\n",
    "    img = zeros((img_size, img_size), dtype = float32)\n",
    "    img[0][0] = train_data_h[i][0][0]\n",
    "    img[0][1] = train_data_h[i][0][1]\n",
    "    img[0][2] = train_data_h[i][0][2]\n",
    "    train_command[i][0] = img"
   ]
  },
  {
   "cell_type": "code",
   "execution_count": 33,
   "metadata": {},
   "outputs": [
    {
     "name": "stdout",
     "output_type": "stream",
     "text": [
      "('taille train_images_x', (12000, 1, 64, 64))\n",
      "('taille train_images_y', (12000, 1, 64, 64))\n",
      "('taille train_features', (12000, 2, 64, 64))\n",
      "('taille train_features_command', (12000, 3, 64, 64))\n",
      "('taille train_command', (12000, 1, 64, 64))\n"
     ]
    }
   ],
   "source": [
    "print('taille train_images_x', shape(train_images_x))\n",
    "print('taille train_images_y', shape(train_images_y))\n",
    "train_features = concatenate((train_images_x, train_images_y), 1)\n",
    "train_features_command = concatenate((train_images_x, train_images_y, train_command), 1)\n",
    "print('taille train_features', shape(train_features))\n",
    "print('taille train_features_command', shape(train_features_command))\n",
    "print('taille train_command', shape(train_command))"
   ]
  },
  {
   "cell_type": "code",
   "execution_count": 30,
   "metadata": {},
   "outputs": [
    {
     "data": {
      "text/plain": [
       "array([[[0.14157923, 0.34086514, 0.5862996 , ..., 0.        ,\n",
       "         0.        , 0.        ],\n",
       "        [0.        , 0.        , 0.        , ..., 0.        ,\n",
       "         0.        , 0.        ],\n",
       "        [0.        , 0.        , 0.        , ..., 0.        ,\n",
       "         0.        , 0.        ],\n",
       "        ...,\n",
       "        [0.        , 0.        , 0.        , ..., 0.        ,\n",
       "         0.        , 0.        ],\n",
       "        [0.        , 0.        , 0.        , ..., 0.        ,\n",
       "         0.        , 0.        ],\n",
       "        [0.        , 0.        , 0.        , ..., 0.        ,\n",
       "         0.        , 0.        ]]], dtype=float32)"
      ]
     },
     "execution_count": 30,
     "metadata": {},
     "output_type": "execute_result"
    }
   ],
   "source": [
    "train_command[100]"
   ]
  },
  {
   "cell_type": "markdown",
   "metadata": {},
   "source": [
    "### Corruption des données"
   ]
  },
  {
   "cell_type": "markdown",
   "metadata": {},
   "source": [
    "TODO"
   ]
  },
  {
   "cell_type": "markdown",
   "metadata": {},
   "source": [
    "### Enregistrement des données d'entraînement"
   ]
  },
  {
   "cell_type": "code",
   "execution_count": 34,
   "metadata": {},
   "outputs": [],
   "source": [
    "pickle.dump(train_features, open(\"gen_data/train_features.p\", \"wb\"))\n",
    "pickle.dump(train_images_x, open(\"gen_data/train_images_x.p\", \"wb\"))\n",
    "pickle.dump(train_data_h, open(\"gen_data/train_data_h.p\", \"wb\"))"
   ]
  },
  {
   "cell_type": "markdown",
   "metadata": {},
   "source": [
    "### Exemples d'images"
   ]
  },
  {
   "cell_type": "code",
   "execution_count": 16,
   "metadata": {},
   "outputs": [
    {
     "data": {
      "text/plain": [
       "<matplotlib.image.AxesImage at 0x7ff157b5c490>"
      ]
     },
     "execution_count": 16,
     "metadata": {},
     "output_type": "execute_result"
    },
    {
     "data": {
      "image/png": "[encoded data removed]",
      "text/plain": [
       "<Figure size 432x288 with 1 Axes>"
      ]
     },
     "metadata": {
      "needs_background": "light"
     },
     "output_type": "display_data"
    }
   ],
   "source": [
    "imshow(train_images_x[0][0])"
   ]
  },
  {
   "cell_type": "code",
   "execution_count": 17,
   "metadata": {},
   "outputs": [
    {
     "data": {
      "text/plain": [
       "<matplotlib.image.AxesImage at 0x7ff157a74ad0>"
      ]
     },
     "execution_count": 17,
     "metadata": {},
     "output_type": "execute_result"
    },
    {
     "data": {
      "image/png": "[encoded data removed]",
      "text/plain": [
       "<Figure size 432x288 with 1 Axes>"
      ]
     },
     "metadata": {
      "needs_background": "light"
     },
     "output_type": "display_data"
    }
   ],
   "source": [
    "imshow(train_images_y[0][0])"
   ]
  },
  {
   "cell_type": "markdown",
   "metadata": {},
   "source": [
    "## Factorized Gated Field Auto-encoder"
   ]
  },
  {
   "cell_type": "markdown",
   "metadata": {},
   "source": [
    "Avant le passge dans l'autoencodeur, les images sont factorisées en passant par une couche de percpetron. De même, la couche latente est factorisée.\n",
    "Les images sont de taille (128,128), on prend pour commencer 32 neurones. \n",
    "La sortie est de taille (3,1) (trois moteurs), on prend pour commencer une factorisation de taille (32,1) (synérgies motrices)."
   ]
  },
  {
   "cell_type": "markdown",
   "metadata": {},
   "source": [
    "On a donc un encodeur, un décodeur et 3 couches de perceptrons pour les deux images et pour les commandes motrices."
   ]
  },
  {
   "cell_type": "markdown",
   "metadata": {},
   "source": [
    "On commence par construire un auto encodeur dont les entrées sont un tenseur de taille (32,1) et de sortie (32,1), pour garder la symétrie de la structure.\n"
   ]
  },
  {
   "cell_type": "markdown",
   "metadata": {},
   "source": [
    "### Création de l'encodeur "
   ]
  },
  {
   "cell_type": "code",
   "execution_count": 19,
   "metadata": {
    "scrolled": true
   },
   "outputs": [
    {
     "name": "stdout",
     "output_type": "stream",
     "text": [
      "WARNING:tensorflow:From /usr/local/lib/python2.7/dist-packages/tensorflow/python/framework/op_def_library.py:263: colocate_with (from tensorflow.python.framework.ops) is deprecated and will be removed in a future version.\n",
      "Instructions for updating:\n",
      "Colocations handled automatically by placer.\n",
      "('out taille', (None, 1, 128))\n"
     ]
    }
   ],
   "source": [
    "input_size = 128\n",
    "input_shape = (2, input_size, input_size)\n",
    "latent_dim = 64 # plus facile pour la concaténation des outputs...\n",
    "\n",
    "# on donne en entrée des pairs d'images\n",
    "inputs_xy = Input(shape = (2, img_size, img_size, ), name = 'xy')\n",
    "\n",
    "# on sépare chacune des images\n",
    "x = Lambda(lambda x: x[:,0,:,:])(inputs_xy)\n",
    "x = Reshape((1,img_size, img_size,))(x)\n",
    "\n",
    "y = Lambda(lambda x: x[:,1,:,:])(inputs_xy)\n",
    "y = Reshape((1,img_size, img_size,))(y)\n",
    "\n",
    "# on factorise chacune des images\n",
    "fx = Flatten()(x)\n",
    "fx = Dense(latent_dim, activation = 'relu', name = 'latent_fx1')(fx)\n",
    "fx = Dense(latent_dim, activation = 'relu', name = 'latent_fx2')(fx)\n",
    "fx = Dense(latent_dim, activation = 'relu', name = 'latent_fx3')(fx)\n",
    "fx = Reshape((latent_dim,1,))(fx)\n",
    "\n",
    "fy = Flatten()(y)\n",
    "fy = Dense(latent_dim, activation = 'relu', name = 'latent_fy1')(fy)\n",
    "fy = Dense(latent_dim, activation = 'relu', name = 'latent_fy2')(fy)\n",
    "fy = Dense(latent_dim, activation = 'relu', name = 'latent_fy3')(fy)\n",
    "fy = Reshape((latent_dim,1,))(fy)\n",
    "\n",
    "\n",
    "# on multiplie les deux factorisations, TODO mieux si produit tensoriel\n",
    "matmul = Multiply()([fx, fy])\n",
    "\n",
    "# on passe le tout dans une couche de perceptrons pour obtenir les synérgies motrices\n",
    "x = Flatten()(matmul)\n",
    "fh = Dense(latent_dim, name = 'latent_fh1')(x)\n",
    "fh = Dense(latent_dim, name = 'latent_fh2')(x)\n",
    "fh = Dense(latent_dim, name = 'latent_fh3')(x)\n",
    "fh = Dense(latent_dim, name = 'latent_fh4')(x)\n",
    "fh = Reshape((latent_dim,))(fh)\n",
    "\n",
    "# tricks pour pouvoir passer fx et latent en outputs\n",
    "fx = Reshape((1,latent_dim,))(fx)\n",
    "fh = Reshape((1,latent_dim,))(fh)\n",
    "#latent = Reshape((1,3,))(latent)\n",
    "\n",
    "out = Concatenate()([fx, fh])\n",
    "\n",
    "encoder = Model(inputs = inputs_xy, outputs = out, name = 'encoder')"
   ]
  },
  {
   "cell_type": "markdown",
   "metadata": {},
   "source": [
    "### Création du décodeur"
   ]
  },
  {
   "cell_type": "code",
   "execution_count": 20,
   "metadata": {
    "scrolled": true
   },
   "outputs": [],
   "source": [
    "latent_inputs = Input(shape = (1,2*latent_dim,), name = 'decoder_input')\n",
    "\n",
    "# on déballe la factorisation en x\n",
    "fxdec = Lambda(lambda x: x[:,:,:latent_dim])(latent_inputs)\n",
    "fxdec = Reshape((latent_dim,1,))(fxdec)\n",
    "\n",
    "# on déballe les synérgies motrices\n",
    "inp = Lambda(lambda x: x[:,:,latent_dim:])(latent_inputs)\n",
    "inp = Reshape((latent_dim,))(inp)\n",
    "\n",
    "# on fait passer les synérgies motrices dans la couche de perceptrons\n",
    "fhdec = Dense(latent_dim, name='latent_fhdec1')(inp)\n",
    "fhdec = Dense(latent_dim, name='latent_fhdec2')(fhdec)\n",
    "fhdec = Dense(latent_dim, name='latent_fhdec3')(fhdec)\n",
    "\n",
    "fhdec = Reshape((latent_dim,1,))(fhdec)\n",
    "\n",
    "# on mutliplie les deux représentations\n",
    "matmuldec = Multiply()([fxdec, fhdec])\n",
    "matmuldec = Reshape((latent_dim,))(matmuldec)\n",
    "\n",
    "# on en déduit une factorisation \n",
    "fydec = Dense(latent_dim, name = 'latent_fydec1')(matmuldec)\n",
    "fydec = Dense(latent_dim, name = 'latent_fydec2')(fydec)\n",
    "fydec = Dense(latent_dim, name = 'latent_fydec3')(fydec)\n",
    "# on déduit l'image de départ de cette factorisation\n",
    "ydec = Dense(img_size*img_size, activation = 'relu', name = 'y_recon')(fydec)\n",
    "ydec = Reshape((1,img_size, img_size,))(ydec)\n",
    "\n",
    "\n",
    "decoder = Model(latent_inputs, outputs= ydec, name='decoder')"
   ]
  },
  {
   "cell_type": "markdown",
   "metadata": {},
   "source": [
    "### Création de l'auto-encodeur"
   ]
  },
  {
   "cell_type": "code",
   "execution_count": 21,
   "metadata": {
    "scrolled": true
   },
   "outputs": [
    {
     "name": "stdout",
     "output_type": "stream",
     "text": [
      "_________________________________________________________________\n",
      "Layer (type)                 Output Shape              Param #   \n",
      "=================================================================\n",
      "xy (InputLayer)              (None, 2, 64, 64)         0         \n",
      "_________________________________________________________________\n",
      "encoder (Model)              (None, 1, 128)            545216    \n",
      "_________________________________________________________________\n",
      "decoder (Model)              (None, 1, 64, 64)         291200    \n",
      "=================================================================\n",
      "Total params: 836,416\n",
      "Trainable params: 836,416\n",
      "Non-trainable params: 0\n",
      "_________________________________________________________________\n"
     ]
    }
   ],
   "source": [
    "autoencoder = Model(inputs_xy, decoder(encoder(inputs_xy)), name = \"autoencoder\")\n",
    "autoencoder.summary()"
   ]
  },
  {
   "cell_type": "markdown",
   "metadata": {},
   "source": [
    "On enregistre des figures."
   ]
  },
  {
   "cell_type": "code",
   "execution_count": 22,
   "metadata": {},
   "outputs": [],
   "source": [
    "plot_model(encoder, to_file='encoder.png')\n",
    "plot_model(decoder, to_file = 'decoder.png')\n",
    "plot_model(autoencoder, to_file = 'auto_encoder.png')"
   ]
  },
  {
   "cell_type": "code",
   "execution_count": 49,
   "metadata": {},
   "outputs": [
    {
     "name": "stdout",
     "output_type": "stream",
     "text": [
      "_________________________________________________________________\n",
      "Layer (type)                 Output Shape              Param #   \n",
      "=================================================================\n",
      "xy (InputLayer)              (None, 3, 64, 64)         0         \n",
      "_________________________________________________________________\n",
      "encoder_alt (Model)          (None, 1, 128)            172288    \n",
      "_________________________________________________________________\n",
      "decoder_alt (Model)          (None, 1, 64, 64)         311520    \n",
      "=================================================================\n",
      "Total params: 483,808\n",
      "Trainable params: 483,808\n",
      "Non-trainable params: 0\n",
      "_________________________________________________________________\n"
     ]
    }
   ],
   "source": [
    "autoencoder_alt = Model(inputs_xy, decoder_alt(encoder_alt(inputs_xy)), name = \"autoencoder_alt\")\n",
    "autoencoder_alt.summary()"
   ]
  },
  {
   "cell_type": "markdown",
   "metadata": {},
   "source": [
    "## Entraînement de l'autoencodeur"
   ]
  },
  {
   "cell_type": "markdown",
   "metadata": {},
   "source": [
    "On entraîne le modèle sur des pairs d'images.\n",
    "On utilise une descente de gradient stochastique. \n",
    "edit: la descente de gradient stochastique n'est pas adapté ici.\n",
    "adam fonctionne bien mieux."
   ]
  },
  {
   "cell_type": "code",
   "execution_count": 26,
   "metadata": {
    "scrolled": true
   },
   "outputs": [
    {
     "name": "stdout",
     "output_type": "stream",
     "text": [
      "WARNING:tensorflow:From /usr/local/lib/python2.7/dist-packages/tensorflow/python/ops/math_ops.py:3066: to_int32 (from tensorflow.python.ops.math_ops) is deprecated and will be removed in a future version.\n",
      "Instructions for updating:\n",
      "Use tf.cast instead.\n",
      "Train on 9600 samples, validate on 2400 samples\n",
      "Epoch 1/100\n",
      "9600/9600 [==============================] - 5s 548us/step - loss: 3.8648e-04 - kullback_leibler_divergence: 0.8504 - acc: 0.3150 - val_loss: 1.5444e-04 - val_kullback_leibler_divergence: 0.5139 - val_acc: 0.5784\n",
      "Epoch 2/100\n",
      "9600/9600 [==============================] - 5s 482us/step - loss: 1.2100e-04 - kullback_leibler_divergence: 0.5237 - acc: 0.6753 - val_loss: 1.1211e-04 - val_kullback_leibler_divergence: 0.5168 - val_acc: 0.6987\n",
      "Epoch 3/100\n",
      "9600/9600 [==============================] - 5s 485us/step - loss: 9.3525e-05 - kullback_leibler_divergence: 0.4958 - acc: 0.7297 - val_loss: 8.3217e-05 - val_kullback_leibler_divergence: 0.4838 - val_acc: 0.7419\n",
      "Epoch 4/100\n",
      "9600/9600 [==============================] - 5s 474us/step - loss: 7.1905e-05 - kullback_leibler_divergence: 0.4552 - acc: 0.7638 - val_loss: 6.8622e-05 - val_kullback_leibler_divergence: 0.4542 - val_acc: 0.7808\n",
      "Epoch 5/100\n",
      "9600/9600 [==============================] - 5s 484us/step - loss: 6.2390e-05 - kullback_leibler_divergence: 0.4311 - acc: 0.7926 - val_loss: 6.0520e-05 - val_kullback_leibler_divergence: 0.4270 - val_acc: 0.7997\n",
      "Epoch 6/100\n",
      "9600/9600 [==============================] - 5s 476us/step - loss: 5.8053e-05 - kullback_leibler_divergence: 0.4189 - acc: 0.8069 - val_loss: 5.5885e-05 - val_kullback_leibler_divergence: 0.4198 - val_acc: 0.8071\n",
      "Epoch 7/100\n",
      "9600/9600 [==============================] - 5s 485us/step - loss: 5.4864e-05 - kullback_leibler_divergence: 0.4116 - acc: 0.8176 - val_loss: 5.5695e-05 - val_kullback_leibler_divergence: 0.4142 - val_acc: 0.8064\n",
      "Epoch 8/100\n",
      "9600/9600 [==============================] - 5s 471us/step - loss: 5.2611e-05 - kullback_leibler_divergence: 0.4049 - acc: 0.8261 - val_loss: 5.9150e-05 - val_kullback_leibler_divergence: 0.4051 - val_acc: 0.8082\n",
      "Epoch 9/100\n",
      "9600/9600 [==============================] - 4s 468us/step - loss: 5.1482e-05 - kullback_leibler_divergence: 0.3994 - acc: 0.8311 - val_loss: 5.1037e-05 - val_kullback_leibler_divergence: 0.4010 - val_acc: 0.8254\n",
      "Epoch 10/100\n",
      "9600/9600 [==============================] - 4s 468us/step - loss: 5.0187e-05 - kullback_leibler_divergence: 0.3925 - acc: 0.8344 - val_loss: 5.0657e-05 - val_kullback_leibler_divergence: 0.3806 - val_acc: 0.8269\n",
      "Epoch 11/100\n",
      "9600/9600 [==============================] - 4s 468us/step - loss: 4.8944e-05 - kullback_leibler_divergence: 0.3866 - acc: 0.8386 - val_loss: 4.8397e-05 - val_kullback_leibler_divergence: 0.3903 - val_acc: 0.8379\n",
      "Epoch 12/100\n",
      "9600/9600 [==============================] - 4s 468us/step - loss: 4.7249e-05 - kullback_leibler_divergence: 0.3790 - acc: 0.8428 - val_loss: 4.9078e-05 - val_kullback_leibler_divergence: 0.3771 - val_acc: 0.8353\n",
      "Epoch 13/100\n",
      "9600/9600 [==============================] - 4s 469us/step - loss: 4.5666e-05 - kullback_leibler_divergence: 0.3724 - acc: 0.8474 - val_loss: 4.7516e-05 - val_kullback_leibler_divergence: 0.3668 - val_acc: 0.8270\n",
      "Epoch 14/100\n",
      "9600/9600 [==============================] - 4s 467us/step - loss: 4.3605e-05 - kullback_leibler_divergence: 0.3590 - acc: 0.8493 - val_loss: 4.5540e-05 - val_kullback_leibler_divergence: 0.3626 - val_acc: 0.8402\n",
      "Epoch 15/100\n",
      "9600/9600 [==============================] - 5s 476us/step - loss: 4.2704e-05 - kullback_leibler_divergence: 0.3540 - acc: 0.8517 - val_loss: 4.3415e-05 - val_kullback_leibler_divergence: 0.3509 - val_acc: 0.8442\n",
      "Epoch 16/100\n",
      "9600/9600 [==============================] - 4s 466us/step - loss: 4.2428e-05 - kullback_leibler_divergence: 0.3519 - acc: 0.8535 - val_loss: 4.3315e-05 - val_kullback_leibler_divergence: 0.3627 - val_acc: 0.8545\n",
      "Epoch 17/100\n",
      "9600/9600 [==============================] - 4s 466us/step - loss: 4.1766e-05 - kullback_leibler_divergence: 0.3483 - acc: 0.8553 - val_loss: 4.2699e-05 - val_kullback_leibler_divergence: 0.3536 - val_acc: 0.8472\n",
      "Epoch 18/100\n",
      "9600/9600 [==============================] - 5s 480us/step - loss: 4.1440e-05 - kullback_leibler_divergence: 0.3451 - acc: 0.8562 - val_loss: 4.2172e-05 - val_kullback_leibler_divergence: 0.3526 - val_acc: 0.8530\n",
      "Epoch 19/100\n",
      "9600/9600 [==============================] - 5s 507us/step - loss: 4.0987e-05 - kullback_leibler_divergence: 0.3428 - acc: 0.8581 - val_loss: 4.3000e-05 - val_kullback_leibler_divergence: 0.3464 - val_acc: 0.8428\n",
      "Epoch 20/100\n",
      "9600/9600 [==============================] - 5s 503us/step - loss: 4.1219e-05 - kullback_leibler_divergence: 0.3406 - acc: 0.8570 - val_loss: 4.2126e-05 - val_kullback_leibler_divergence: 0.3503 - val_acc: 0.8530\n",
      "Epoch 21/100\n",
      "9600/9600 [==============================] - 5s 476us/step - loss: 4.0921e-05 - kullback_leibler_divergence: 0.3384 - acc: 0.8588 - val_loss: 4.1036e-05 - val_kullback_leibler_divergence: 0.3469 - val_acc: 0.8527\n",
      "Epoch 22/100\n",
      "9600/9600 [==============================] - 5s 475us/step - loss: 3.9866e-05 - kullback_leibler_divergence: 0.3360 - acc: 0.8629 - val_loss: 4.1684e-05 - val_kullback_leibler_divergence: 0.3407 - val_acc: 0.8471\n",
      "Epoch 23/100\n",
      "9600/9600 [==============================] - 5s 492us/step - loss: 3.9997e-05 - kullback_leibler_divergence: 0.3344 - acc: 0.8629 - val_loss: 4.1580e-05 - val_kullback_leibler_divergence: 0.3379 - val_acc: 0.8474\n",
      "Epoch 24/100\n",
      "9600/9600 [==============================] - 5s 475us/step - loss: 3.9696e-05 - kullback_leibler_divergence: 0.3332 - acc: 0.8641 - val_loss: 4.1407e-05 - val_kullback_leibler_divergence: 0.3419 - val_acc: 0.8620\n",
      "Epoch 25/100\n",
      "9600/9600 [==============================] - 5s 478us/step - loss: 3.9431e-05 - kullback_leibler_divergence: 0.3313 - acc: 0.8654 - val_loss: 4.0835e-05 - val_kullback_leibler_divergence: 0.3362 - val_acc: 0.8549\n",
      "Epoch 26/100\n",
      "9600/9600 [==============================] - 5s 470us/step - loss: 3.9651e-05 - kullback_leibler_divergence: 0.3307 - acc: 0.8640 - val_loss: 4.1050e-05 - val_kullback_leibler_divergence: 0.3305 - val_acc: 0.8533\n",
      "Epoch 27/100\n",
      "9600/9600 [==============================] - 5s 476us/step - loss: 3.9600e-05 - kullback_leibler_divergence: 0.3296 - acc: 0.8642 - val_loss: 3.9926e-05 - val_kullback_leibler_divergence: 0.3381 - val_acc: 0.8583\n",
      "Epoch 28/100\n",
      "9600/9600 [==============================] - 5s 474us/step - loss: 3.9358e-05 - kullback_leibler_divergence: 0.3278 - acc: 0.8653 - val_loss: 4.0474e-05 - val_kullback_leibler_divergence: 0.3384 - val_acc: 0.8612\n",
      "Epoch 29/100\n",
      "9600/9600 [==============================] - 5s 478us/step - loss: 3.9032e-05 - kullback_leibler_divergence: 0.3265 - acc: 0.8676 - val_loss: 4.0343e-05 - val_kullback_leibler_divergence: 0.3292 - val_acc: 0.8573\n",
      "Epoch 30/100\n",
      "9600/9600 [==============================] - 5s 474us/step - loss: 3.8970e-05 - kullback_leibler_divergence: 0.3250 - acc: 0.8674 - val_loss: 3.9475e-05 - val_kullback_leibler_divergence: 0.3288 - val_acc: 0.8599\n",
      "Epoch 31/100\n",
      "9600/9600 [==============================] - 5s 476us/step - loss: 3.8464e-05 - kullback_leibler_divergence: 0.3235 - acc: 0.8698 - val_loss: 3.9327e-05 - val_kullback_leibler_divergence: 0.3235 - val_acc: 0.8618\n",
      "Epoch 32/100\n",
      "9600/9600 [==============================] - 5s 475us/step - loss: 3.8368e-05 - kullback_leibler_divergence: 0.3227 - acc: 0.8698 - val_loss: 4.0151e-05 - val_kullback_leibler_divergence: 0.3318 - val_acc: 0.8585\n",
      "Epoch 33/100\n",
      "9600/9600 [==============================] - 5s 475us/step - loss: 3.8109e-05 - kullback_leibler_divergence: 0.3214 - acc: 0.8711 - val_loss: 3.9445e-05 - val_kullback_leibler_divergence: 0.3257 - val_acc: 0.8557\n",
      "Epoch 34/100\n",
      "9600/9600 [==============================] - 5s 478us/step - loss: 3.8394e-05 - kullback_leibler_divergence: 0.3209 - acc: 0.8697 - val_loss: 3.8966e-05 - val_kullback_leibler_divergence: 0.3292 - val_acc: 0.8655\n",
      "Epoch 35/100\n",
      "9600/9600 [==============================] - 5s 475us/step - loss: 3.7913e-05 - kullback_leibler_divergence: 0.3183 - acc: 0.8713 - val_loss: 3.8081e-05 - val_kullback_leibler_divergence: 0.3227 - val_acc: 0.8586\n"
     ]
    },
    {
     "name": "stdout",
     "output_type": "stream",
     "text": [
      "Epoch 36/100\n",
      "9600/9600 [==============================] - 4s 468us/step - loss: 3.7372e-05 - kullback_leibler_divergence: 0.3139 - acc: 0.8708 - val_loss: 3.8484e-05 - val_kullback_leibler_divergence: 0.3112 - val_acc: 0.8527\n",
      "Epoch 37/100\n",
      "9600/9600 [==============================] - 5s 471us/step - loss: 3.7569e-05 - kullback_leibler_divergence: 0.3124 - acc: 0.8699 - val_loss: 3.7854e-05 - val_kullback_leibler_divergence: 0.3200 - val_acc: 0.8626\n",
      "Epoch 38/100\n",
      "9600/9600 [==============================] - 5s 469us/step - loss: 3.6808e-05 - kullback_leibler_divergence: 0.3107 - acc: 0.8737 - val_loss: 3.8919e-05 - val_kullback_leibler_divergence: 0.3087 - val_acc: 0.8617\n",
      "Epoch 39/100\n",
      "9600/9600 [==============================] - 4s 467us/step - loss: 3.6857e-05 - kullback_leibler_divergence: 0.3099 - acc: 0.8728 - val_loss: 3.7370e-05 - val_kullback_leibler_divergence: 0.3194 - val_acc: 0.8643\n",
      "Epoch 40/100\n",
      "9600/9600 [==============================] - 4s 464us/step - loss: 3.6774e-05 - kullback_leibler_divergence: 0.3090 - acc: 0.8733 - val_loss: 3.8068e-05 - val_kullback_leibler_divergence: 0.3042 - val_acc: 0.8616\n",
      "Epoch 41/100\n",
      "9600/9600 [==============================] - 4s 468us/step - loss: 3.6847e-05 - kullback_leibler_divergence: 0.3087 - acc: 0.8730 - val_loss: 3.7449e-05 - val_kullback_leibler_divergence: 0.3138 - val_acc: 0.8651\n",
      "Epoch 42/100\n",
      "9600/9600 [==============================] - 4s 466us/step - loss: 3.6620e-05 - kullback_leibler_divergence: 0.3071 - acc: 0.8736 - val_loss: 3.7200e-05 - val_kullback_leibler_divergence: 0.3098 - val_acc: 0.8653\n",
      "Epoch 43/100\n",
      "9600/9600 [==============================] - 5s 469us/step - loss: 3.6579e-05 - kullback_leibler_divergence: 0.3061 - acc: 0.8738 - val_loss: 3.7082e-05 - val_kullback_leibler_divergence: 0.3124 - val_acc: 0.8681\n",
      "Epoch 44/100\n",
      "9600/9600 [==============================] - 5s 469us/step - loss: 3.6269e-05 - kullback_leibler_divergence: 0.3048 - acc: 0.8755 - val_loss: 3.7105e-05 - val_kullback_leibler_divergence: 0.3115 - val_acc: 0.8678\n",
      "Epoch 45/100\n",
      "9600/9600 [==============================] - 5s 469us/step - loss: 3.6169e-05 - kullback_leibler_divergence: 0.3040 - acc: 0.8757 - val_loss: 3.7336e-05 - val_kullback_leibler_divergence: 0.3058 - val_acc: 0.8620\n",
      "Epoch 46/100\n",
      "9600/9600 [==============================] - 4s 468us/step - loss: 3.6337e-05 - kullback_leibler_divergence: 0.3039 - acc: 0.8746 - val_loss: 3.7911e-05 - val_kullback_leibler_divergence: 0.3027 - val_acc: 0.8609\n",
      "Epoch 47/100\n",
      "9600/9600 [==============================] - 4s 468us/step - loss: 3.6551e-05 - kullback_leibler_divergence: 0.3038 - acc: 0.8744 - val_loss: 3.6850e-05 - val_kullback_leibler_divergence: 0.3016 - val_acc: 0.8625\n",
      "Epoch 48/100\n",
      "9600/9600 [==============================] - 5s 471us/step - loss: 3.5960e-05 - kullback_leibler_divergence: 0.3021 - acc: 0.8775 - val_loss: 3.7017e-05 - val_kullback_leibler_divergence: 0.3095 - val_acc: 0.8636\n",
      "Epoch 49/100\n",
      "9600/9600 [==============================] - 4s 468us/step - loss: 3.6041e-05 - kullback_leibler_divergence: 0.3019 - acc: 0.8766 - val_loss: 3.7137e-05 - val_kullback_leibler_divergence: 0.3144 - val_acc: 0.8721\n",
      "Epoch 50/100\n",
      "9600/9600 [==============================] - 4s 466us/step - loss: 3.6060e-05 - kullback_leibler_divergence: 0.3016 - acc: 0.8762 - val_loss: 3.7513e-05 - val_kullback_leibler_divergence: 0.3047 - val_acc: 0.8690\n",
      "Epoch 51/100\n",
      "9600/9600 [==============================] - 5s 473us/step - loss: 3.5768e-05 - kullback_leibler_divergence: 0.3002 - acc: 0.8775 - val_loss: 3.6285e-05 - val_kullback_leibler_divergence: 0.3050 - val_acc: 0.8701\n",
      "Epoch 52/100\n",
      "9600/9600 [==============================] - 5s 470us/step - loss: 3.5545e-05 - kullback_leibler_divergence: 0.2985 - acc: 0.8786 - val_loss: 3.7065e-05 - val_kullback_leibler_divergence: 0.2989 - val_acc: 0.8652\n",
      "Epoch 53/100\n",
      "9600/9600 [==============================] - 5s 470us/step - loss: 3.5733e-05 - kullback_leibler_divergence: 0.2985 - acc: 0.8774 - val_loss: 4.0372e-05 - val_kullback_leibler_divergence: 0.3251 - val_acc: 0.8651\n",
      "Epoch 54/100\n",
      "9600/9600 [==============================] - 4s 467us/step - loss: 3.5735e-05 - kullback_leibler_divergence: 0.2982 - acc: 0.8779 - val_loss: 3.6086e-05 - val_kullback_leibler_divergence: 0.3029 - val_acc: 0.8733\n",
      "Epoch 55/100\n",
      "9600/9600 [==============================] - 4s 467us/step - loss: 3.5626e-05 - kullback_leibler_divergence: 0.2973 - acc: 0.8777 - val_loss: 3.6209e-05 - val_kullback_leibler_divergence: 0.2994 - val_acc: 0.8677\n",
      "Epoch 56/100\n",
      "9600/9600 [==============================] - 5s 470us/step - loss: 3.5366e-05 - kullback_leibler_divergence: 0.2960 - acc: 0.8785 - val_loss: 3.7592e-05 - val_kullback_leibler_divergence: 0.3110 - val_acc: 0.8704\n",
      "Epoch 57/100\n",
      "9600/9600 [==============================] - 5s 470us/step - loss: 3.5431e-05 - kullback_leibler_divergence: 0.2960 - acc: 0.8782 - val_loss: 3.5788e-05 - val_kullback_leibler_divergence: 0.2993 - val_acc: 0.8742\n",
      "Epoch 58/100\n",
      "9600/9600 [==============================] - 5s 469us/step - loss: 3.5099e-05 - kullback_leibler_divergence: 0.2948 - acc: 0.8801 - val_loss: 3.5784e-05 - val_kullback_leibler_divergence: 0.3006 - val_acc: 0.8718\n",
      "Epoch 59/100\n",
      "9600/9600 [==============================] - 5s 469us/step - loss: 3.5370e-05 - kullback_leibler_divergence: 0.2951 - acc: 0.8793 - val_loss: 3.5986e-05 - val_kullback_leibler_divergence: 0.2978 - val_acc: 0.8770\n",
      "Epoch 60/100\n",
      "9600/9600 [==============================] - 5s 470us/step - loss: 3.5180e-05 - kullback_leibler_divergence: 0.2944 - acc: 0.8798 - val_loss: 3.5774e-05 - val_kullback_leibler_divergence: 0.2966 - val_acc: 0.8693\n",
      "Epoch 61/100\n",
      "9600/9600 [==============================] - 5s 476us/step - loss: 3.5496e-05 - kullback_leibler_divergence: 0.2948 - acc: 0.8782 - val_loss: 3.5834e-05 - val_kullback_leibler_divergence: 0.2999 - val_acc: 0.8722\n",
      "Epoch 62/100\n",
      "9600/9600 [==============================] - 5s 471us/step - loss: 3.5056e-05 - kullback_leibler_divergence: 0.2936 - acc: 0.8807 - val_loss: 3.5820e-05 - val_kullback_leibler_divergence: 0.2982 - val_acc: 0.8763\n",
      "Epoch 63/100\n",
      "9600/9600 [==============================] - 4s 469us/step - loss: 3.4797e-05 - kullback_leibler_divergence: 0.2901 - acc: 0.8797 - val_loss: 3.4416e-05 - val_kullback_leibler_divergence: 0.2897 - val_acc: 0.8735\n",
      "Epoch 64/100\n",
      "9600/9600 [==============================] - 4s 468us/step - loss: 3.4081e-05 - kullback_leibler_divergence: 0.2864 - acc: 0.8812 - val_loss: 3.4678e-05 - val_kullback_leibler_divergence: 0.2913 - val_acc: 0.8719\n",
      "Epoch 65/100\n",
      "9600/9600 [==============================] - 4s 467us/step - loss: 3.3914e-05 - kullback_leibler_divergence: 0.2858 - acc: 0.8815 - val_loss: 3.4537e-05 - val_kullback_leibler_divergence: 0.2927 - val_acc: 0.8774\n",
      "Epoch 66/100\n",
      "9600/9600 [==============================] - 5s 469us/step - loss: 3.3992e-05 - kullback_leibler_divergence: 0.2855 - acc: 0.8821 - val_loss: 3.4894e-05 - val_kullback_leibler_divergence: 0.2888 - val_acc: 0.8748\n",
      "Epoch 67/100\n",
      "9600/9600 [==============================] - 4s 468us/step - loss: 3.4001e-05 - kullback_leibler_divergence: 0.2853 - acc: 0.8816 - val_loss: 3.5225e-05 - val_kullback_leibler_divergence: 0.2901 - val_acc: 0.8739\n",
      "Epoch 68/100\n",
      "9600/9600 [==============================] - 5s 469us/step - loss: 3.4044e-05 - kullback_leibler_divergence: 0.2852 - acc: 0.8810 - val_loss: 3.4496e-05 - val_kullback_leibler_divergence: 0.2942 - val_acc: 0.8800\n",
      "Epoch 69/100\n",
      "9600/9600 [==============================] - 4s 468us/step - loss: 3.3837e-05 - kullback_leibler_divergence: 0.2837 - acc: 0.8812 - val_loss: 3.4032e-05 - val_kullback_leibler_divergence: 0.2839 - val_acc: 0.8739\n",
      "Epoch 70/100\n",
      "9600/9600 [==============================] - 5s 470us/step - loss: 3.3591e-05 - kullback_leibler_divergence: 0.2810 - acc: 0.8800 - val_loss: 3.3719e-05 - val_kullback_leibler_divergence: 0.2854 - val_acc: 0.8771\n",
      "Epoch 71/100\n",
      "9600/9600 [==============================] - 5s 476us/step - loss: 3.3202e-05 - kullback_leibler_divergence: 0.2797 - acc: 0.8825 - val_loss: 3.3585e-05 - val_kullback_leibler_divergence: 0.2854 - val_acc: 0.8747\n",
      "Epoch 72/100\n",
      "9600/9600 [==============================] - 5s 470us/step - loss: 3.3114e-05 - kullback_leibler_divergence: 0.2790 - acc: 0.8832 - val_loss: 3.4249e-05 - val_kullback_leibler_divergence: 0.2886 - val_acc: 0.8738\n",
      "Epoch 73/100\n",
      "9600/9600 [==============================] - 4s 468us/step - loss: 3.3433e-05 - kullback_leibler_divergence: 0.2797 - acc: 0.8814 - val_loss: 3.3997e-05 - val_kullback_leibler_divergence: 0.2839 - val_acc: 0.8720\n",
      "Epoch 74/100\n",
      "9600/9600 [==============================] - 4s 469us/step - loss: 3.3027e-05 - kullback_leibler_divergence: 0.2783 - acc: 0.8837 - val_loss: 3.3676e-05 - val_kullback_leibler_divergence: 0.2804 - val_acc: 0.8791\n",
      "Epoch 75/100\n",
      "9600/9600 [==============================] - 5s 470us/step - loss: 3.3354e-05 - kullback_leibler_divergence: 0.2788 - acc: 0.8816 - val_loss: 3.3714e-05 - val_kullback_leibler_divergence: 0.2801 - val_acc: 0.8758\n",
      "Epoch 76/100\n",
      "9600/9600 [==============================] - 4s 467us/step - loss: 3.3202e-05 - kullback_leibler_divergence: 0.2782 - acc: 0.8827 - val_loss: 3.3999e-05 - val_kullback_leibler_divergence: 0.2878 - val_acc: 0.8715\n",
      "Epoch 77/100\n",
      "9600/9600 [==============================] - 5s 470us/step - loss: 3.3118e-05 - kullback_leibler_divergence: 0.2777 - acc: 0.8831 - val_loss: 3.3432e-05 - val_kullback_leibler_divergence: 0.2782 - val_acc: 0.8784\n",
      "Epoch 78/100\n",
      "9600/9600 [==============================] - 4s 468us/step - loss: 3.2969e-05 - kullback_leibler_divergence: 0.2770 - acc: 0.8843 - val_loss: 3.3769e-05 - val_kullback_leibler_divergence: 0.2828 - val_acc: 0.8769\n",
      "Epoch 79/100\n",
      "9600/9600 [==============================] - 4s 467us/step - loss: 3.2085e-05 - kullback_leibler_divergence: 0.2699 - acc: 0.8834 - val_loss: 3.2313e-05 - val_kullback_leibler_divergence: 0.2710 - val_acc: 0.8751\n",
      "Epoch 80/100\n",
      "9600/9600 [==============================] - 5s 470us/step - loss: 3.1721e-05 - kullback_leibler_divergence: 0.2678 - acc: 0.8842 - val_loss: 3.2272e-05 - val_kullback_leibler_divergence: 0.2706 - val_acc: 0.8795\n",
      "Epoch 81/100\n",
      "9600/9600 [==============================] - 5s 471us/step - loss: 3.1593e-05 - kullback_leibler_divergence: 0.2671 - acc: 0.8843 - val_loss: 3.2318e-05 - val_kullback_leibler_divergence: 0.2714 - val_acc: 0.8809\n",
      "Epoch 82/100\n",
      "9600/9600 [==============================] - 5s 470us/step - loss: 3.1661e-05 - kullback_leibler_divergence: 0.2670 - acc: 0.8843 - val_loss: 3.2868e-05 - val_kullback_leibler_divergence: 0.2817 - val_acc: 0.8794\n",
      "Epoch 83/100\n",
      "9600/9600 [==============================] - 5s 496us/step - loss: 3.1392e-05 - kullback_leibler_divergence: 0.2663 - acc: 0.8856 - val_loss: 3.1932e-05 - val_kullback_leibler_divergence: 0.2692 - val_acc: 0.8828\n",
      "Epoch 84/100\n",
      "9600/9600 [==============================] - 5s 494us/step - loss: 3.1682e-05 - kullback_leibler_divergence: 0.2667 - acc: 0.8840 - val_loss: 3.2200e-05 - val_kullback_leibler_divergence: 0.2710 - val_acc: 0.8725\n",
      "Epoch 85/100\n",
      "9600/9600 [==============================] - 5s 482us/step - loss: 3.1377e-05 - kullback_leibler_divergence: 0.2655 - acc: 0.8856 - val_loss: 3.1987e-05 - val_kullback_leibler_divergence: 0.2704 - val_acc: 0.8784\n",
      "Epoch 86/100\n",
      "9600/9600 [==============================] - 5s 479us/step - loss: 3.1530e-05 - kullback_leibler_divergence: 0.2657 - acc: 0.8851 - val_loss: 3.2007e-05 - val_kullback_leibler_divergence: 0.2724 - val_acc: 0.8789\n",
      "Epoch 87/100\n",
      "9600/9600 [==============================] - 5s 479us/step - loss: 3.1379e-05 - kullback_leibler_divergence: 0.2651 - acc: 0.8861 - val_loss: 3.2370e-05 - val_kullback_leibler_divergence: 0.2682 - val_acc: 0.8733\n",
      "Epoch 88/100\n",
      "9600/9600 [==============================] - 5s 478us/step - loss: 3.1401e-05 - kullback_leibler_divergence: 0.2649 - acc: 0.8857 - val_loss: 3.2134e-05 - val_kullback_leibler_divergence: 0.2731 - val_acc: 0.8799\n",
      "Epoch 89/100\n",
      "9600/9600 [==============================] - 5s 476us/step - loss: 3.1448e-05 - kullback_leibler_divergence: 0.2649 - acc: 0.8851 - val_loss: 3.2749e-05 - val_kullback_leibler_divergence: 0.2801 - val_acc: 0.8770\n",
      "Epoch 90/100\n",
      "9600/9600 [==============================] - 5s 478us/step - loss: 3.1719e-05 - kullback_leibler_divergence: 0.2655 - acc: 0.8840 - val_loss: 3.2272e-05 - val_kullback_leibler_divergence: 0.2730 - val_acc: 0.8761\n",
      "Epoch 91/100\n",
      "9600/9600 [==============================] - 5s 473us/step - loss: 3.1204e-05 - kullback_leibler_divergence: 0.2637 - acc: 0.8869 - val_loss: 3.1828e-05 - val_kullback_leibler_divergence: 0.2715 - val_acc: 0.8836\n",
      "Epoch 92/100\n",
      "9600/9600 [==============================] - 5s 473us/step - loss: 3.1225e-05 - kullback_leibler_divergence: 0.2637 - acc: 0.8868 - val_loss: 3.1939e-05 - val_kullback_leibler_divergence: 0.2720 - val_acc: 0.8791\n",
      "Epoch 93/100\n",
      "9600/9600 [==============================] - 5s 474us/step - loss: 3.1274e-05 - kullback_leibler_divergence: 0.2636 - acc: 0.8866 - val_loss: 3.2097e-05 - val_kullback_leibler_divergence: 0.2663 - val_acc: 0.8824\n",
      "Epoch 94/100\n",
      "9600/9600 [==============================] - 5s 474us/step - loss: 3.1494e-05 - kullback_leibler_divergence: 0.2640 - acc: 0.8854 - val_loss: 3.2079e-05 - val_kullback_leibler_divergence: 0.2693 - val_acc: 0.8770\n",
      "Epoch 95/100\n",
      "9600/9600 [==============================] - 5s 473us/step - loss: 3.1335e-05 - kullback_leibler_divergence: 0.2634 - acc: 0.8865 - val_loss: 3.2581e-05 - val_kullback_leibler_divergence: 0.2660 - val_acc: 0.8804\n",
      "Epoch 96/100\n",
      "9600/9600 [==============================] - 5s 474us/step - loss: 3.1418e-05 - kullback_leibler_divergence: 0.2634 - acc: 0.8855 - val_loss: 3.1860e-05 - val_kullback_leibler_divergence: 0.2706 - val_acc: 0.8823\n",
      "Epoch 97/100\n",
      "9600/9600 [==============================] - 5s 475us/step - loss: 3.1277e-05 - kullback_leibler_divergence: 0.2628 - acc: 0.8866 - val_loss: 3.1977e-05 - val_kullback_leibler_divergence: 0.2680 - val_acc: 0.8776\n",
      "Epoch 98/100\n",
      "9600/9600 [==============================] - 5s 478us/step - loss: 3.1239e-05 - kullback_leibler_divergence: 0.2626 - acc: 0.8868 - val_loss: 3.2181e-05 - val_kullback_leibler_divergence: 0.2721 - val_acc: 0.8844\n",
      "Epoch 99/100\n",
      "9600/9600 [==============================] - 5s 476us/step - loss: 3.1229e-05 - kullback_leibler_divergence: 0.2624 - acc: 0.8868 - val_loss: 3.1925e-05 - val_kullback_leibler_divergence: 0.2676 - val_acc: 0.8854\n",
      "Epoch 100/100\n",
      "9600/9600 [==============================] - 5s 473us/step - loss: 3.1357e-05 - kullback_leibler_divergence: 0.2627 - acc: 0.8866 - val_loss: 3.2029e-05 - val_kullback_leibler_divergence: 0.2645 - val_acc: 0.8781\n"
     ]
    }
   ],
   "source": [
    "sgd = keras.optimizers.SGD(lr = 0.1, momentum = 0.2)\n",
    "\n",
    "autoencoder.compile(loss = 'mse', \n",
    "                    optimizer = 'adam', \n",
    "                    metrics = ['kullback_leibler_divergence', 'acc'])\n",
    "\n",
    "history = autoencoder.fit(train_features,\n",
    "                          train_images_y,\n",
    "                          validation_split = 0.2,\n",
    "                          epochs = 100)"
   ]
  },
  {
   "cell_type": "markdown",
   "metadata": {},
   "source": [
    "### Visualisation"
   ]
  },
  {
   "cell_type": "code",
   "execution_count": 27,
   "metadata": {},
   "outputs": [
    {
     "data": {
      "image/png": "[encoded data removed]",
      "text/plain": [
       "<Figure size 432x288 with 1 Axes>"
      ]
     },
     "metadata": {
      "needs_background": "light"
     },
     "output_type": "display_data"
    },
    {
     "data": {
      "image/png": "[encoded data removed]",
      "text/plain": [
       "<Figure size 432x288 with 1 Axes>"
      ]
     },
     "metadata": {
      "needs_background": "light"
     },
     "output_type": "display_data"
    }
   ],
   "source": [
    "# Plot training & validation accuracy values\n",
    "plt.plot(history.history['acc'])\n",
    "plt.plot(history.history['val_acc'])\n",
    "plt.title('Model accuracy')\n",
    "plt.ylabel('Accuracy')\n",
    "plt.xlabel('Epoch')\n",
    "plt.legend(['Train', 'Test'], loc='upper left')\n",
    "plt.show()\n",
    "\n",
    "# Plot training & validation loss values\n",
    "plt.plot(history.history['loss'])\n",
    "plt.plot(history.history['val_loss'])\n",
    "plt.title('Model loss')\n",
    "plt.ylabel('Loss')\n",
    "plt.xlabel('Epoch')\n",
    "plt.legend(['Train', 'Test'], loc='upper left')\n",
    "plt.show()"
   ]
  },
  {
   "cell_type": "markdown",
   "metadata": {},
   "source": [
    "### Décodage"
   ]
  },
  {
   "cell_type": "markdown",
   "metadata": {},
   "source": [
    "Image reconstruite"
   ]
  },
  {
   "cell_type": "code",
   "execution_count": 28,
   "metadata": {},
   "outputs": [
    {
     "data": {
      "text/plain": [
       "<matplotlib.image.AxesImage at 0x7ff14fb06ed0>"
      ]
     },
     "execution_count": 28,
     "metadata": {},
     "output_type": "execute_result"
    },
    {
     "data": {
      "image/png": "[encoded data removed]",
      "text/plain": [
       "<Figure size 432x288 with 1 Axes>"
      ]
     },
     "metadata": {
      "needs_background": "light"
     },
     "output_type": "display_data"
    }
   ],
   "source": [
    "x_decoded = autoencoder.predict(train_features)\n",
    "imshow(x_decoded[50][0])\n",
    "imgs = concatenate([x_decoded[50][0],train_images_y[50][0], train_images_x[50][0] ])\n",
    "Image.fromarray(imgs).save('exmple_recontr.png')"
   ]
  },
  {
   "cell_type": "markdown",
   "metadata": {},
   "source": [
    "Image original"
   ]
  },
  {
   "cell_type": "code",
   "execution_count": 29,
   "metadata": {},
   "outputs": [
    {
     "data": {
      "text/plain": [
       "<matplotlib.image.AxesImage at 0x7ff14fc96610>"
      ]
     },
     "execution_count": 29,
     "metadata": {},
     "output_type": "execute_result"
    },
    {
     "data": {
      "image/png": "[encoded data removed]",
      "text/plain": [
       "<Figure size 432x288 with 1 Axes>"
      ]
     },
     "metadata": {
      "needs_background": "light"
     },
     "output_type": "display_data"
    }
   ],
   "source": [
    "imshow(train_images_y[50][0])"
   ]
  },
  {
   "cell_type": "markdown",
   "metadata": {},
   "source": [
    "Image donnée en entrée de l'autoencodeur"
   ]
  },
  {
   "cell_type": "code",
   "execution_count": 30,
   "metadata": {},
   "outputs": [
    {
     "data": {
      "text/plain": [
       "<matplotlib.image.AxesImage at 0x7ff14fb3f9d0>"
      ]
     },
     "execution_count": 30,
     "metadata": {},
     "output_type": "execute_result"
    },
    {
     "data": {
      "image/png": "[encoded data removed]",
      "text/plain": [
       "<Figure size 432x288 with 1 Axes>"
      ]
     },
     "metadata": {
      "needs_background": "light"
     },
     "output_type": "display_data"
    }
   ],
   "source": [
    "imshow(train_images_x[50][0])"
   ]
  },
  {
   "cell_type": "code",
   "execution_count": 31,
   "metadata": {},
   "outputs": [
    {
     "data": {
      "image/png": "[encoded data removed]",
      "text/plain": [
       "<Figure size 432x288 with 1 Axes>"
      ]
     },
     "metadata": {
      "needs_background": "light"
     },
     "output_type": "display_data"
    }
   ],
   "source": [
    "from PIL import Image\n",
    "rows, cols = 10, 30\n",
    "num = rows * cols\n",
    "imgs = np.concatenate([train_images_x[:num], train_images_y[:num], x_decoded[:num]])\n",
    "imgs = imgs.reshape((rows * 3, cols, img_size, img_size))\n",
    "imgs = np.vstack(np.split(imgs, rows, axis=1))\n",
    "imgs = imgs.reshape((rows * 3, -1, img_size, img_size))\n",
    "imgs = np.vstack([np.hstack(i) for i in imgs])\n",
    "imgs = (imgs *255 ).astype(np.uint8)\n",
    "plt.figure()\n",
    "plt.axis('off')\n",
    "plt.title('Bras avant commande: top rows, '\n",
    "          'Bras apres commande: middle rows, '\n",
    "          'Reconstruction bras apres commande:  third rows')\n",
    "plt.imshow(imgs, interpolation='none', cmap='gray')\n",
    "Image.fromarray(imgs).save('reconstruction_body_image.png')\n",
    "plt.show()\n"
   ]
  },
  {
   "cell_type": "markdown",
   "metadata": {},
   "source": [
    "### Couches intermédiaires"
   ]
  },
  {
   "cell_type": "code",
   "execution_count": 32,
   "metadata": {},
   "outputs": [],
   "source": [
    "\n",
    "model = encoder  # create the original model\n",
    "\n",
    "layer_name = 'latent_fh4'\n",
    "intermediate_layer_model = Model(inputs=autoencoder.input,\n",
    "                                 outputs=model.get_layer(layer_name).output)\n",
    "intermediate_output = intermediate_layer_model.predict(train_features)\n",
    "\n"
   ]
  },
  {
   "cell_type": "markdown",
   "metadata": {},
   "source": [
    "Les synérgies motrices."
   ]
  },
  {
   "cell_type": "code",
   "execution_count": 33,
   "metadata": {},
   "outputs": [
    {
     "data": {
      "text/plain": [
       "[<matplotlib.lines.Line2D at 0x7ff0e42ff710>]"
      ]
     },
     "execution_count": 33,
     "metadata": {},
     "output_type": "execute_result"
    },
    {
     "data": {
      "image/png": "[encoded data removed]",
      "text/plain": [
       "<Figure size 432x288 with 1 Axes>"
      ]
     },
     "metadata": {
      "needs_background": "light"
     },
     "output_type": "display_data"
    }
   ],
   "source": [
    "plt.plot(intermediate_output[0])"
   ]
  },
  {
   "cell_type": "code",
   "execution_count": 34,
   "metadata": {},
   "outputs": [
    {
     "data": {
      "text/plain": [
       "<matplotlib.image.AxesImage at 0x7ff0e42dcc50>"
      ]
     },
     "execution_count": 34,
     "metadata": {},
     "output_type": "execute_result"
    },
    {
     "data": {
      "image/png": "[encoded data removed]",
      "text/plain": [
       "<Figure size 432x288 with 1 Axes>"
      ]
     },
     "metadata": {
      "needs_background": "light"
     },
     "output_type": "display_data"
    }
   ],
   "source": [
    "imshow(resize(intermediate_output, (109,109)))"
   ]
  },
  {
   "cell_type": "code",
   "execution_count": 35,
   "metadata": {},
   "outputs": [
    {
     "data": {
      "text/plain": [
       "(12000, 64)"
      ]
     },
     "execution_count": 35,
     "metadata": {},
     "output_type": "execute_result"
    }
   ],
   "source": [
    "shape(intermediate_output)"
   ]
  },
  {
   "cell_type": "markdown",
   "metadata": {},
   "source": [
    "### Entraînement de l'autoencodeur alternatif"
   ]
  },
  {
   "cell_type": "code",
   "execution_count": null,
   "metadata": {},
   "outputs": [],
   "source": []
  }
 ],
 "metadata": {
  "kernelspec": {
   "display_name": "Python 2",
   "language": "python",
   "name": "python2"
  },
  "language_info": {
   "codemirror_mode": {
    "name": "ipython",
    "version": 2
   },
   "file_extension": ".py",
   "mimetype": "text/x-python",
   "name": "python",
   "nbconvert_exporter": "python",
   "pygments_lexer": "ipython2",
   "version": "2.7.15rc1"
  }
 },
 "nbformat": 4,
 "nbformat_minor": 2
}
